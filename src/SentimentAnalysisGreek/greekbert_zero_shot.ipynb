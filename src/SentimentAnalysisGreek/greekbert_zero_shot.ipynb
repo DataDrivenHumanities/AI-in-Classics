{
 "cells": [
  {
   "cell_type": "markdown",
   "id": "39ac6444-64f2-445a-8d68-3ff5a1f52446",
   "metadata": {},
   "source": [
    "This is a zero-shot model attempt using luvnpce83/ancient-greek-emotion-bert, which is a fine-tuned form of pranaydeeps/Ancient-Greek-BERT. The model was trained on ancient Greek text, and it is trained to perform 8-class emotion classification on Koine Greek."
   ]
  },
  {
   "cell_type": "code",
   "execution_count": 6,
   "id": "9bdcdcbc-d95b-42b2-a6eb-13e29e271dd6",
   "metadata": {},
   "outputs": [],
   "source": [
    "from transformers import pipeline\n",
    "import pandas as pd"
   ]
  },
  {
   "cell_type": "code",
   "execution_count": 2,
   "id": "ffff74ba-a5a9-4aa9-b735-67b66cf038e7",
   "metadata": {},
   "outputs": [
    {
     "data": {
      "application/vnd.jupyter.widget-view+json": {
       "model_id": "c32e3871f8eb4cab8452e5f3c38fb8ec",
       "version_major": 2,
       "version_minor": 0
      },
      "text/plain": [
       "config.json: 0.00B [00:00, ?B/s]"
      ]
     },
     "metadata": {},
     "output_type": "display_data"
    },
    {
     "name": "stderr",
     "output_type": "stream",
     "text": [
      "C:\\Users\\wills\\dev\\Trojan-Parse-Project\\venv\\lib\\site-packages\\huggingface_hub\\file_download.py:143: UserWarning: `huggingface_hub` cache-system uses symlinks by default to efficiently store duplicated files but your machine does not support them in C:\\Users\\wills\\.cache\\huggingface\\hub\\models--luvnpce83--ancient-greek-emotion-bert. Caching files will still work but in a degraded version that might require more space on your disk. This warning can be disabled by setting the `HF_HUB_DISABLE_SYMLINKS_WARNING` environment variable. For more details, see https://huggingface.co/docs/huggingface_hub/how-to-cache#limitations.\n",
      "To support symlinks on Windows, you either need to activate Developer Mode or to run Python as an administrator. In order to activate developer mode, see this article: https://docs.microsoft.com/en-us/windows/apps/get-started/enable-your-device-for-development\n",
      "  warnings.warn(message)\n",
      "Xet Storage is enabled for this repo, but the 'hf_xet' package is not installed. Falling back to regular HTTP download. For better performance, install the package with: `pip install huggingface_hub[hf_xet]` or `pip install hf_xet`\n"
     ]
    },
    {
     "data": {
      "application/vnd.jupyter.widget-view+json": {
       "model_id": "6ad4be5106c0469d90d4cb6230fd037e",
       "version_major": 2,
       "version_minor": 0
      },
      "text/plain": [
       "model.safetensors:   0%|          | 0.00/452M [00:00<?, ?B/s]"
      ]
     },
     "metadata": {},
     "output_type": "display_data"
    },
    {
     "data": {
      "application/vnd.jupyter.widget-view+json": {
       "model_id": "3d9af1124850432f9644dc5be7793c52",
       "version_major": 2,
       "version_minor": 0
      },
      "text/plain": [
       "tokenizer_config.json: 0.00B [00:00, ?B/s]"
      ]
     },
     "metadata": {},
     "output_type": "display_data"
    },
    {
     "data": {
      "application/vnd.jupyter.widget-view+json": {
       "model_id": "193056e9938e497188c9fa4d95120819",
       "version_major": 2,
       "version_minor": 0
      },
      "text/plain": [
       "vocab.txt: 0.00B [00:00, ?B/s]"
      ]
     },
     "metadata": {},
     "output_type": "display_data"
    },
    {
     "data": {
      "application/vnd.jupyter.widget-view+json": {
       "model_id": "cfe16ab582604d838c726240b5efeeaf",
       "version_major": 2,
       "version_minor": 0
      },
      "text/plain": [
       "tokenizer.json: 0.00B [00:00, ?B/s]"
      ]
     },
     "metadata": {},
     "output_type": "display_data"
    },
    {
     "data": {
      "application/vnd.jupyter.widget-view+json": {
       "model_id": "fc213dffa1874e89bc3c9d620158ad93",
       "version_major": 2,
       "version_minor": 0
      },
      "text/plain": [
       "special_tokens_map.json:   0%|          | 0.00/695 [00:00<?, ?B/s]"
      ]
     },
     "metadata": {},
     "output_type": "display_data"
    },
    {
     "name": "stderr",
     "output_type": "stream",
     "text": [
      "Device set to use cpu\n"
     ]
    }
   ],
   "source": [
    "classifier = pipeline(\n",
    "    \"text-classification\", model=\"luvnpce83/ancient-greek-emotion-bert\"\n",
    ")"
   ]
  },
  {
   "cell_type": "code",
   "execution_count": 3,
   "id": "7a7ac5fb-acf1-49a1-a540-d22914920636",
   "metadata": {},
   "outputs": [
    {
     "name": "stdout",
     "output_type": "stream",
     "text": [
      "[{'label': 'Joy', 'score': 0.9599943161010742}]\n"
     ]
    }
   ],
   "source": [
    "sample_text = \"ἐγώ ὑμᾶς ἐπαινῶ\"\n",
    "result = classifier(sample_text)\n",
    "print(result)"
   ]
  },
  {
   "cell_type": "code",
   "execution_count": 54,
   "id": "3d39837b-7b3c-47c3-80a4-1d8f9b5b9276",
   "metadata": {},
   "outputs": [],
   "source": [
    "def predict_sentiment(df, text_column):\n",
    "    result_list = []\n",
    "    for index, row in df.iterrows():\n",
    "        sequence_to_classify = row[text_column]\n",
    "        result = classifier(\n",
    "            sequence_to_classify\n",
    "        )  # result => list of dictionaries, one dictionary in this case due to csv format\n",
    "        result[0][\"sequence\"] = sequence_to_classify\n",
    "        result_list.append(result[0])\n",
    "    result_df = pd.DataFrame(result_list)\n",
    "    return result_df\n",
    "\n",
    "\n",
    "def predict_sentiment_batch(df, text_column, batch_size):\n",
    "    texts = df[text_column].tolist()\n",
    "    english = df[\"English\"].tolist()\n",
    "    result_list = []\n",
    "\n",
    "    for i in range(0, len(texts), batch_size):\n",
    "        batch = texts[i : i + batch_size]\n",
    "        results = classifier(batch)\n",
    "\n",
    "        j = i\n",
    "        for text, r in zip(batch, results):\n",
    "            result_list.append(\n",
    "                {\n",
    "                    \"sequence\": text,\n",
    "                    \"translation\": english[j],\n",
    "                    \"sentiment\": r[\"label\"],\n",
    "                    \"score\": r[\"score\"],\n",
    "                }\n",
    "            )\n",
    "            j += 1\n",
    "\n",
    "    result_df = pd.DataFrame(result_list)\n",
    "    return result_df"
   ]
  },
  {
   "cell_type": "code",
   "execution_count": 55,
   "id": "b1ce9788-a176-4c1c-96b7-19251a2aeb0b",
   "metadata": {},
   "outputs": [
    {
     "name": "stdout",
     "output_type": "stream",
     "text": [
      "       label     score                           sequence\n",
      "0        Joy  0.959994                    ἐγώ ὑμᾶς ἐπαινῶ\n",
      "1        Joy  0.715231         ὁ στρατιώτης ἐδωκε χρήματα\n",
      "2      Trust  0.981736               ἐγώ οἶδα τούς Ὅρκους\n",
      "3      Trust  0.821070     ὁ ποιητής τόν στρατιώτην τιμᾷ.\n",
      "4      Anger  0.637150  Οἱ κύνες τούς διώκοντας φεύγουσι.\n",
      "5        Joy  0.824887              ἐγραψα την ἐπιστολήν.\n",
      "6        Joy  0.967243                    Δῶρα ἠγαγόμην. \n",
      "7        Joy  0.419573             Βίοτος πολλά διδάσκει.\n",
      "8      Trust  0.542304                 ἡ γυνή ἐστί ἀγαθή.\n",
      "9    Sadness  0.419064         ὁ ποιητής κάλλιστος ἐστὶν.\n",
      "10   Sadness  0.611068          ἡ πόλις γίγνεται πλούσια.\n",
      "11  Surprise  0.985877         το στράτευμα ἐφάνη πάμπολυ\n",
      "12  Surprise  0.329601   μεγάλα τα τόξα τα Περσικά ἐστιν.\n"
     ]
    }
   ],
   "source": [
    "df = pd.read_csv(\"./greek_training_data/greek_sentences.csv\", encoding=\"utf8\")\n",
    "result = predict_sentiment(df, \"text\")\n",
    "print(result)"
   ]
  },
  {
   "cell_type": "markdown",
   "id": "13eabd91-eb4a-4b73-b2ac-67e8f04c2688",
   "metadata": {},
   "source": [
    "On this small sample, high confidence outputs are actually pretty accurate. The biggest outlier is sequence 10 which is labeled sadness despite translating to \"the city becomes rich/prosperous\". There are some other bad labels such as sequence 9, but at least this is low confidence. "
   ]
  },
  {
   "cell_type": "code",
   "execution_count": 56,
   "id": "08fc4a8d-e803-44f8-bf2c-baf92d0c7c12",
   "metadata": {},
   "outputs": [],
   "source": [
    "import warnings\n",
    "\n",
    "warnings.filterwarnings(\n",
    "    \"ignore\", category=UserWarning, module=\"torch.utils.data.dataloader\"\n",
    ")\n",
    "dictionary_df = pd.read_csv(\n",
    "    \"../Lemmatizer-GRK/greek_dictionary/nouns.csv\", encoding=\"utf8\", sep=\"\\t\"\n",
    ")\n",
    "results_df = predict_sentiment_batch(dictionary_df, \"FPP\", 16)\n",
    "# results_df.to_csv(\"./greekBert_sentiment\")"
   ]
  },
  {
   "cell_type": "code",
   "execution_count": 57,
   "id": "ce0bad96-a09c-49b8-9979-59a4fec2e038",
   "metadata": {},
   "outputs": [
    {
     "name": "stdout",
     "output_type": "stream",
     "text": [
      "        sequence                     translation sentiment     score\n",
      "0      αβδηριτης                 a man of Abdera     Trust  0.418732\n",
      "1      αβελτερια   silliness, stupidity, fatuity   Disgust  0.531659\n",
      "2          αβιοι      without a living, starving   Disgust  0.398857\n",
      "3        αβλαβια               freedom from harm       Joy  0.952323\n",
      "4          αβλης                      not thrown      Fear  0.510754\n",
      "...          ...                             ...       ...       ...\n",
      "12585     ωφελιη  help, aid, succour, assistance       Joy  0.642819\n",
      "12586     ωφελημ                        a useful       Joy  0.894010\n",
      "12587   ωφελησις              a helping, aiding;       Joy  0.837792\n",
      "12588      ωχρος               paleness, wanness   Sadness  0.430239\n",
      "12589    ωχροτης                        paleness   Disgust  0.910967\n",
      "\n",
      "[12590 rows x 4 columns]\n"
     ]
    }
   ],
   "source": [
    "print(results_df)\n",
    "results_df.to_csv(\"./emotionBert_sentiment.csv\")"
   ]
  },
  {
   "cell_type": "code",
   "execution_count": null,
   "id": "044b22b1-6327-4688-8541-df15b6451dd1",
   "metadata": {},
   "outputs": [],
   "source": []
  }
 ],
 "metadata": {
  "kernelspec": {
   "display_name": "Python (venv2)",
   "language": "python",
   "name": "venv"
  },
  "language_info": {
   "codemirror_mode": {
    "name": "ipython",
    "version": 3
   },
   "file_extension": ".py",
   "mimetype": "text/x-python",
   "name": "python",
   "nbconvert_exporter": "python",
   "pygments_lexer": "ipython3",
   "version": "3.10.0"
  }
 },
 "nbformat": 4,
 "nbformat_minor": 5
}
