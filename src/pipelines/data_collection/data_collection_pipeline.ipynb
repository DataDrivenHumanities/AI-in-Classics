{
 "cells": [
  {
   "cell_type": "markdown",
   "metadata": {},
   "source": [
    "# Data Collection Pipeline"
   ]
  },
  {
   "cell_type": "markdown",
   "metadata": {},
   "source": [
    "Seek out as many books, chapter, sections, sentences, etc. from each URN."
   ]
  },
  {
   "cell_type": "markdown",
   "metadata": {},
   "source": [
    "## Initial Setup"
   ]
  },
  {
   "cell_type": "markdown",
   "metadata": {},
   "source": [
    "Import other required modules."
   ]
  },
  {
   "cell_type": "code",
   "execution_count": null,
   "metadata": {},
   "outputs": [],
   "source": [
    "import csv, multiprocess as mp, numpy as np, os, pandas as pd, re, requests, string, tqdm\n",
    "from dotenv import load_dotenv\n",
    "from itertools import count\n",
    "from pprint import pprint\n",
    "from termcolor import colored, cprint"
   ]
  },
  {
   "cell_type": "markdown",
   "metadata": {},
   "source": [
    "Use caching."
   ]
  },
  {
   "cell_type": "code",
   "execution_count": null,
   "metadata": {},
   "outputs": [],
   "source": [
    "import ipycache\n",
    "from IPython.utils.traitlets import Unicode\n",
    "%load_ext ipycache"
   ]
  },
  {
   "cell_type": "markdown",
   "metadata": {},
   "source": [
    "Configurations."
   ]
  },
  {
   "cell_type": "code",
   "execution_count": null,
   "metadata": {},
   "outputs": [],
   "source": [
    "# print coloring options\n",
    "line_color = 'green'\n",
    "text_color = 'magenta'\n",
    "reference_color = 'white'"
   ]
  },
  {
   "cell_type": "markdown",
   "metadata": {},
   "source": [
    "Load environment variables from .env file."
   ]
  },
  {
   "cell_type": "code",
   "execution_count": null,
   "metadata": {},
   "outputs": [],
   "source": [
    "load_dotenv()\n",
    "metadata_path=os.getenv(key='metadata_path')\n",
    "metadata_df_path=os.getenv(key='metadata_df_path')\n",
    "corpus_path=os.getenv(key='corpus_path')\n",
    "corpus_normalized_path=os.getenv(key='corpus_normalized_path')\n",
    "\n",
    "cprint(text='-' * 100, color=line_color)\n",
    "cprint(text=f'Metadata path: {metadata_path}', color=text_color)\n",
    "cprint(text=f'Metadata dataframe path: {metadata_df_path}', color=text_color)\n",
    "cprint(text=f'Corpus path: {corpus_path}', color=text_color)\n",
    "cprint(text=f'Corpus normalized path: {corpus_normalized_path}', color=text_color)"
   ]
  },
  {
   "cell_type": "markdown",
   "metadata": {},
   "source": [
    "## Load Metadata"
   ]
  },
  {
   "cell_type": "markdown",
   "metadata": {},
   "source": [
    "Load metadata for First1KGreek project."
   ]
  },
  {
   "cell_type": "code",
   "execution_count": null,
   "metadata": {},
   "outputs": [],
   "source": [
    "metadata_df = None\n",
    "\n",
    "try:\n",
    "    metadata_df = pickle.load(file=open(file=metadata_df_path, mode='rb'))['metadata_df']\n",
    "\n",
    "except:\n",
    "    metadata_csv_reader = csv.reader(open(file=metadata_path, mode='r', encoding='utf-8'))\n",
    "    columns = next(metadata_csv_reader)\n",
    "    metadata_df = pd.DataFrame(\n",
    "        data=np.asarray(a=list(metadata_csv_reader)),\n",
    "        columns=columns\n",
    "    )\n",
    "\n",
    "cprint(text='-' * 100, color=line_color)\n",
    "cprint(text='metadata_df:', color=text_color)\n",
    "cprint(text='-' * 100, color=line_color)"
   ]
  },
  {
   "cell_type": "code",
   "execution_count": null,
   "metadata": {
    "scrolled": true
   },
   "outputs": [],
   "source": [
    "metadata_df"
   ]
  },
  {
   "cell_type": "raw",
   "metadata": {},
   "source": [
    "%%cache metadata_df.pkl metadata_df --force\n",
    "metadata_df"
   ]
  },
  {
   "cell_type": "markdown",
   "metadata": {},
   "source": [
    "## Import Data"
   ]
  },
  {
   "cell_type": "markdown",
   "metadata": {},
   "source": [
    "Import text."
   ]
  },
  {
   "cell_type": "markdown",
   "metadata": {},
   "source": [
    "### *From URN*"
   ]
  },
  {
   "cell_type": "code",
   "execution_count": null,
   "metadata": {},
   "outputs": [],
   "source": [
    "def load_urn(urn: str):\n",
    "    \"\"\"\n",
    "    Load text from URN.\n",
    "\n",
    "    Parameters:\n",
    "        urn (str): URN link that identifies specific work.\n",
    "\n",
    "    Returns:\n",
    "        str: Text loaded from URI.\n",
    "    \"\"\"\n",
    "    if not re.search(pattern='.+:\\d+(\\.\\d+)*$', string=urn):\n",
    "        urn += ':1'\n",
    "    \n",
    "    uri = f'https://scaife.perseus.org/library/passage/{urn}/text/'\n",
    "    req = requests.get(url=uri)\n",
    "    return req.text\n",
    "\n",
    "urn = 'urn:cts:greekLit:stoa0146d.stoa001.opp-lat1'\n",
    "text = load_urn(urn=urn)\n",
    "url = f'https://scaife.perseus.org/library/passage/{metadata_df.at[0, \"URL\"].split(\"/\")[-2]}/text/'\n",
    "cprint(text='-' * 100, color=line_color)\n",
    "cprint(text='Loading from URN:', color=text_color)\n",
    "cprint(text=urn, color=reference_color)\n",
    "cprint(text=url, color=text_color)\n",
    "cprint(text='-' * 100, color=line_color)\n",
    "cprint(text=text, color=text_color)"
   ]
  },
  {
   "cell_type": "markdown",
   "metadata": {},
   "source": [
    "Finding ppotential sections of the same work by guessing URLs to individual sections."
   ]
  },
  {
   "cell_type": "code",
   "execution_count": null,
   "metadata": {},
   "outputs": [],
   "source": [
    "def get_sections_from_urn(urn: str, limit: int=None):\n",
    "    \"\"\"\n",
    "    Get all first-level sections of a text identified by the URN.\n",
    "    \n",
    "    Parameters:\n",
    "        urn (str): URN link that identifies specific work.\n",
    "        limit (int): The number of sections to extract from URN. Defaults to None. If None, all available sections are extracted.\n",
    "    \n",
    "    Returns:\n",
    "        Iterable[Tuple]: Iterable of the section number, URN, and URL of work. \n",
    "    \"\"\"\n",
    "#     if __debug__:\n",
    "#         cprint(text='-' * 100, color=line_color)\n",
    "#         cprint(text='URN:', color=text_color)\n",
    "#         cprint(text='-' * 100, color=line_color)\n",
    "    pprint(urn)\n",
    "    \n",
    "    section_data = list()\n",
    "    for section in count(start=1, step=1):    \n",
    "        potential_uri = f'https://scaife.perseus.org/library/passage/{urn}:{section}/text/'\n",
    "        redirected_uri = requests.get(url=potential_uri).url\n",
    "\n",
    "#         if __debug__:\n",
    "#             cprint(text='-' * 100, color=line_color)\n",
    "#             cprint(text='Potential and redirected URIs:', color=text_color)\n",
    "#             cprint(text='-' * 100, color=line_color)\n",
    "#             pprint(potential_uri)\n",
    "#             pprint(redirected_uri)\n",
    "        \n",
    "        if potential_uri != redirected_uri:\n",
    "            break\n",
    "        elif limit is not None and section > limit:\n",
    "            break\n",
    "        \n",
    "        section_url = f'https://scaife.perseus.org/reader/{urn}:{section}/'\n",
    "\n",
    "#         if __debug__:\n",
    "#             cprint(text='-' * 100, color=line_color)\n",
    "#             cprint(text='Section URL:', color=text_color)\n",
    "#             cprint(text='-' * 100, color=line_color)\n",
    "#             pprint(section_url)\n",
    "        \n",
    "        # appending URL of section of text to collected dataata\n",
    "        section_data.append((section, tup.URN, section_url,))\n",
    "    \n",
    "        pprint(section)\n",
    "    return np.asarray(a=section_data, dtype=tuple)"
   ]
  },
  {
   "cell_type": "raw",
   "metadata": {},
   "source": [
    "pool = mp.Pool(processes=64)\n",
    "data_by_urn = pool.starmap(\n",
    "    func=get_sections_from_urn,\n",
    "    iterable=tqdm.tqdm(np.asarray(a=list([(tup.URN, 5) for tup in list(metadata_df.itertuples())])))                \n",
    ")\n",
    "pool.close()"
   ]
  },
  {
   "cell_type": "code",
   "execution_count": null,
   "metadata": {
    "scrolled": false
   },
   "outputs": [],
   "source": [
    "data_by_urn = list()\n",
    "for tup in tqdm.tqdm(metadata_df.itertuples()):\n",
    "    data_by_urn.append(get_sections_from_urn(urn=tup.URN, limit=5))"
   ]
  },
  {
   "cell_type": "markdown",
   "metadata": {},
   "source": [
    "Removing any URN groups with no numerical-based sections in its URLs."
   ]
  },
  {
   "cell_type": "code",
   "execution_count": null,
   "metadata": {},
   "outputs": [],
   "source": [
    "data_by_urn = np.asarray(a=[\n",
    "    np.asarray(a=[section_group for section_group in urn_group if len(section_group) == 3])\n",
    "                                 for urn_group in data_by_urn if len(urn_group) > 0])\n",
    "len(data_by_urn)"
   ]
  },
  {
   "cell_type": "code",
   "execution_count": null,
   "metadata": {},
   "outputs": [],
   "source": [
    "data = np.vstack(tup=data_by_urn)\n",
    "columns = np.asarray(a=list(['Section', 'URN', 'URL']))\n",
    "section_df = pd.DataFrame(\n",
    "    data=data,\n",
    "    columns=columns\n",
    ")"
   ]
  },
  {
   "cell_type": "code",
   "execution_count": null,
   "metadata": {},
   "outputs": [],
   "source": [
    "section_df"
   ]
  },
  {
   "cell_type": "raw",
   "metadata": {},
   "source": [
    "%%cache section_df.pkl section_df --force\n",
    "section_df"
   ]
  },
  {
   "cell_type": "code",
   "execution_count": null,
   "metadata": {},
   "outputs": [],
   "source": []
  }
 ],
 "metadata": {
  "kernelspec": {
   "display_name": "Python 3 (ipykernel)",
   "language": "python",
   "name": "python3"
  },
  "language_info": {
   "codemirror_mode": {
    "name": "ipython",
    "version": 3
   },
   "file_extension": ".py",
   "mimetype": "text/x-python",
   "name": "python",
   "nbconvert_exporter": "python",
   "pygments_lexer": "ipython3",
   "version": "3.9.5"
  },
  "latex_envs": {
   "LaTeX_envs_menu_present": true,
   "autoclose": false,
   "autocomplete": true,
   "bibliofile": "biblio.bib",
   "cite_by": "apalike",
   "current_citInitial": 1,
   "eqLabelWithNumbers": true,
   "eqNumInitial": 1,
   "hotkeys": {
    "equation": "Ctrl-E",
    "itemize": "Ctrl-I"
   },
   "labels_anchors": false,
   "latex_user_defs": false,
   "report_style_numbering": false,
   "user_envs_cfg": false
  }
 },
 "nbformat": 4,
 "nbformat_minor": 4
}
