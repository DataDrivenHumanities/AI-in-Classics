{
 "cells": [
  {
   "cell_type": "markdown",
   "metadata": {},
   "source": [
    "# Data Collection Pipeline"
   ]
  },
  {
   "cell_type": "markdown",
   "metadata": {},
   "source": [
    "Seek out as many books, chapter, sections, sentences, etc. from each URN."
   ]
  },
  {
   "cell_type": "markdown",
   "metadata": {},
   "source": [
    "## Initial Setup"
   ]
  },
  {
   "cell_type": "markdown",
   "metadata": {},
   "source": [
    "Import other required modules."
   ]
  },
  {
   "cell_type": "code",
   "execution_count": 1,
   "metadata": {},
   "outputs": [],
   "source": [
    "import csv, multiprocessing as mp, numpy as np, os, pandas as pd, re, requests, string, tqdm\n",
    "from dotenv import load_dotenv\n",
    "from itertools import count\n",
    "from pprint import pprint\n",
    "from termcolor import colored, cprint"
   ]
  },
  {
   "cell_type": "markdown",
   "metadata": {},
   "source": [
    "Use caching."
   ]
  },
  {
   "cell_type": "code",
   "execution_count": 2,
   "metadata": {},
   "outputs": [
    {
     "ename": "ModuleNotFoundError",
     "evalue": "No module named 'IPython.config'",
     "output_type": "error",
     "traceback": [
      "\u001b[0;31m---------------------------------------------------------------------------\u001b[0m",
      "\u001b[0;31mModuleNotFoundError\u001b[0m                       Traceback (most recent call last)",
      "Cell \u001b[0;32mIn [2], line 1\u001b[0m\n\u001b[0;32m----> 1\u001b[0m \u001b[38;5;28;01mimport\u001b[39;00m \u001b[38;5;21;01mipycache\u001b[39;00m\n\u001b[1;32m      2\u001b[0m \u001b[38;5;28;01mfrom\u001b[39;00m \u001b[38;5;21;01mIPython\u001b[39;00m\u001b[38;5;21;01m.\u001b[39;00m\u001b[38;5;21;01mutils\u001b[39;00m\u001b[38;5;21;01m.\u001b[39;00m\u001b[38;5;21;01mtraitlets\u001b[39;00m \u001b[38;5;28;01mimport\u001b[39;00m Unicode\n\u001b[1;32m      3\u001b[0m get_ipython()\u001b[38;5;241m.\u001b[39mrun_line_magic(\u001b[38;5;124m'\u001b[39m\u001b[38;5;124mload_ext\u001b[39m\u001b[38;5;124m'\u001b[39m, \u001b[38;5;124m'\u001b[39m\u001b[38;5;124mipycache\u001b[39m\u001b[38;5;124m'\u001b[39m)\n",
      "File \u001b[0;32m/mnt/c/share/AI-in-Classics/venv/lib/python3.10/site-packages/ipycache.py:14\u001b[0m\n\u001b[1;32m     11\u001b[0m \u001b[39mimport\u001b[39;00m \u001b[39minspect\u001b[39;00m\u001b[39m,\u001b[39m \u001b[39mos\u001b[39;00m\u001b[39m,\u001b[39m \u001b[39msys\u001b[39;00m\u001b[39m,\u001b[39m \u001b[39mtextwrap\u001b[39;00m\u001b[39m,\u001b[39m \u001b[39mpickle\u001b[39;00m\n\u001b[1;32m     13\u001b[0m \u001b[39m# Our own\u001b[39;00m\n\u001b[0;32m---> 14\u001b[0m \u001b[39mfrom\u001b[39;00m \u001b[39mIPython\u001b[39;00m\u001b[39m.\u001b[39;00m\u001b[39mconfig\u001b[39;00m\u001b[39m.\u001b[39;00m\u001b[39mconfigurable\u001b[39;00m \u001b[39mimport\u001b[39;00m Configurable\n\u001b[1;32m     15\u001b[0m \u001b[39mfrom\u001b[39;00m \u001b[39mIPython\u001b[39;00m\u001b[39m.\u001b[39;00m\u001b[39mcore\u001b[39;00m \u001b[39mimport\u001b[39;00m magic_arguments\n\u001b[1;32m     16\u001b[0m \u001b[39mfrom\u001b[39;00m \u001b[39mIPython\u001b[39;00m\u001b[39m.\u001b[39;00m\u001b[39mcore\u001b[39;00m\u001b[39m.\u001b[39;00m\u001b[39mmagic\u001b[39;00m \u001b[39mimport\u001b[39;00m Magics, magics_class, line_magic, cell_magic\n",
      "\u001b[0;31mModuleNotFoundError\u001b[0m: No module named 'IPython.config'"
     ]
    }
   ],
   "source": [
    "import ipycache\n",
    "from IPython.utils.traitlets import Unicode\n",
    "%load_ext ipycache"
   ]
  },
  {
   "cell_type": "markdown",
   "metadata": {},
   "source": [
    "Configurations."
   ]
  },
  {
   "cell_type": "code",
   "execution_count": 3,
   "metadata": {},
   "outputs": [],
   "source": [
    "# print coloring options\n",
    "line_color = 'green'\n",
    "text_color = 'magenta'\n",
    "reference_color = 'white'"
   ]
  },
  {
   "cell_type": "markdown",
   "metadata": {},
   "source": [
    "Load environment variables from .env file."
   ]
  },
  {
   "cell_type": "code",
   "execution_count": 4,
   "metadata": {},
   "outputs": [
    {
     "name": "stdout",
     "output_type": "stream",
     "text": [
      "\u001b[32m----------------------------------------------------------------------------------------------------\u001b[0m\n",
      "\u001b[35mMetadata path: /mnt/c/share/AI-in-Classics/src/metadata.csv\u001b[0m\n",
      "\u001b[35mMetadata dataframe path: /mnt/c/share/AI-in-Classics/src/metadata_df.csv\u001b[0m\n",
      "\u001b[35mFull texts path: /mnt/c/share/AI-in-Classics/src/pipelines/data_collection/full_texts/\u001b[0m\n",
      "\u001b[35mFull texts normalized path: None\u001b[0m\n"
     ]
    }
   ],
   "source": [
    "load_dotenv()\n",
    "metadata_path=os.getenv(key='METADATA_PATH')\n",
    "metadata_df_path=os.getenv(key='METADATA_DF_PATH')\n",
    "full_texts_path=os.getenv(key='FULL_TEXTS_PATH')\n",
    "full_texts_normalized_path=os.getenv(key='FULL_TEXTS_NORMALIZED_PATH')\n",
    "\n",
    "\n",
    "cprint(text='-' * 100, color=line_color)\n",
    "cprint(text=f'Metadata path: {metadata_path}', color=text_color)\n",
    "cprint(text=f'Metadata dataframe path: {metadata_df_path}', color=text_color)\n",
    "cprint(text=f'Full texts path: {full_texts_path}', color=text_color)\n",
    "cprint(text=f'Full texts normalized path: {full_texts_normalized_path}', color=text_color)"
   ]
  },
  {
   "cell_type": "markdown",
   "metadata": {},
   "source": [
    "## Load Metadata"
   ]
  },
  {
   "cell_type": "markdown",
   "metadata": {},
   "source": [
    "Load metadata for First1KGreek project."
   ]
  },
  {
   "cell_type": "code",
   "execution_count": 5,
   "metadata": {},
   "outputs": [
    {
     "name": "stdout",
     "output_type": "stream",
     "text": [
      "\u001b[32m----------------------------------------------------------------------------------------------------\u001b[0m\n",
      "\u001b[35mmetadata_df:\u001b[0m\n",
      "\u001b[32m----------------------------------------------------------------------------------------------------\u001b[0m\n"
     ]
    }
   ],
   "source": [
    "metadata_df = None\n",
    "\n",
    "try:\n",
    "    metadata_df = pickle.load(file=open(file=metadata_df_path, mode='rb'))['metadata_df']\n",
    "\n",
    "except:\n",
    "    metadata_csv_reader = csv.reader(open(file=metadata_path, mode='r', encoding='utf-8'))\n",
    "    columns = next(metadata_csv_reader)\n",
    "    metadata_df = pd.DataFrame(\n",
    "        data=np.asarray(a=list(metadata_csv_reader)),\n",
    "        columns=columns\n",
    "    )\n",
    "\n",
    "cprint(text='-' * 100, color=line_color)\n",
    "cprint(text='metadata_df:', color=text_color)\n",
    "cprint(text='-' * 100, color=line_color)"
   ]
  },
  {
   "cell_type": "code",
   "execution_count": 6,
   "metadata": {
    "scrolled": true
   },
   "outputs": [
    {
     "data": {
      "text/html": [
       "<div>\n",
       "<style scoped>\n",
       "    .dataframe tbody tr th:only-of-type {\n",
       "        vertical-align: middle;\n",
       "    }\n",
       "\n",
       "    .dataframe tbody tr th {\n",
       "        vertical-align: top;\n",
       "    }\n",
       "\n",
       "    .dataframe thead th {\n",
       "        text-align: right;\n",
       "    }\n",
       "</style>\n",
       "<table border=\"1\" class=\"dataframe\">\n",
       "  <thead>\n",
       "    <tr style=\"text-align: right;\">\n",
       "      <th></th>\n",
       "      <th></th>\n",
       "      <th>Workgroup</th>\n",
       "      <th>Work</th>\n",
       "      <th>Language</th>\n",
       "      <th>Words</th>\n",
       "      <th>URN</th>\n",
       "      <th>URL</th>\n",
       "    </tr>\n",
       "  </thead>\n",
       "  <tbody>\n",
       "    <tr>\n",
       "      <th>0</th>\n",
       "      <td>0</td>\n",
       "      <td>Anonymous</td>\n",
       "      <td>Anametresis Pontou</td>\n",
       "      <td>grc,lat,deu</td>\n",
       "      <td>374</td>\n",
       "      <td>urn:cts:greekLit:ggm0001.ggm001.1st1K-grc1</td>\n",
       "      <td>https://scaife.perseus.org/reader/urn:cts:gree...</td>\n",
       "    </tr>\n",
       "    <tr>\n",
       "      <th>1</th>\n",
       "      <td>1</td>\n",
       "      <td></td>\n",
       "      <td>Isaias</td>\n",
       "      <td>lat,eng</td>\n",
       "      <td>36226</td>\n",
       "      <td>urn:cts:hebrewlit:heb0001.heb010.1st1K-eng1</td>\n",
       "      <td>https://scaife.perseus.org/reader/urn:cts:hebr...</td>\n",
       "    </tr>\n",
       "    <tr>\n",
       "      <th>2</th>\n",
       "      <td>2</td>\n",
       "      <td>Pinytus</td>\n",
       "      <td>De Epistola Pinyti ad Dionysium</td>\n",
       "      <td>grc,lat</td>\n",
       "      <td>162</td>\n",
       "      <td>urn:cts:greekLit:ogl0001.ogl001.1st1K-grc1</td>\n",
       "      <td>https://scaife.perseus.org/reader/urn:cts:gree...</td>\n",
       "    </tr>\n",
       "    <tr>\n",
       "      <th>3</th>\n",
       "      <td>3</td>\n",
       "      <td>pseudo-Aristotle</td>\n",
       "      <td>De mundo</td>\n",
       "      <td>grc</td>\n",
       "      <td>6446</td>\n",
       "      <td>urn:cts:greekLit:stoa0033a.tlg028.1st1K-grc1</td>\n",
       "      <td>https://scaife.perseus.org/reader/urn:cts:gree...</td>\n",
       "    </tr>\n",
       "    <tr>\n",
       "      <th>4</th>\n",
       "      <td>4</td>\n",
       "      <td>pseudo-Aristotle</td>\n",
       "      <td>De spiritu</td>\n",
       "      <td>grc</td>\n",
       "      <td>3460</td>\n",
       "      <td>urn:cts:greekLit:stoa0033a.tlg043.1st1K-grc1</td>\n",
       "      <td>https://scaife.perseus.org/reader/urn:cts:gree...</td>\n",
       "    </tr>\n",
       "    <tr>\n",
       "      <th>...</th>\n",
       "      <td>...</td>\n",
       "      <td>...</td>\n",
       "      <td>...</td>\n",
       "      <td>...</td>\n",
       "      <td>...</td>\n",
       "      <td>...</td>\n",
       "      <td>...</td>\n",
       "    </tr>\n",
       "    <tr>\n",
       "      <th>974</th>\n",
       "      <td>974</td>\n",
       "      <td>Scholia in Sophoclem</td>\n",
       "      <td>Scholia in Sophoclem (scholia vetera)</td>\n",
       "      <td>grc,lat</td>\n",
       "      <td>89341</td>\n",
       "      <td>urn:cts:greekLit:tlg5037.tlg004.1st1K-grc1</td>\n",
       "      <td>https://scaife.perseus.org/reader/urn:cts:gree...</td>\n",
       "    </tr>\n",
       "    <tr>\n",
       "      <th>975</th>\n",
       "      <td>975</td>\n",
       "      <td>Anonymi In Aristotelis Librum Alterum Analytic...</td>\n",
       "      <td>Anonymi in analyticorum posteriorum librum alt...</td>\n",
       "      <td>grc,lat</td>\n",
       "      <td>25619</td>\n",
       "      <td>urn:cts:greekLit:tlg9004.tlg001.opp-grc1</td>\n",
       "      <td>https://scaife.perseus.org/reader/urn:cts:gree...</td>\n",
       "    </tr>\n",
       "    <tr>\n",
       "      <th>976</th>\n",
       "      <td>976</td>\n",
       "      <td></td>\n",
       "      <td>Libanius Opera</td>\n",
       "      <td>lat</td>\n",
       "      <td>7534</td>\n",
       "      <td>urn:cts:greekLit:tlg9006.tlg011.opp-grc1</td>\n",
       "      <td>https://scaife.perseus.org/reader/urn:cts:gree...</td>\n",
       "    </tr>\n",
       "    <tr>\n",
       "      <th>977</th>\n",
       "      <td>977</td>\n",
       "      <td>Suda</td>\n",
       "      <td>Suidae lexicon</td>\n",
       "      <td>grc,lat</td>\n",
       "      <td>821723</td>\n",
       "      <td>urn:cts:greekLit:tlg9010.tlg001.1st1K-grc1</td>\n",
       "      <td>https://scaife.perseus.org/reader/urn:cts:gree...</td>\n",
       "    </tr>\n",
       "    <tr>\n",
       "      <th>978</th>\n",
       "      <td>978</td>\n",
       "      <td>Stephanus of Alexandria</td>\n",
       "      <td>In Aristotelis librum de interpretatione comme...</td>\n",
       "      <td>grc,lat</td>\n",
       "      <td>31310</td>\n",
       "      <td>urn:cts:greekLit:tlg9019.tlg001.opp-grc1</td>\n",
       "      <td>https://scaife.perseus.org/reader/urn:cts:gree...</td>\n",
       "    </tr>\n",
       "  </tbody>\n",
       "</table>\n",
       "<p>979 rows × 7 columns</p>\n",
       "</div>"
      ],
      "text/plain": [
       "                                                  Workgroup  \\\n",
       "0      0                                          Anonymous   \n",
       "1      1                                                      \n",
       "2      2                                            Pinytus   \n",
       "3      3                                   pseudo-Aristotle   \n",
       "4      4                                   pseudo-Aristotle   \n",
       "..   ...                                                ...   \n",
       "974  974                               Scholia in Sophoclem   \n",
       "975  975  Anonymi In Aristotelis Librum Alterum Analytic...   \n",
       "976  976                                                      \n",
       "977  977                                               Suda   \n",
       "978  978                            Stephanus of Alexandria   \n",
       "\n",
       "                                                  Work     Language   Words  \\\n",
       "0                                   Anametresis Pontou  grc,lat,deu     374   \n",
       "1                                               Isaias      lat,eng   36226   \n",
       "2                      De Epistola Pinyti ad Dionysium      grc,lat     162   \n",
       "3                                             De mundo          grc    6446   \n",
       "4                                           De spiritu          grc    3460   \n",
       "..                                                 ...          ...     ...   \n",
       "974              Scholia in Sophoclem (scholia vetera)      grc,lat   89341   \n",
       "975  Anonymi in analyticorum posteriorum librum alt...      grc,lat   25619   \n",
       "976                                     Libanius Opera          lat    7534   \n",
       "977                                     Suidae lexicon      grc,lat  821723   \n",
       "978  In Aristotelis librum de interpretatione comme...      grc,lat   31310   \n",
       "\n",
       "                                              URN  \\\n",
       "0      urn:cts:greekLit:ggm0001.ggm001.1st1K-grc1   \n",
       "1     urn:cts:hebrewlit:heb0001.heb010.1st1K-eng1   \n",
       "2      urn:cts:greekLit:ogl0001.ogl001.1st1K-grc1   \n",
       "3    urn:cts:greekLit:stoa0033a.tlg028.1st1K-grc1   \n",
       "4    urn:cts:greekLit:stoa0033a.tlg043.1st1K-grc1   \n",
       "..                                            ...   \n",
       "974    urn:cts:greekLit:tlg5037.tlg004.1st1K-grc1   \n",
       "975      urn:cts:greekLit:tlg9004.tlg001.opp-grc1   \n",
       "976      urn:cts:greekLit:tlg9006.tlg011.opp-grc1   \n",
       "977    urn:cts:greekLit:tlg9010.tlg001.1st1K-grc1   \n",
       "978      urn:cts:greekLit:tlg9019.tlg001.opp-grc1   \n",
       "\n",
       "                                                   URL  \n",
       "0    https://scaife.perseus.org/reader/urn:cts:gree...  \n",
       "1    https://scaife.perseus.org/reader/urn:cts:hebr...  \n",
       "2    https://scaife.perseus.org/reader/urn:cts:gree...  \n",
       "3    https://scaife.perseus.org/reader/urn:cts:gree...  \n",
       "4    https://scaife.perseus.org/reader/urn:cts:gree...  \n",
       "..                                                 ...  \n",
       "974  https://scaife.perseus.org/reader/urn:cts:gree...  \n",
       "975  https://scaife.perseus.org/reader/urn:cts:gree...  \n",
       "976  https://scaife.perseus.org/reader/urn:cts:gree...  \n",
       "977  https://scaife.perseus.org/reader/urn:cts:gree...  \n",
       "978  https://scaife.perseus.org/reader/urn:cts:gree...  \n",
       "\n",
       "[979 rows x 7 columns]"
      ]
     },
     "execution_count": 6,
     "metadata": {},
     "output_type": "execute_result"
    }
   ],
   "source": [
    "metadata_df"
   ]
  },
  {
   "cell_type": "raw",
   "metadata": {},
   "source": [
    "%%cache metadata_df.pkl metadata_df --force\n",
    "metadata_df"
   ]
  },
  {
   "cell_type": "markdown",
   "metadata": {},
   "source": [
    "## Import Data"
   ]
  },
  {
   "cell_type": "markdown",
   "metadata": {},
   "source": [
    "Import text."
   ]
  },
  {
   "cell_type": "markdown",
   "metadata": {},
   "source": [
    "### *From URN*"
   ]
  },
  {
   "cell_type": "code",
   "execution_count": 7,
   "metadata": {},
   "outputs": [],
   "source": [
    "def load_urn(urn: str):\n",
    "    \"\"\"\n",
    "    Load text from URN.\n",
    "\n",
    "    Parameters:\n",
    "        urn (str): URN link that identifies specific work.\n",
    "\n",
    "    Returns:\n",
    "        str: Text loaded from URI.\n",
    "    \"\"\"\n",
    "    if not re.search(pattern='.+:\\d+(\\.\\d+)*$', string=urn):\n",
    "        urn += ':1'\n",
    "    \n",
    "    uri = f'https://scaife.perseus.org/library/passage/{urn}/text/'\n",
    "    req = requests.get(url=uri)\n",
    "    return req.text"
   ]
  },
  {
   "cell_type": "code",
   "execution_count": 8,
   "metadata": {},
   "outputs": [
    {
     "name": "stdout",
     "output_type": "stream",
     "text": [
      "\u001b[32m----------------------------------------------------------------------------------------------------\u001b[0m\n",
      "\u001b[35mLoading from URN:\u001b[0m\n",
      "\u001b[37murn:cts:greekLit:stoa0146d.stoa001.opp-lat1\u001b[0m\n",
      "\u001b[35mhttps://scaife.perseus.org/library/passage/urn:cts:greekLit:ggm0001.ggm001.1st1K-grc1:1.1/text/\u001b[0m\n",
      "\u001b[32m----------------------------------------------------------------------------------------------------\u001b[0m\n",
      "\u001b[35mACTA ARCHELAI. Thesaurus verus sive disputatio habita in Carcharis eiTitate Mesopotamiae\n",
      "Archelai episeopi adversus Manen, Judicantibus Manippo et\n",
      "Aegialeo et Clandio et Cleobolo. In qua urbe erat quidani vir Marcellus \n",
      " nomine qui vita et studiis et genere, prudentia quoque et honestate\n",
      "valde clanis habebatnr; faeultatibus etiam copiosus et quoii\n",
      "omnium maximiim est, religiosiasime deum timens, et his quae de\n",
      "Christo dicebantur semper cum timore auscultans, nec quicquam omnino\n",
      "honi erat quod illi viro deesset; unde et honore plurimo ab nniversa \n",
      " eivitate colebatnr plnrimisque ipse civitatem suam freqiienter largitionibus\n",
      "remunerabatur, paiiperibus tribuens, adfticts relevans, tribulatis\n",
      "auxilium ferens, Sed ne infirmitate verborum virtutibns viri derogemus\n",
      "potius quam digna proferamus, haec diitisse sufficiat; ad opus quod\n",
      "propositum est reniam. Qiiodam in tempore cum Archelao episcopo \n",
      " captivomm multitudo fuisset oblata a militibus qui ibi castra servabant,\n",
      "Septem milia numero et aeptingenti, non mediocris eum solHcitudo constrinxerat,\n",
      "eo quod pro salute ipsorum aurura a militibus posceretiir;\n",
      "quique cum dissimulare non posset, pro religiono et timore dei vehementer\n",
      "aestuabat et, tandem ad Mareellum properana, rei geatae negotium\n",
      " exponit. Verum ut baec audivit piissimus Marcellus, nihil omnino \n",
      " CM \n",
      " 1 Dispatatio archelay et manychei (rot) vel manee scripta ab emogenio presbytero\n",
      "mn xtrei SrkreUiem des XIV. Jahrhunderts geschriben C. Indpit Altercatdo Sancti Arcbelay episeopi mesopotAmie cum maledicto Manicbeo heratico abi\n",
      "didtur et de condicione et de doctrina et de flne ipsios maledicti manichei (rot)\n",
      "M | 2 carcharis] zu carchar durch Ras. corr. C charcharis M, vgl. vgl. 4; 4; auch bei\n",
      "den Griechen ist die Form dieses Wortes unsicher; bei Epiphanius findet die\n",
      "Formen Kaσχάρων und Καλχάρων, bei Photius Kαρχάρων, bei Oyrill und Socrates\n",
      "Kασχάρων, bei dem Auctor anonymus libelli synodici (s. Einleituny) Kαχάρων |\n",
      "3 archelai eiiiscopi adveraus manen < C rielkicht mit Recht | adverans] uenns\n",
      "a Rae. M | 4 egealeo M; rgl. fiir diese Namen 23, 9–11 | cleobulo Μ | nach\n",
      "urbe + meBopotamie C | 6 abscaltana M | quicqaam] c a. Ras. w. e. sch. C |\n",
      "11 remunerabat Μ Ι 13 nach sufBdat + ut M | 14 ueniamuB Μ | 18 qni C \n",
      " 19 rei gestae] omne (aus omaem corr. M2) M | 20 ut vero M | nach\n",
      "audiuit + uir C \n",
      "\n",
      " \n",
      "moratns, iagreditur domam pnveparans pretia captiyorom qnantacnmque\n",
      "poposcissent qui dedaxerant Tinotoa, et contnuo, reseratis bonorum\n",
      "suorum thesauris, pietatis pretia militibas nee nnmero aliquo nee diacretione\n",
      "ulla diatinguit, ut magis dona qaam pretia viderentur. At Uli \n",
      " admirati et amplexi tarn inmenaam viri pietatem munificentiamque et\n",
      "facti stupore permoti esemplo miaericordiae commOTentar, ita ut plurimi\n",
      "ex ipais adducerentur ad fidem domini noatri leau Christi, derelicto\n",
      "militiae cingulo; alii rero, vix quarta pretionun portione suacepta, ad\n",
      "propria castm diacederent; ceteri autem parum omnino aliqnid quantam\n",
      " viatico sufGceret accipientes abirent.\n",
      "\u001b[0m\n"
     ]
    }
   ],
   "source": [
    "# Example\n",
    "urn = 'urn:cts:greekLit:stoa0146d.stoa001.opp-lat1'\n",
    "text = load_urn(urn=urn)\n",
    "url = f'https://scaife.perseus.org/library/passage/{metadata_df.at[0, \"URL\"].split(\"/\")[-2]}/text/'\n",
    "cprint(text='-' * 100, color=line_color)\n",
    "cprint(text='Loading from URN:', color=text_color)\n",
    "cprint(text=urn, color=reference_color)\n",
    "cprint(text=url, color=text_color)\n",
    "cprint(text='-' * 100, color=line_color)\n",
    "cprint(text=text, color=text_color)"
   ]
  },
  {
   "cell_type": "markdown",
   "metadata": {},
   "source": [
    "Finding ppotential sections of the same work by guessing URLs to individual sections."
   ]
  },
  {
   "cell_type": "code",
   "execution_count": 9,
   "metadata": {},
   "outputs": [],
   "source": [
    "def get_sections_from_urn(urn: str, limit: int=None):\n",
    "    \"\"\"\n",
    "    Get all first-level sections of a text identified by the URN.\n",
    "    \n",
    "    Parameters:\n",
    "        urn (str): URN link that identifies specific work.\n",
    "        limit (int): The number of sections to extract from URN. Defaults to None. If None, all available sections are extracted.\n",
    "    \n",
    "    Returns:\n",
    "        Iterable[Tuple]: Iterable of the section number, URN, and URL of work. \n",
    "    \"\"\"\n",
    "#     if __debug__:\n",
    "#         cprint(text='-' * 100, color=line_color)\n",
    "#         cprint(text='URN:', color=text_color)\n",
    "#         cprint(text='-' * 100, color=line_color)\n",
    "    pprint(urn)\n",
    "    \n",
    "    section_data = list()\n",
    "    for section in count(start=1, step=1):    \n",
    "        potential_uri = f'https://scaife.perseus.org/library/passage/{urn}:{section}/text/'\n",
    "        redirected_uri = requests.get(url=potential_uri).url\n",
    "\n",
    "#         if __debug__:\n",
    "#             cprint(text='-' * 100, color=line_color)\n",
    "#             cprint(text='Potential and redirected URIs:', color=text_color)\n",
    "#             cprint(text='-' * 100, color=line_color)\n",
    "#             pprint(potential_uri)\n",
    "#             pprint(redirected_uri)\n",
    "        \n",
    "        if potential_uri != redirected_uri:\n",
    "            break\n",
    "        elif limit is not None and section > limit:\n",
    "            break\n",
    "        \n",
    "        section_url = f'https://scaife.perseus.org/reader/{urn}:{section}/'\n",
    "\n",
    "#         if __debug__:\n",
    "#             cprint(text='-' * 100, color=line_color)\n",
    "#             cprint(text='Section URL:', color=text_color)\n",
    "#             cprint(text='-' * 100, color=line_color)\n",
    "#             pprint(section_url)\n",
    "        \n",
    "        # appending URL of section of text to collected dataata\n",
    "        section_data.append((section, tup.URN, section_url,))\n",
    "    \n",
    "        pprint(section)\n",
    "    return np.asarray(a=section_data, dtype=tuple)"
   ]
  },
  {
   "cell_type": "raw",
   "metadata": {},
   "source": [
    "pool = mp.Pool(processes=64)\n",
    "data_by_urn = pool.starmap(\n",
    "    func=get_sections_from_urn,\n",
    "    iterable=tqdm.tqdm(np.asarray(a=list([(tup.URN, 5) for tup in list(metadata_df.itertuples())])))                \n",
    ")\n",
    "pool.close()"
   ]
  },
  {
   "cell_type": "code",
   "execution_count": 10,
   "metadata": {
    "scrolled": false
   },
   "outputs": [
    {
     "name": "stderr",
     "output_type": "stream",
     "text": [
      "0it [00:00, ?it/s]"
     ]
    },
    {
     "name": "stdout",
     "output_type": "stream",
     "text": [
      "'urn:cts:greekLit:ggm0001.ggm001.1st1K-grc1'\n",
      "1\n",
      "2\n"
     ]
    },
    {
     "name": "stderr",
     "output_type": "stream",
     "text": [
      "1it [00:02,  2.71s/it]"
     ]
    },
    {
     "name": "stdout",
     "output_type": "stream",
     "text": [
      "'urn:cts:hebrewlit:heb0001.heb010.1st1K-eng1'\n",
      "1\n",
      "2\n",
      "3\n",
      "4\n",
      "5\n"
     ]
    },
    {
     "name": "stderr",
     "output_type": "stream",
     "text": [
      "2it [00:07,  4.03s/it]"
     ]
    },
    {
     "name": "stdout",
     "output_type": "stream",
     "text": [
      "'urn:cts:greekLit:ogl0001.ogl001.1st1K-grc1'\n",
      "1\n"
     ]
    },
    {
     "name": "stderr",
     "output_type": "stream",
     "text": [
      "3it [00:09,  3.01s/it]"
     ]
    },
    {
     "name": "stdout",
     "output_type": "stream",
     "text": [
      "'urn:cts:greekLit:stoa0033a.tlg028.1st1K-grc1'\n",
      "1\n",
      "2\n",
      "3\n",
      "4\n",
      "5\n"
     ]
    },
    {
     "name": "stderr",
     "output_type": "stream",
     "text": [
      "4it [00:14,  3.87s/it]"
     ]
    },
    {
     "name": "stdout",
     "output_type": "stream",
     "text": [
      "'urn:cts:greekLit:stoa0033a.tlg043.1st1K-grc1'\n",
      "1\n",
      "2\n",
      "3\n",
      "4\n",
      "5\n"
     ]
    },
    {
     "name": "stderr",
     "output_type": "stream",
     "text": [
      "5it [00:20,  4.62s/it]"
     ]
    },
    {
     "name": "stdout",
     "output_type": "stream",
     "text": [
      "'urn:cts:greekLit:stoa0121.stoa001.opp-grc1'\n",
      "1\n"
     ]
    },
    {
     "name": "stderr",
     "output_type": "stream",
     "text": [
      "5it [00:21,  4.37s/it]\n"
     ]
    },
    {
     "ename": "KeyboardInterrupt",
     "evalue": "",
     "output_type": "error",
     "traceback": [
      "\u001b[0;31m---------------------------------------------------------------------------\u001b[0m",
      "\u001b[0;31mKeyboardInterrupt\u001b[0m                         Traceback (most recent call last)",
      "Cell \u001b[0;32mIn [10], line 3\u001b[0m\n\u001b[1;32m      1\u001b[0m data_by_urn \u001b[38;5;241m=\u001b[39m \u001b[38;5;28mlist\u001b[39m()\n\u001b[1;32m      2\u001b[0m \u001b[38;5;28;01mfor\u001b[39;00m tup \u001b[38;5;129;01min\u001b[39;00m tqdm\u001b[38;5;241m.\u001b[39mtqdm(metadata_df\u001b[38;5;241m.\u001b[39mitertuples()):\n\u001b[0;32m----> 3\u001b[0m     data_by_urn\u001b[38;5;241m.\u001b[39mappend(get_sections_from_urn(urn\u001b[38;5;241m=\u001b[39mtup\u001b[38;5;241m.\u001b[39mURN, limit\u001b[38;5;241m=\u001b[39m\u001b[38;5;241m5\u001b[39m))\n",
      "Cell \u001b[0;32mIn [9], line 21\u001b[0m, in \u001b[0;36mget_sections_from_urn\u001b[0;34m(urn, limit)\u001b[0m\n\u001b[1;32m     19\u001b[0m     \u001b[38;5;28;01mfor\u001b[39;00m section \u001b[38;5;129;01min\u001b[39;00m count(start\u001b[38;5;241m=\u001b[39m\u001b[38;5;241m1\u001b[39m, step\u001b[38;5;241m=\u001b[39m\u001b[38;5;241m1\u001b[39m):    \n\u001b[1;32m     20\u001b[0m         potential_uri \u001b[38;5;241m=\u001b[39m \u001b[38;5;124mf\u001b[39m\u001b[38;5;124m'\u001b[39m\u001b[38;5;124mhttps://scaife.perseus.org/library/passage/\u001b[39m\u001b[38;5;132;01m{\u001b[39;00murn\u001b[38;5;132;01m}\u001b[39;00m\u001b[38;5;124m:\u001b[39m\u001b[38;5;132;01m{\u001b[39;00msection\u001b[38;5;132;01m}\u001b[39;00m\u001b[38;5;124m/text/\u001b[39m\u001b[38;5;124m'\u001b[39m\n\u001b[0;32m---> 21\u001b[0m         redirected_uri \u001b[38;5;241m=\u001b[39m \u001b[43mrequests\u001b[49m\u001b[38;5;241;43m.\u001b[39;49m\u001b[43mget\u001b[49m\u001b[43m(\u001b[49m\u001b[43murl\u001b[49m\u001b[38;5;241;43m=\u001b[39;49m\u001b[43mpotential_uri\u001b[49m\u001b[43m)\u001b[49m\u001b[38;5;241m.\u001b[39murl\n\u001b[1;32m     23\u001b[0m \u001b[38;5;66;03m#         if __debug__:\u001b[39;00m\n\u001b[1;32m     24\u001b[0m \u001b[38;5;66;03m#             cprint(text='-' * 100, color=line_color)\u001b[39;00m\n\u001b[1;32m     25\u001b[0m \u001b[38;5;66;03m#             cprint(text='Potential and redirected URIs:', color=text_color)\u001b[39;00m\n\u001b[1;32m     26\u001b[0m \u001b[38;5;66;03m#             cprint(text='-' * 100, color=line_color)\u001b[39;00m\n\u001b[1;32m     27\u001b[0m \u001b[38;5;66;03m#             pprint(potential_uri)\u001b[39;00m\n\u001b[1;32m     28\u001b[0m \u001b[38;5;66;03m#             pprint(redirected_uri)\u001b[39;00m\n\u001b[1;32m     30\u001b[0m         \u001b[38;5;28;01mif\u001b[39;00m potential_uri \u001b[38;5;241m!=\u001b[39m redirected_uri:\n",
      "File \u001b[0;32m/mnt/c/share/AI-in-Classics/venv/lib/python3.10/site-packages/requests/api.py:73\u001b[0m, in \u001b[0;36mget\u001b[0;34m(url, params, **kwargs)\u001b[0m\n\u001b[1;32m     62\u001b[0m \u001b[39mdef\u001b[39;00m \u001b[39mget\u001b[39m(url, params\u001b[39m=\u001b[39m\u001b[39mNone\u001b[39;00m, \u001b[39m*\u001b[39m\u001b[39m*\u001b[39mkwargs):\n\u001b[1;32m     63\u001b[0m     \u001b[39mr\u001b[39m\u001b[39m\"\"\"Sends a GET request.\u001b[39;00m\n\u001b[1;32m     64\u001b[0m \n\u001b[1;32m     65\u001b[0m \u001b[39m    :param url: URL for the new :class:`Request` object.\u001b[39;00m\n\u001b[0;32m   (...)\u001b[0m\n\u001b[1;32m     70\u001b[0m \u001b[39m    :rtype: requests.Response\u001b[39;00m\n\u001b[1;32m     71\u001b[0m \u001b[39m    \"\"\"\u001b[39;00m\n\u001b[0;32m---> 73\u001b[0m     \u001b[39mreturn\u001b[39;00m request(\u001b[39m\"\u001b[39;49m\u001b[39mget\u001b[39;49m\u001b[39m\"\u001b[39;49m, url, params\u001b[39m=\u001b[39;49mparams, \u001b[39m*\u001b[39;49m\u001b[39m*\u001b[39;49mkwargs)\n",
      "File \u001b[0;32m/mnt/c/share/AI-in-Classics/venv/lib/python3.10/site-packages/requests/api.py:59\u001b[0m, in \u001b[0;36mrequest\u001b[0;34m(method, url, **kwargs)\u001b[0m\n\u001b[1;32m     55\u001b[0m \u001b[39m# By using the 'with' statement we are sure the session is closed, thus we\u001b[39;00m\n\u001b[1;32m     56\u001b[0m \u001b[39m# avoid leaving sockets open which can trigger a ResourceWarning in some\u001b[39;00m\n\u001b[1;32m     57\u001b[0m \u001b[39m# cases, and look like a memory leak in others.\u001b[39;00m\n\u001b[1;32m     58\u001b[0m \u001b[39mwith\u001b[39;00m sessions\u001b[39m.\u001b[39mSession() \u001b[39mas\u001b[39;00m session:\n\u001b[0;32m---> 59\u001b[0m     \u001b[39mreturn\u001b[39;00m session\u001b[39m.\u001b[39;49mrequest(method\u001b[39m=\u001b[39;49mmethod, url\u001b[39m=\u001b[39;49murl, \u001b[39m*\u001b[39;49m\u001b[39m*\u001b[39;49mkwargs)\n",
      "File \u001b[0;32m/mnt/c/share/AI-in-Classics/venv/lib/python3.10/site-packages/requests/sessions.py:587\u001b[0m, in \u001b[0;36mSession.request\u001b[0;34m(self, method, url, params, data, headers, cookies, files, auth, timeout, allow_redirects, proxies, hooks, stream, verify, cert, json)\u001b[0m\n\u001b[1;32m    582\u001b[0m send_kwargs \u001b[39m=\u001b[39m {\n\u001b[1;32m    583\u001b[0m     \u001b[39m\"\u001b[39m\u001b[39mtimeout\u001b[39m\u001b[39m\"\u001b[39m: timeout,\n\u001b[1;32m    584\u001b[0m     \u001b[39m\"\u001b[39m\u001b[39mallow_redirects\u001b[39m\u001b[39m\"\u001b[39m: allow_redirects,\n\u001b[1;32m    585\u001b[0m }\n\u001b[1;32m    586\u001b[0m send_kwargs\u001b[39m.\u001b[39mupdate(settings)\n\u001b[0;32m--> 587\u001b[0m resp \u001b[39m=\u001b[39m \u001b[39mself\u001b[39;49m\u001b[39m.\u001b[39;49msend(prep, \u001b[39m*\u001b[39;49m\u001b[39m*\u001b[39;49msend_kwargs)\n\u001b[1;32m    589\u001b[0m \u001b[39mreturn\u001b[39;00m resp\n",
      "File \u001b[0;32m/mnt/c/share/AI-in-Classics/venv/lib/python3.10/site-packages/requests/sessions.py:701\u001b[0m, in \u001b[0;36mSession.send\u001b[0;34m(self, request, **kwargs)\u001b[0m\n\u001b[1;32m    698\u001b[0m start \u001b[39m=\u001b[39m preferred_clock()\n\u001b[1;32m    700\u001b[0m \u001b[39m# Send the request\u001b[39;00m\n\u001b[0;32m--> 701\u001b[0m r \u001b[39m=\u001b[39m adapter\u001b[39m.\u001b[39;49msend(request, \u001b[39m*\u001b[39;49m\u001b[39m*\u001b[39;49mkwargs)\n\u001b[1;32m    703\u001b[0m \u001b[39m# Total elapsed time of the request (approximately)\u001b[39;00m\n\u001b[1;32m    704\u001b[0m elapsed \u001b[39m=\u001b[39m preferred_clock() \u001b[39m-\u001b[39m start\n",
      "File \u001b[0;32m/mnt/c/share/AI-in-Classics/venv/lib/python3.10/site-packages/requests/adapters.py:489\u001b[0m, in \u001b[0;36mHTTPAdapter.send\u001b[0;34m(self, request, stream, timeout, verify, cert, proxies)\u001b[0m\n\u001b[1;32m    487\u001b[0m \u001b[39mtry\u001b[39;00m:\n\u001b[1;32m    488\u001b[0m     \u001b[39mif\u001b[39;00m \u001b[39mnot\u001b[39;00m chunked:\n\u001b[0;32m--> 489\u001b[0m         resp \u001b[39m=\u001b[39m conn\u001b[39m.\u001b[39;49murlopen(\n\u001b[1;32m    490\u001b[0m             method\u001b[39m=\u001b[39;49mrequest\u001b[39m.\u001b[39;49mmethod,\n\u001b[1;32m    491\u001b[0m             url\u001b[39m=\u001b[39;49murl,\n\u001b[1;32m    492\u001b[0m             body\u001b[39m=\u001b[39;49mrequest\u001b[39m.\u001b[39;49mbody,\n\u001b[1;32m    493\u001b[0m             headers\u001b[39m=\u001b[39;49mrequest\u001b[39m.\u001b[39;49mheaders,\n\u001b[1;32m    494\u001b[0m             redirect\u001b[39m=\u001b[39;49m\u001b[39mFalse\u001b[39;49;00m,\n\u001b[1;32m    495\u001b[0m             assert_same_host\u001b[39m=\u001b[39;49m\u001b[39mFalse\u001b[39;49;00m,\n\u001b[1;32m    496\u001b[0m             preload_content\u001b[39m=\u001b[39;49m\u001b[39mFalse\u001b[39;49;00m,\n\u001b[1;32m    497\u001b[0m             decode_content\u001b[39m=\u001b[39;49m\u001b[39mFalse\u001b[39;49;00m,\n\u001b[1;32m    498\u001b[0m             retries\u001b[39m=\u001b[39;49m\u001b[39mself\u001b[39;49m\u001b[39m.\u001b[39;49mmax_retries,\n\u001b[1;32m    499\u001b[0m             timeout\u001b[39m=\u001b[39;49mtimeout,\n\u001b[1;32m    500\u001b[0m         )\n\u001b[1;32m    502\u001b[0m     \u001b[39m# Send the request.\u001b[39;00m\n\u001b[1;32m    503\u001b[0m     \u001b[39melse\u001b[39;00m:\n\u001b[1;32m    504\u001b[0m         \u001b[39mif\u001b[39;00m \u001b[39mhasattr\u001b[39m(conn, \u001b[39m\"\u001b[39m\u001b[39mproxy_pool\u001b[39m\u001b[39m\"\u001b[39m):\n",
      "File \u001b[0;32m/mnt/c/share/AI-in-Classics/venv/lib/python3.10/site-packages/urllib3/connectionpool.py:703\u001b[0m, in \u001b[0;36mHTTPConnectionPool.urlopen\u001b[0;34m(self, method, url, body, headers, retries, redirect, assert_same_host, timeout, pool_timeout, release_conn, chunked, body_pos, **response_kw)\u001b[0m\n\u001b[1;32m    700\u001b[0m     \u001b[39mself\u001b[39m\u001b[39m.\u001b[39m_prepare_proxy(conn)\n\u001b[1;32m    702\u001b[0m \u001b[39m# Make the request on the httplib connection object.\u001b[39;00m\n\u001b[0;32m--> 703\u001b[0m httplib_response \u001b[39m=\u001b[39m \u001b[39mself\u001b[39;49m\u001b[39m.\u001b[39;49m_make_request(\n\u001b[1;32m    704\u001b[0m     conn,\n\u001b[1;32m    705\u001b[0m     method,\n\u001b[1;32m    706\u001b[0m     url,\n\u001b[1;32m    707\u001b[0m     timeout\u001b[39m=\u001b[39;49mtimeout_obj,\n\u001b[1;32m    708\u001b[0m     body\u001b[39m=\u001b[39;49mbody,\n\u001b[1;32m    709\u001b[0m     headers\u001b[39m=\u001b[39;49mheaders,\n\u001b[1;32m    710\u001b[0m     chunked\u001b[39m=\u001b[39;49mchunked,\n\u001b[1;32m    711\u001b[0m )\n\u001b[1;32m    713\u001b[0m \u001b[39m# If we're going to release the connection in ``finally:``, then\u001b[39;00m\n\u001b[1;32m    714\u001b[0m \u001b[39m# the response doesn't need to know about the connection. Otherwise\u001b[39;00m\n\u001b[1;32m    715\u001b[0m \u001b[39m# it will also try to release it and we'll have a double-release\u001b[39;00m\n\u001b[1;32m    716\u001b[0m \u001b[39m# mess.\u001b[39;00m\n\u001b[1;32m    717\u001b[0m response_conn \u001b[39m=\u001b[39m conn \u001b[39mif\u001b[39;00m \u001b[39mnot\u001b[39;00m release_conn \u001b[39melse\u001b[39;00m \u001b[39mNone\u001b[39;00m\n",
      "File \u001b[0;32m/mnt/c/share/AI-in-Classics/venv/lib/python3.10/site-packages/urllib3/connectionpool.py:386\u001b[0m, in \u001b[0;36mHTTPConnectionPool._make_request\u001b[0;34m(self, conn, method, url, timeout, chunked, **httplib_request_kw)\u001b[0m\n\u001b[1;32m    384\u001b[0m \u001b[39m# Trigger any extra validation we need to do.\u001b[39;00m\n\u001b[1;32m    385\u001b[0m \u001b[39mtry\u001b[39;00m:\n\u001b[0;32m--> 386\u001b[0m     \u001b[39mself\u001b[39;49m\u001b[39m.\u001b[39;49m_validate_conn(conn)\n\u001b[1;32m    387\u001b[0m \u001b[39mexcept\u001b[39;00m (SocketTimeout, BaseSSLError) \u001b[39mas\u001b[39;00m e:\n\u001b[1;32m    388\u001b[0m     \u001b[39m# Py2 raises this as a BaseSSLError, Py3 raises it as socket timeout.\u001b[39;00m\n\u001b[1;32m    389\u001b[0m     \u001b[39mself\u001b[39m\u001b[39m.\u001b[39m_raise_timeout(err\u001b[39m=\u001b[39me, url\u001b[39m=\u001b[39murl, timeout_value\u001b[39m=\u001b[39mconn\u001b[39m.\u001b[39mtimeout)\n",
      "File \u001b[0;32m/mnt/c/share/AI-in-Classics/venv/lib/python3.10/site-packages/urllib3/connectionpool.py:1042\u001b[0m, in \u001b[0;36mHTTPSConnectionPool._validate_conn\u001b[0;34m(self, conn)\u001b[0m\n\u001b[1;32m   1040\u001b[0m \u001b[39m# Force connect early to allow us to validate the connection.\u001b[39;00m\n\u001b[1;32m   1041\u001b[0m \u001b[39mif\u001b[39;00m \u001b[39mnot\u001b[39;00m \u001b[39mgetattr\u001b[39m(conn, \u001b[39m\"\u001b[39m\u001b[39msock\u001b[39m\u001b[39m\"\u001b[39m, \u001b[39mNone\u001b[39;00m):  \u001b[39m# AppEngine might not have  `.sock`\u001b[39;00m\n\u001b[0;32m-> 1042\u001b[0m     conn\u001b[39m.\u001b[39;49mconnect()\n\u001b[1;32m   1044\u001b[0m \u001b[39mif\u001b[39;00m \u001b[39mnot\u001b[39;00m conn\u001b[39m.\u001b[39mis_verified:\n\u001b[1;32m   1045\u001b[0m     warnings\u001b[39m.\u001b[39mwarn(\n\u001b[1;32m   1046\u001b[0m         (\n\u001b[1;32m   1047\u001b[0m             \u001b[39m\"\u001b[39m\u001b[39mUnverified HTTPS request is being made to host \u001b[39m\u001b[39m'\u001b[39m\u001b[39m%s\u001b[39;00m\u001b[39m'\u001b[39m\u001b[39m. \u001b[39m\u001b[39m\"\u001b[39m\n\u001b[0;32m   (...)\u001b[0m\n\u001b[1;32m   1052\u001b[0m         InsecureRequestWarning,\n\u001b[1;32m   1053\u001b[0m     )\n",
      "File \u001b[0;32m/mnt/c/share/AI-in-Classics/venv/lib/python3.10/site-packages/urllib3/connection.py:414\u001b[0m, in \u001b[0;36mHTTPSConnection.connect\u001b[0;34m(self)\u001b[0m\n\u001b[1;32m    405\u001b[0m \u001b[39mif\u001b[39;00m (\n\u001b[1;32m    406\u001b[0m     \u001b[39mnot\u001b[39;00m \u001b[39mself\u001b[39m\u001b[39m.\u001b[39mca_certs\n\u001b[1;32m    407\u001b[0m     \u001b[39mand\u001b[39;00m \u001b[39mnot\u001b[39;00m \u001b[39mself\u001b[39m\u001b[39m.\u001b[39mca_cert_dir\n\u001b[0;32m   (...)\u001b[0m\n\u001b[1;32m    410\u001b[0m     \u001b[39mand\u001b[39;00m \u001b[39mhasattr\u001b[39m(context, \u001b[39m\"\u001b[39m\u001b[39mload_default_certs\u001b[39m\u001b[39m\"\u001b[39m)\n\u001b[1;32m    411\u001b[0m ):\n\u001b[1;32m    412\u001b[0m     context\u001b[39m.\u001b[39mload_default_certs()\n\u001b[0;32m--> 414\u001b[0m \u001b[39mself\u001b[39m\u001b[39m.\u001b[39msock \u001b[39m=\u001b[39m ssl_wrap_socket(\n\u001b[1;32m    415\u001b[0m     sock\u001b[39m=\u001b[39;49mconn,\n\u001b[1;32m    416\u001b[0m     keyfile\u001b[39m=\u001b[39;49m\u001b[39mself\u001b[39;49m\u001b[39m.\u001b[39;49mkey_file,\n\u001b[1;32m    417\u001b[0m     certfile\u001b[39m=\u001b[39;49m\u001b[39mself\u001b[39;49m\u001b[39m.\u001b[39;49mcert_file,\n\u001b[1;32m    418\u001b[0m     key_password\u001b[39m=\u001b[39;49m\u001b[39mself\u001b[39;49m\u001b[39m.\u001b[39;49mkey_password,\n\u001b[1;32m    419\u001b[0m     ca_certs\u001b[39m=\u001b[39;49m\u001b[39mself\u001b[39;49m\u001b[39m.\u001b[39;49mca_certs,\n\u001b[1;32m    420\u001b[0m     ca_cert_dir\u001b[39m=\u001b[39;49m\u001b[39mself\u001b[39;49m\u001b[39m.\u001b[39;49mca_cert_dir,\n\u001b[1;32m    421\u001b[0m     ca_cert_data\u001b[39m=\u001b[39;49m\u001b[39mself\u001b[39;49m\u001b[39m.\u001b[39;49mca_cert_data,\n\u001b[1;32m    422\u001b[0m     server_hostname\u001b[39m=\u001b[39;49mserver_hostname,\n\u001b[1;32m    423\u001b[0m     ssl_context\u001b[39m=\u001b[39;49mcontext,\n\u001b[1;32m    424\u001b[0m     tls_in_tls\u001b[39m=\u001b[39;49mtls_in_tls,\n\u001b[1;32m    425\u001b[0m )\n\u001b[1;32m    427\u001b[0m \u001b[39m# If we're using all defaults and the connection\u001b[39;00m\n\u001b[1;32m    428\u001b[0m \u001b[39m# is TLSv1 or TLSv1.1 we throw a DeprecationWarning\u001b[39;00m\n\u001b[1;32m    429\u001b[0m \u001b[39m# for the host.\u001b[39;00m\n\u001b[1;32m    430\u001b[0m \u001b[39mif\u001b[39;00m (\n\u001b[1;32m    431\u001b[0m     default_ssl_context\n\u001b[1;32m    432\u001b[0m     \u001b[39mand\u001b[39;00m \u001b[39mself\u001b[39m\u001b[39m.\u001b[39mssl_version \u001b[39mis\u001b[39;00m \u001b[39mNone\u001b[39;00m\n\u001b[1;32m    433\u001b[0m     \u001b[39mand\u001b[39;00m \u001b[39mhasattr\u001b[39m(\u001b[39mself\u001b[39m\u001b[39m.\u001b[39msock, \u001b[39m\"\u001b[39m\u001b[39mversion\u001b[39m\u001b[39m\"\u001b[39m)\n\u001b[1;32m    434\u001b[0m     \u001b[39mand\u001b[39;00m \u001b[39mself\u001b[39m\u001b[39m.\u001b[39msock\u001b[39m.\u001b[39mversion() \u001b[39min\u001b[39;00m {\u001b[39m\"\u001b[39m\u001b[39mTLSv1\u001b[39m\u001b[39m\"\u001b[39m, \u001b[39m\"\u001b[39m\u001b[39mTLSv1.1\u001b[39m\u001b[39m\"\u001b[39m}\n\u001b[1;32m    435\u001b[0m ):\n",
      "File \u001b[0;32m/mnt/c/share/AI-in-Classics/venv/lib/python3.10/site-packages/urllib3/util/ssl_.py:402\u001b[0m, in \u001b[0;36mssl_wrap_socket\u001b[0;34m(sock, keyfile, certfile, cert_reqs, ca_certs, server_hostname, ssl_version, ciphers, ssl_context, ca_cert_dir, key_password, ca_cert_data, tls_in_tls)\u001b[0m\n\u001b[1;32m    400\u001b[0m \u001b[39mif\u001b[39;00m ca_certs \u001b[39mor\u001b[39;00m ca_cert_dir \u001b[39mor\u001b[39;00m ca_cert_data:\n\u001b[1;32m    401\u001b[0m     \u001b[39mtry\u001b[39;00m:\n\u001b[0;32m--> 402\u001b[0m         context\u001b[39m.\u001b[39;49mload_verify_locations(ca_certs, ca_cert_dir, ca_cert_data)\n\u001b[1;32m    403\u001b[0m     \u001b[39mexcept\u001b[39;00m (\u001b[39mIOError\u001b[39;00m, \u001b[39mOSError\u001b[39;00m) \u001b[39mas\u001b[39;00m e:\n\u001b[1;32m    404\u001b[0m         \u001b[39mraise\u001b[39;00m SSLError(e)\n",
      "\u001b[0;31mKeyboardInterrupt\u001b[0m: "
     ]
    }
   ],
   "source": [
    "data_by_urn = list()\n",
    "for tup in tqdm.tqdm(metadata_df.itertuples()):\n",
    "    data_by_urn.append(get_sections_from_urn(urn=tup.URN, limit=5))"
   ]
  },
  {
   "cell_type": "markdown",
   "metadata": {},
   "source": [
    "Removing any URN groups with no numerical-based sections in its URLs."
   ]
  },
  {
   "cell_type": "code",
   "execution_count": null,
   "metadata": {},
   "outputs": [],
   "source": [
    "data_by_urn = np.asarray(a=[\n",
    "    np.asarray(a=[section_group for section_group in urn_group if len(section_group) == 3])\n",
    "                                 for urn_group in data_by_urn if len(urn_group) > 0])\n",
    "len(data_by_urn)"
   ]
  },
  {
   "cell_type": "code",
   "execution_count": null,
   "metadata": {},
   "outputs": [],
   "source": [
    "data = np.vstack(tup=data_by_urn)\n",
    "columns = np.asarray(a=list(['Section', 'URN', 'URL']))\n",
    "section_df = pd.DataFrame(\n",
    "    data=data,\n",
    "    columns=columns\n",
    ")"
   ]
  },
  {
   "cell_type": "code",
   "execution_count": null,
   "metadata": {},
   "outputs": [],
   "source": [
    "section_df"
   ]
  },
  {
   "cell_type": "raw",
   "metadata": {},
   "source": [
    "%%cache section_df.pkl section_df --force\n",
    "section_df"
   ]
  }
 ],
 "metadata": {
  "kernelspec": {
   "display_name": "Python 3.10.7 ('venv': venv)",
   "language": "python",
   "name": "python3"
  },
  "language_info": {
   "codemirror_mode": {
    "name": "ipython",
    "version": 3
   },
   "file_extension": ".py",
   "mimetype": "text/x-python",
   "name": "python",
   "nbconvert_exporter": "python",
   "pygments_lexer": "ipython3",
   "version": "3.10.7"
  },
  "latex_envs": {
   "LaTeX_envs_menu_present": true,
   "autoclose": false,
   "autocomplete": true,
   "bibliofile": "biblio.bib",
   "cite_by": "apalike",
   "current_citInitial": 1,
   "eqLabelWithNumbers": true,
   "eqNumInitial": 1,
   "hotkeys": {
    "equation": "Ctrl-E",
    "itemize": "Ctrl-I"
   },
   "labels_anchors": false,
   "latex_user_defs": false,
   "report_style_numbering": false,
   "user_envs_cfg": false
  },
  "vscode": {
   "interpreter": {
    "hash": "6bcf5770a21595fd11c5126840e7414e683b202125b8fd04061e6a94e5c8fee9"
   }
  }
 },
 "nbformat": 4,
 "nbformat_minor": 4
}
