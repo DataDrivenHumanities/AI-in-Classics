{
  "nbformat": 4,
  "nbformat_minor": 0,
  "metadata": {
    "colab": {
      "provenance": []
    },
    "kernelspec": {
      "name": "python3",
      "display_name": "Python 3"
    },
    "language_info": {
      "name": "python"
    }
  },
  "cells": [
    {
      "cell_type": "code",
      "source": [
        "!pip install transformers\n",
        "from transformers import pipeline\n",
        "from transformers.pipelines.pt_utils import KeyDataset\n",
        "import csv \n",
        "import xml.etree.ElementTree as ET\n",
        "import fileinput \n",
        "import re\n",
        "import os\n",
        "\n",
        "minConfidence = 0.9\n",
        "sentimentModel = pipeline(\"sentiment-analysis\", model = \"Seethal/sentiment_analysis_generic_dataset\")\n",
        "\n",
        "#make data struct based on import - dictionary of authors holding book objects\n",
        "#book objects -> dictionary of textpart_names to textpart objects\n",
        "#textpart objects -> hold the original text, original sentiment, english text (if exists), average english sentiment from each sentence, author, and book\n",
        "class Textpart:\n",
        "  textpart = \"\"\n",
        "  text = \"\"\n",
        "  author = \"\"\n",
        "  book_title = \"\"\n",
        "  engText = \"\"\n",
        "  engSent = 0.0\n",
        "  originalSent = 0.0\n",
        "  \n",
        "  def __init__(self, _textpart, _text, _title, _author, _engText):\n",
        "    self.textpart = _textpart\n",
        "    self.text = _text\n",
        "    self.author = _author\n",
        "    self.book_title = _title\n",
        "    self.engText = _engText\n",
        "    if _engText != \"none\":\n",
        "      #seperate text into sentences and run sentiment on them\n",
        "      sentences = _engText.split(\".\")\n",
        "      total = 0\n",
        "      sentencesProcessed = 0\n",
        "      for s in sentences:\n",
        "        s+= \".\"\n",
        "        temp = sentimentModel(s)\n",
        "        if temp[0][\"score\"] > minConfidence:\n",
        "          sentencesProcessed+=1\n",
        "          if(temp[0][\"label\"] == \"LABEL_2\"):\n",
        "            total+=1\n",
        "          elif(temp[0][\"label\"] == \"LABEL_0\"):\n",
        "            total-=1\n",
        "      self.engSent = total/sentencesProcessed\n",
        "    #code for original text sentiment\n",
        "\n",
        "class Book:\n",
        "  #dictionary is textpartName, TextPart\n",
        "  author = \"\"\n",
        "  title = \"\"\n",
        "  parts = {}\n",
        "  def __init__(self, textPartObj):\n",
        "    self.parts[textPartObj.textpart] = textPartObj\n",
        "    self.title = textPartObj.book_title\n",
        "    self.author = textPartObj.author\n",
        "\n",
        "  def addTextPart(self, textPartObj):\n",
        "    if(textPartObj.book_title != self.title):\n",
        "      print(\"error in book datastruct\")\n",
        "    else:\n",
        "      self.parts[textPartObj.textpart] = textPartObj\n",
        "\n",
        "class Author:\n",
        "  name = \"\" \n",
        "  books = {}\n",
        "  def __init__(self, bookObj):\n",
        "    self.name = bookObj.author\n",
        "    self.books[bookObj.title] = bookObj\n",
        "  def addBook(self, bookObj):\n",
        "    if(bookObj.author != self.name):\n",
        "      print(\"error in Author datastruct\")\n",
        "    else:\n",
        "      self.books[bookObj.title] = bookObj\n",
        "\n",
        "#effictively a dictionary of authors with the setup stuff\n",
        "class Texts: \n",
        "  authors = {}\n",
        "  def __init__(self):\n",
        "    authors = {}\n",
        "  def addTextPart(self, txtprt, text, title, author, engText):    \n",
        "    temp = Textpart(txtprt, text, title, author, engText)\n",
        "    if len(self.authors)== 0:\n",
        "      book = Book(temp)\n",
        "      writer = Author(book)\n",
        "      self.authors[writer.name] = writer\n",
        "    else:\n",
        "      authorFound = False;\n",
        "      for a in self.authors:\n",
        "        #check if there is an author that matches\n",
        "        if(a.title == author):\n",
        "          authorFound = True\n",
        "          titleFound = False\n",
        "          for t in a.books:\n",
        "            #check if there is a book with same title\n",
        "            if t == title:\n",
        "              titleFound = True\n",
        "              t.addTextPart(temp)\n",
        "          if not titleFound:\n",
        "            book = Book(temp)\n",
        "            a.addBook(book)\n",
        "      if not authorFound:\n",
        "        book = Book(temp)\n",
        "        writer = Author(book)\n",
        "        self.authors[writer.name] = writer\n",
        "\n",
        "\n",
        "\n",
        "\n",
        "#set csvInName to the path to the csv, and delim to the delimiter used \n",
        "csvInName = \"/Input/csvTextPartsWithTitleAuthorAndEng.csv\"\n",
        "csvOutName = \"/output/storedDatastruct.csv\"\n",
        "delim = \",\"\n",
        "textpart = \"\"\n",
        "text = \"\"\n",
        "author = \"\"\n",
        "title = \"\"\n",
        "engText = \"\"\n",
        "holder = Texts()\n",
        "if (csvInName != \"\"):\n",
        "  #input csv schema: textpart, text, title, author, english text\n",
        "  csvFile = open(csvInName, \"r\")\n",
        "  csv_reader = csv.reader(csvFile, delimiter = delim)\n",
        "  firstLine = True\n",
        "  for row in csv_reader:\n",
        "    if not firstLine:\n",
        "      #make the object baby \n",
        "      textpart = row[0]\n",
        "      text = row[1]\n",
        "      title = row[2]\n",
        "      author = row[3]\n",
        "      engText = row[4]\n",
        "      holder.addTextPart(textpart, text, title, author, engText)\n",
        "    else:\n",
        "      firstLine = False\n",
        "\n",
        "\n",
        "print(\"Job done!\")\n",
        "    \n",
        "#label 0 is negative\n",
        "#label 1 is neutral\n",
        "#label 2 is positive\n",
        "#for multiple calls, use a list\n",
        "\n",
        "\n",
        "\n"
      ],
      "metadata": {
        "id": "P1u715MOGBdU",
        "colab": {
          "base_uri": "https://localhost:8080/",
          "height": 686
        },
        "outputId": "550bf631-593d-49b9-8926-94d7be7c6365"
      },
      "execution_count": null,
      "outputs": [
        {
          "output_type": "stream",
          "name": "stdout",
          "text": [
            "Looking in indexes: https://pypi.org/simple, https://us-python.pkg.dev/colab-wheels/public/simple/\n",
            "Requirement already satisfied: transformers in /usr/local/lib/python3.7/dist-packages (4.24.0)\n",
            "Requirement already satisfied: filelock in /usr/local/lib/python3.7/dist-packages (from transformers) (3.8.0)\n",
            "Requirement already satisfied: pyyaml>=5.1 in /usr/local/lib/python3.7/dist-packages (from transformers) (6.0)\n",
            "Requirement already satisfied: packaging>=20.0 in /usr/local/lib/python3.7/dist-packages (from transformers) (21.3)\n",
            "Requirement already satisfied: importlib-metadata in /usr/local/lib/python3.7/dist-packages (from transformers) (4.13.0)\n",
            "Requirement already satisfied: tokenizers!=0.11.3,<0.14,>=0.11.1 in /usr/local/lib/python3.7/dist-packages (from transformers) (0.13.2)\n",
            "Requirement already satisfied: requests in /usr/local/lib/python3.7/dist-packages (from transformers) (2.23.0)\n",
            "Requirement already satisfied: regex!=2019.12.17 in /usr/local/lib/python3.7/dist-packages (from transformers) (2022.6.2)\n",
            "Requirement already satisfied: tqdm>=4.27 in /usr/local/lib/python3.7/dist-packages (from transformers) (4.64.1)\n",
            "Requirement already satisfied: numpy>=1.17 in /usr/local/lib/python3.7/dist-packages (from transformers) (1.21.6)\n",
            "Requirement already satisfied: huggingface-hub<1.0,>=0.10.0 in /usr/local/lib/python3.7/dist-packages (from transformers) (0.11.0)\n",
            "Requirement already satisfied: typing-extensions>=3.7.4.3 in /usr/local/lib/python3.7/dist-packages (from huggingface-hub<1.0,>=0.10.0->transformers) (4.1.1)\n",
            "Requirement already satisfied: pyparsing!=3.0.5,>=2.0.2 in /usr/local/lib/python3.7/dist-packages (from packaging>=20.0->transformers) (3.0.9)\n",
            "Requirement already satisfied: zipp>=0.5 in /usr/local/lib/python3.7/dist-packages (from importlib-metadata->transformers) (3.10.0)\n",
            "Requirement already satisfied: idna<3,>=2.5 in /usr/local/lib/python3.7/dist-packages (from requests->transformers) (2.10)\n",
            "Requirement already satisfied: urllib3!=1.25.0,!=1.25.1,<1.26,>=1.21.1 in /usr/local/lib/python3.7/dist-packages (from requests->transformers) (1.24.3)\n",
            "Requirement already satisfied: chardet<4,>=3.0.2 in /usr/local/lib/python3.7/dist-packages (from requests->transformers) (3.0.4)\n",
            "Requirement already satisfied: certifi>=2017.4.17 in /usr/local/lib/python3.7/dist-packages (from requests->transformers) (2022.9.24)\n"
          ]
        },
        {
          "output_type": "error",
          "ename": "AttributeError",
          "evalue": "ignored",
          "traceback": [
            "\u001b[0;31m---------------------------------------------------------------------------\u001b[0m",
            "\u001b[0;31mAttributeError\u001b[0m                            Traceback (most recent call last)",
            "\u001b[0;32m<ipython-input-6-ae34c836d39d>\u001b[0m in \u001b[0;36m<module>\u001b[0;34m\u001b[0m\n\u001b[1;32m    131\u001b[0m       \u001b[0mauthor\u001b[0m \u001b[0;34m=\u001b[0m \u001b[0mrow\u001b[0m\u001b[0;34m[\u001b[0m\u001b[0;36m3\u001b[0m\u001b[0;34m]\u001b[0m\u001b[0;34m\u001b[0m\u001b[0;34m\u001b[0m\u001b[0m\n\u001b[1;32m    132\u001b[0m       \u001b[0mengText\u001b[0m \u001b[0;34m=\u001b[0m \u001b[0mrow\u001b[0m\u001b[0;34m[\u001b[0m\u001b[0;36m4\u001b[0m\u001b[0;34m]\u001b[0m\u001b[0;34m\u001b[0m\u001b[0;34m\u001b[0m\u001b[0m\n\u001b[0;32m--> 133\u001b[0;31m       \u001b[0mholder\u001b[0m\u001b[0;34m.\u001b[0m\u001b[0maddTextPart\u001b[0m\u001b[0;34m(\u001b[0m\u001b[0mtextpart\u001b[0m\u001b[0;34m,\u001b[0m \u001b[0mtext\u001b[0m\u001b[0;34m,\u001b[0m \u001b[0mtitle\u001b[0m\u001b[0;34m,\u001b[0m \u001b[0mauthor\u001b[0m\u001b[0;34m,\u001b[0m \u001b[0mengText\u001b[0m\u001b[0;34m)\u001b[0m\u001b[0;34m\u001b[0m\u001b[0;34m\u001b[0m\u001b[0m\n\u001b[0m\u001b[1;32m    134\u001b[0m     \u001b[0;32melse\u001b[0m\u001b[0;34m:\u001b[0m\u001b[0;34m\u001b[0m\u001b[0;34m\u001b[0m\u001b[0m\n\u001b[1;32m    135\u001b[0m       \u001b[0mfirstLine\u001b[0m \u001b[0;34m=\u001b[0m \u001b[0;32mFalse\u001b[0m\u001b[0;34m\u001b[0m\u001b[0;34m\u001b[0m\u001b[0m\n",
            "\u001b[0;32m<ipython-input-6-ae34c836d39d>\u001b[0m in \u001b[0;36maddTextPart\u001b[0;34m(self, txtprt, text, title, author, engText)\u001b[0m\n\u001b[1;32m     92\u001b[0m           \u001b[0mauthorFound\u001b[0m \u001b[0;34m=\u001b[0m \u001b[0;32mTrue\u001b[0m\u001b[0;34m\u001b[0m\u001b[0;34m\u001b[0m\u001b[0m\n\u001b[1;32m     93\u001b[0m           \u001b[0mtitleFound\u001b[0m \u001b[0;34m=\u001b[0m \u001b[0;32mFalse\u001b[0m\u001b[0;34m\u001b[0m\u001b[0;34m\u001b[0m\u001b[0m\n\u001b[0;32m---> 94\u001b[0;31m           \u001b[0;32mfor\u001b[0m \u001b[0mt\u001b[0m \u001b[0;32min\u001b[0m \u001b[0ma\u001b[0m\u001b[0;34m.\u001b[0m\u001b[0mbooks\u001b[0m\u001b[0;34m:\u001b[0m\u001b[0;34m\u001b[0m\u001b[0;34m\u001b[0m\u001b[0m\n\u001b[0m\u001b[1;32m     95\u001b[0m             \u001b[0;31m#check if there is a book with same title\u001b[0m\u001b[0;34m\u001b[0m\u001b[0;34m\u001b[0m\u001b[0;34m\u001b[0m\u001b[0m\n\u001b[1;32m     96\u001b[0m             \u001b[0;32mif\u001b[0m \u001b[0mt\u001b[0m \u001b[0;34m==\u001b[0m \u001b[0mtitle\u001b[0m\u001b[0;34m:\u001b[0m\u001b[0;34m\u001b[0m\u001b[0;34m\u001b[0m\u001b[0m\n",
            "\u001b[0;31mAttributeError\u001b[0m: 'str' object has no attribute 'books'"
          ]
        }
      ]
    },
    {
      "cell_type": "code",
      "source": [],
      "metadata": {
        "id": "ytrFm8PIi7P8"
      },
      "execution_count": null,
      "outputs": []
    },
    {
      "cell_type": "code",
      "source": [
        "inWords = open(\"Input/words.txt\", \"r\")\n",
        "outWords = open(\"output/words.txt\", \"w\")\n",
        "\n",
        "\n",
        "\n"
      ],
      "metadata": {
        "id": "zPbLmnuq5T3T"
      },
      "execution_count": null,
      "outputs": []
    },
    {
      "cell_type": "code",
      "source": [
        "!pip install transformers\n",
        "from transformers import pipeline\n",
        "from transformers.pipelines.pt_utils import KeyDataset\n",
        "sentiment = pipeline(\"sentiment-analysis\", model = \"Seethal/sentiment_analysis_generic_dataset\")\n",
        "\n",
        "print(sentiment(\"Senate Woot Woot!\"))"
      ],
      "metadata": {
        "colab": {
          "base_uri": "https://localhost:8080/"
        },
        "id": "1J-2zSLzZX22",
        "outputId": "1a48a38b-da98-4a7b-a996-6f7515b07a20"
      },
      "execution_count": null,
      "outputs": [
        {
          "output_type": "stream",
          "name": "stdout",
          "text": [
            "Looking in indexes: https://pypi.org/simple, https://us-python.pkg.dev/colab-wheels/public/simple/\n",
            "Requirement already satisfied: transformers in /usr/local/lib/python3.7/dist-packages (4.24.0)\n",
            "Requirement already satisfied: tqdm>=4.27 in /usr/local/lib/python3.7/dist-packages (from transformers) (4.64.1)\n",
            "Requirement already satisfied: pyyaml>=5.1 in /usr/local/lib/python3.7/dist-packages (from transformers) (6.0)\n",
            "Requirement already satisfied: tokenizers!=0.11.3,<0.14,>=0.11.1 in /usr/local/lib/python3.7/dist-packages (from transformers) (0.13.2)\n",
            "Requirement already satisfied: numpy>=1.17 in /usr/local/lib/python3.7/dist-packages (from transformers) (1.21.6)\n",
            "Requirement already satisfied: importlib-metadata in /usr/local/lib/python3.7/dist-packages (from transformers) (4.13.0)\n",
            "Requirement already satisfied: requests in /usr/local/lib/python3.7/dist-packages (from transformers) (2.23.0)\n",
            "Requirement already satisfied: huggingface-hub<1.0,>=0.10.0 in /usr/local/lib/python3.7/dist-packages (from transformers) (0.10.1)\n",
            "Requirement already satisfied: filelock in /usr/local/lib/python3.7/dist-packages (from transformers) (3.8.0)\n",
            "Requirement already satisfied: packaging>=20.0 in /usr/local/lib/python3.7/dist-packages (from transformers) (21.3)\n",
            "Requirement already satisfied: regex!=2019.12.17 in /usr/local/lib/python3.7/dist-packages (from transformers) (2022.6.2)\n",
            "Requirement already satisfied: typing-extensions>=3.7.4.3 in /usr/local/lib/python3.7/dist-packages (from huggingface-hub<1.0,>=0.10.0->transformers) (4.1.1)\n",
            "Requirement already satisfied: pyparsing!=3.0.5,>=2.0.2 in /usr/local/lib/python3.7/dist-packages (from packaging>=20.0->transformers) (3.0.9)\n",
            "Requirement already satisfied: zipp>=0.5 in /usr/local/lib/python3.7/dist-packages (from importlib-metadata->transformers) (3.10.0)\n",
            "Requirement already satisfied: certifi>=2017.4.17 in /usr/local/lib/python3.7/dist-packages (from requests->transformers) (2022.9.24)\n",
            "Requirement already satisfied: idna<3,>=2.5 in /usr/local/lib/python3.7/dist-packages (from requests->transformers) (2.10)\n",
            "Requirement already satisfied: chardet<4,>=3.0.2 in /usr/local/lib/python3.7/dist-packages (from requests->transformers) (3.0.4)\n",
            "Requirement already satisfied: urllib3!=1.25.0,!=1.25.1,<1.26,>=1.21.1 in /usr/local/lib/python3.7/dist-packages (from requests->transformers) (1.24.3)\n"
          ]
        }
      ]
    },
    {
      "cell_type": "markdown",
      "source": [
        "For making the latin sentiment analysis:\n",
        "  Scrape wiktionary for latin - use pd\n",
        "  Use template from nitai's github to make the trainer - \n",
        "  Make dataset using template on nitai's github "
      ],
      "metadata": {
        "id": "vb-lli6Di8OP"
      }
    },
    {
      "cell_type": "code",
      "source": [],
      "metadata": {
        "id": "AJaLc9CBZ8y3"
      },
      "execution_count": null,
      "outputs": []
    }
  ]
}