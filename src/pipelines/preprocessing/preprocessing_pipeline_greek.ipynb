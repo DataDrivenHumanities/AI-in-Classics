{
 "cells": [
  {
   "cell_type": "markdown",
   "metadata": {},
   "source": [
    "# NLP Pipeline for Greek"
   ]
  },
  {
   "cell_type": "markdown",
   "metadata": {},
   "source": [
    "Under each level 2 or smaller heading, choose one or more cells do run. Each cell is a single step that can be added to the whole pipeline. To skip a step, simply convert the cell to `raw` type with `esc` + `r` keys. By default, all steps are initially skipped."
   ]
  },
  {
   "cell_type": "markdown",
   "metadata": {},
   "source": [
    "## Frequently used Python modules"
   ]
  },
  {
   "cell_type": "code",
   "execution_count": 1,
   "metadata": {},
   "outputs": [],
   "source": [
    "import re, os, cltk, requests, spacy, textblob\n",
    "from pprint import pprint\n",
    "from termcolor import colored, cprint"
   ]
  },
  {
   "cell_type": "code",
   "execution_count": 2,
   "metadata": {},
   "outputs": [],
   "source": [
    "# print coloring options\n",
    "line_color = \"blue\"\n",
    "text_color = \"magenta\"\n",
    "reference_color = \"white\""
   ]
  },
  {
   "cell_type": "markdown",
   "metadata": {},
   "source": [
    "## Import Data"
   ]
  },
  {
   "cell_type": "markdown",
   "metadata": {},
   "source": [
    "Import Greek text."
   ]
  },
  {
   "cell_type": "markdown",
   "metadata": {},
   "source": [
    "### *From TXT File*"
   ]
  },
  {
   "cell_type": "code",
   "execution_count": 3,
   "metadata": {
    "scrolled": true
   },
   "outputs": [
    {
     "name": "stdout",
     "output_type": "stream",
     "text": [
      "\u001b[34m----------------------------------------------------------------------------------------------------\u001b[0m\n",
      "\u001b[35mLoading from TXT file:\u001b[0m\n",
      "\u001b[37m/mnt/d/share/Using-AI-to-Trace-the-History-of-Race-and-Inequality/src/sample_text/latin/urn_cts_greekLit_stoa0146d.stoa001.opp-lat11.txt\u001b[0m\n",
      "\u001b[34m----------------------------------------------------------------------------------------------------\u001b[0m\n",
      "\u001b[35mACTA ARCHELAI. Thesaurus verus sive disputatio habita in Carcharis eiTitate Mesopotamiae\n",
      "Archelai episeopi adversus Manen, Judicantibus Manippo et\n",
      "Aegialeo et Clandio et Cleobolo. In qua urbe erat quidani vir Marcellus \n",
      " nomine qui vita et studiis et genere, prudentia quoque et honestate\n",
      "valde clanis habebatnr; faeultatibus etiam copiosus et quoii\n",
      "omnium maximiim est, religiosiasime deum timens, et his quae de\n",
      "Christo dicebantur semper cum timore auscultans, nec quicquam omnino\n",
      "honi erat quod illi viro deesset; unde et honore plurimo ab nniversa \n",
      " eivitate colebatnr plnrimisque ipse civitatem suam freqiienter largitionibus\n",
      "remunerabatur, paiiperibus tribuens, adfticts relevans, tribulatis\n",
      "auxilium ferens, Sed ne infirmitate verborum virtutibns viri derogemus\n",
      "potius quam digna proferamus, haec diitisse sufficiat; ad opus quod\n",
      "propositum est reniam. Qiiodam in tempore cum Archelao episcopo \n",
      " captivomm multitudo fuisset oblata a militibus qui ibi castra servabant,\n",
      "Septem milia numero et aeptingenti, non mediocris eum solHcitudo constrinxerat,\n",
      "eo quod pro salute ipsorum aurura a militibus posceretiir;\n",
      "quique cum dissimulare non posset, pro religiono et timore dei vehementer\n",
      "aestuabat et, tandem ad Mareellum properana, rei geatae negotium\n",
      " exponit. Verum ut baec audivit piissimus Marcellus, nihil omnino \n",
      " CM \n",
      " 1 Dispatatio archelay et manychei (rot) vel manee scripta ab emogenio presbytero\n",
      "mn xtrei SrkreUiem des XIV. Jahrhunderts geschriben C. Indpit Altercatdo Sancti Arcbelay episeopi mesopotAmie cum maledicto Manicbeo heratico abi\n",
      "didtur et de condicione et de doctrina et de flne ipsios maledicti manichei (rot)\n",
      "M | 2 carcharis] zu carchar durch Ras. corr. C charcharis M, vgl. vgl. 4; 4; auch bei\n",
      "den Griechen ist die Form dieses Wortes unsicher; bei Epiphanius findet die\n",
      "Formen Kaσχάρων und Καλχάρων, bei Photius Kαρχάρων, bei Oyrill und Socrates\n",
      "Kασχάρων, bei dem Auctor anonymus libelli synodici (s. Einleituny) Kαχάρων |\n",
      "3 archelai eiiiscopi adveraus manen < C rielkicht mit Recht | adverans] uenns\n",
      "a Rae. M | 4 egealeo M; rgl. fiir diese Namen 23, 9–11 | cleobulo Μ | nach\n",
      "urbe + meBopotamie C | 6 abscaltana M | quicqaam] c a. Ras. w. e. sch. C |\n",
      "11 remunerabat Μ Ι 13 nach sufBdat + ut M | 14 ueniamuB Μ | 18 qni C \n",
      " 19 rei gestae] omne (aus omaem corr. M2) M | 20 ut vero M | nach\n",
      "audiuit + uir C \n",
      "\n",
      " \n",
      "moratns, iagreditur domam pnveparans pretia captiyorom qnantacnmque\n",
      "poposcissent qui dedaxerant Tinotoa, et contnuo, reseratis bonorum\n",
      "suorum thesauris, pietatis pretia militibas nee nnmero aliquo nee diacretione\n",
      "ulla diatinguit, ut magis dona qaam pretia viderentur. At Uli \n",
      " admirati et amplexi tarn inmenaam viri pietatem munificentiamque et\n",
      "facti stupore permoti esemplo miaericordiae commOTentar, ita ut plurimi\n",
      "ex ipais adducerentur ad fidem domini noatri leau Christi, derelicto\n",
      "militiae cingulo; alii rero, vix quarta pretionun portione suacepta, ad\n",
      "propria castm diacederent; ceteri autem parum omnino aliqnid quantam\n",
      " viatico sufGceret accipientes abirent.\u001b[0m\n"
     ]
    }
   ],
   "source": [
    "def load_txt(filename: str):\n",
    "    \"\"\"\n",
    "    Extract text from a .txt file.\n",
    "\n",
    "    Parameters:\n",
    "        filename (str): Path of file to load.\n",
    "\n",
    "    Returns:\n",
    "        str: Text loaded from file.\n",
    "    \"\"\"\n",
    "    if not os.path.exists(path=filename):\n",
    "        raise ValueError(f\"The path {filename} does not exist.\")\n",
    "\n",
    "    text = open(file=filename, mode=\"r\").read()\n",
    "    return text\n",
    "\n",
    "\n",
    "filename = \"/mnt/d/share/Using-AI-to-Trace-the-History-of-Race-and-Inequality/src/sample_text/latin/urn_cts_greekLit_stoa0146d.stoa001.opp-lat11.txt\"\n",
    "text = load_txt(filename=filename)\n",
    "cprint(text=\"-\" * 100, color=line_color)\n",
    "cprint(text=\"Loading from TXT file:\", color=text_color)\n",
    "cprint(text=filename, color=reference_color)\n",
    "cprint(text=\"-\" * 100, color=line_color)\n",
    "cprint(text=text, color=text_color)"
   ]
  },
  {
   "cell_type": "markdown",
   "metadata": {},
   "source": [
    "### *From URI*"
   ]
  },
  {
   "cell_type": "code",
   "execution_count": 4,
   "metadata": {},
   "outputs": [
    {
     "name": "stdout",
     "output_type": "stream",
     "text": [
      "\u001b[34m----------------------------------------------------------------------------------------------------\u001b[0m\n",
      "\u001b[35mLoading from URI:\u001b[0m\n",
      "\u001b[37mhttps://scaife.perseus.org/library/passage/urn:cts:greekLit:stoa0146d.stoa001.opp-lat1:1/text/\u001b[0m\n",
      "\u001b[34m----------------------------------------------------------------------------------------------------\u001b[0m\n",
      "\u001b[35mACTA ARCHELAI. Thesaurus verus sive disputatio habita in Carcharis eiTitate Mesopotamiae\n",
      "Archelai episeopi adversus Manen, Judicantibus Manippo et\n",
      "Aegialeo et Clandio et Cleobolo. In qua urbe erat quidani vir Marcellus \n",
      " nomine qui vita et studiis et genere, prudentia quoque et honestate\n",
      "valde clanis habebatnr; faeultatibus etiam copiosus et quoii\n",
      "omnium maximiim est, religiosiasime deum timens, et his quae de\n",
      "Christo dicebantur semper cum timore auscultans, nec quicquam omnino\n",
      "honi erat quod illi viro deesset; unde et honore plurimo ab nniversa \n",
      " eivitate colebatnr plnrimisque ipse civitatem suam freqiienter largitionibus\n",
      "remunerabatur, paiiperibus tribuens, adfticts relevans, tribulatis\n",
      "auxilium ferens, Sed ne infirmitate verborum virtutibns viri derogemus\n",
      "potius quam digna proferamus, haec diitisse sufficiat; ad opus quod\n",
      "propositum est reniam. Qiiodam in tempore cum Archelao episcopo \n",
      " captivomm multitudo fuisset oblata a militibus qui ibi castra servabant,\n",
      "Septem milia numero et aeptingenti, non mediocris eum solHcitudo constrinxerat,\n",
      "eo quod pro salute ipsorum aurura a militibus posceretiir;\n",
      "quique cum dissimulare non posset, pro religiono et timore dei vehementer\n",
      "aestuabat et, tandem ad Mareellum properana, rei geatae negotium\n",
      " exponit. Verum ut baec audivit piissimus Marcellus, nihil omnino \n",
      " CM \n",
      " 1 Dispatatio archelay et manychei (rot) vel manee scripta ab emogenio presbytero\n",
      "mn xtrei SrkreUiem des XIV. Jahrhunderts geschriben C. Indpit Altercatdo Sancti Arcbelay episeopi mesopotAmie cum maledicto Manicbeo heratico abi\n",
      "didtur et de condicione et de doctrina et de flne ipsios maledicti manichei (rot)\n",
      "M | 2 carcharis] zu carchar durch Ras. corr. C charcharis M, vgl. vgl. 4; 4; auch bei\n",
      "den Griechen ist die Form dieses Wortes unsicher; bei Epiphanius findet die\n",
      "Formen Kaσχάρων und Καλχάρων, bei Photius Kαρχάρων, bei Oyrill und Socrates\n",
      "Kασχάρων, bei dem Auctor anonymus libelli synodici (s. Einleituny) Kαχάρων |\n",
      "3 archelai eiiiscopi adveraus manen < C rielkicht mit Recht | adverans] uenns\n",
      "a Rae. M | 4 egealeo M; rgl. fiir diese Namen 23, 9–11 | cleobulo Μ | nach\n",
      "urbe + meBopotamie C | 6 abscaltana M | quicqaam] c a. Ras. w. e. sch. C |\n",
      "11 remunerabat Μ Ι 13 nach sufBdat + ut M | 14 ueniamuB Μ | 18 qni C \n",
      " 19 rei gestae] omne (aus omaem corr. M2) M | 20 ut vero M | nach\n",
      "audiuit + uir C \n",
      "\n",
      " \n",
      "moratns, iagreditur domam pnveparans pretia captiyorom qnantacnmque\n",
      "poposcissent qui dedaxerant Tinotoa, et contnuo, reseratis bonorum\n",
      "suorum thesauris, pietatis pretia militibas nee nnmero aliquo nee diacretione\n",
      "ulla diatinguit, ut magis dona qaam pretia viderentur. At Uli \n",
      " admirati et amplexi tarn inmenaam viri pietatem munificentiamque et\n",
      "facti stupore permoti esemplo miaericordiae commOTentar, ita ut plurimi\n",
      "ex ipais adducerentur ad fidem domini noatri leau Christi, derelicto\n",
      "militiae cingulo; alii rero, vix quarta pretionun portione suacepta, ad\n",
      "propria castm diacederent; ceteri autem parum omnino aliqnid quantam\n",
      " viatico sufGceret accipientes abirent.\n",
      "\u001b[0m\n"
     ]
    }
   ],
   "source": [
    "def load_uri(uri: str):\n",
    "    \"\"\"\n",
    "    Load text from URI.\n",
    "\n",
    "    Parameters:\n",
    "        uri (str): URI link to text online.\n",
    "\n",
    "    Returns:\n",
    "        str: Text loaded from URI.\n",
    "    \"\"\"\n",
    "    req = requests.get(url=uri)\n",
    "    return req.text\n",
    "\n",
    "\n",
    "uri = \"https://scaife.perseus.org/library/passage/urn:cts:greekLit:stoa0146d.stoa001.opp-lat1:1/text/\"\n",
    "text = load_uri(uri=uri)\n",
    "cprint(text=\"-\" * 100, color=line_color)\n",
    "cprint(text=\"Loading from URI:\", color=text_color)\n",
    "cprint(text=uri, color=reference_color)\n",
    "cprint(text=\"-\" * 100, color=line_color)\n",
    "cprint(text=text, color=text_color)"
   ]
  },
  {
   "cell_type": "markdown",
   "metadata": {},
   "source": [
    "## Paragraph Edit"
   ]
  },
  {
   "cell_type": "markdown",
   "metadata": {},
   "source": [
    "Alter text on a paragraph level of abstraction."
   ]
  },
  {
   "cell_type": "markdown",
   "metadata": {},
   "source": [
    "### *Delete Footnotes*"
   ]
  },
  {
   "cell_type": "markdown",
   "metadata": {},
   "source": [
    "Delete all footnotes that were extracted with the main text."
   ]
  },
  {
   "cell_type": "code",
   "execution_count": 5,
   "metadata": {},
   "outputs": [
    {
     "name": "stdout",
     "output_type": "stream",
     "text": [
      "\u001b[34m----------------------------------------------------------------------------------------------------\u001b[0m\n",
      "\u001b[35mmatch:\u001b[0m\n",
      "\u001b[34m----------------------------------------------------------------------------------------------------\u001b[0m\n",
      "\u001b[35m<re.Match object; span=(1327, 1407), match='1 Dispatatio archelay et manychei (rot) vel manee>\u001b[0m\n"
     ]
    }
   ],
   "source": [
    "pattern = \"([0-9].*)\"\n",
    "match_obj = re.search(pattern=pattern, string=text)\n",
    "cprint(text=\"-\" * 100, color=line_color)\n",
    "cprint(text=\"match:\", color=text_color)\n",
    "cprint(text=\"-\" * 100, color=line_color)\n",
    "cprint(text=match_obj, color=text_color)"
   ]
  },
  {
   "cell_type": "code",
   "execution_count": null,
   "metadata": {},
   "outputs": [],
   "source": []
  },
  {
   "cell_type": "code",
   "execution_count": null,
   "metadata": {},
   "outputs": [],
   "source": []
  },
  {
   "cell_type": "code",
   "execution_count": null,
   "metadata": {},
   "outputs": [],
   "source": []
  },
  {
   "cell_type": "code",
   "execution_count": null,
   "metadata": {},
   "outputs": [],
   "source": []
  },
  {
   "cell_type": "code",
   "execution_count": null,
   "metadata": {},
   "outputs": [],
   "source": []
  },
  {
   "cell_type": "code",
   "execution_count": null,
   "metadata": {},
   "outputs": [],
   "source": []
  },
  {
   "cell_type": "code",
   "execution_count": null,
   "metadata": {},
   "outputs": [],
   "source": []
  },
  {
   "cell_type": "code",
   "execution_count": null,
   "metadata": {},
   "outputs": [],
   "source": []
  },
  {
   "cell_type": "code",
   "execution_count": null,
   "metadata": {},
   "outputs": [],
   "source": []
  },
  {
   "cell_type": "code",
   "execution_count": null,
   "metadata": {},
   "outputs": [],
   "source": []
  },
  {
   "cell_type": "code",
   "execution_count": null,
   "metadata": {},
   "outputs": [],
   "source": []
  },
  {
   "cell_type": "markdown",
   "metadata": {},
   "source": [
    "## Punctuation"
   ]
  },
  {
   "cell_type": "markdown",
   "metadata": {},
   "source": [
    "Remove, replace, or alter punctuation marks from text."
   ]
  },
  {
   "cell_type": "markdown",
   "metadata": {},
   "source": [
    "### *Swallow All Brackets*"
   ]
  },
  {
   "cell_type": "markdown",
   "metadata": {},
   "source": [
    "Delete both angle <> and square [] brackets, including the text within them. "
   ]
  },
  {
   "cell_type": "code",
   "execution_count": 6,
   "metadata": {},
   "outputs": [
    {
     "name": "stdout",
     "output_type": "stream",
     "text": [
      "\u001b[34m----------------------------------------------------------------------------------------------------\u001b[0m\n",
      "\u001b[35mSwallowing all brackets and their text:\u001b[0m\n",
      "\u001b[34m----------------------------------------------------------------------------------------------------\u001b[0m\n",
      "\u001b[35mACTA ARCHELAI. Thesaurus verus sive disputatio habita in Carcharis eiTitate Mesopotamiae\n",
      "Archelai episeopi adversus Manen, Judicantibus Manippo et\n",
      "Aegialeo et Clandio et Cleobolo. In qua urbe erat quidani vir Marcellus \n",
      " nomine qui vita et studiis et genere, prudentia quoque et honestate\n",
      "valde clanis habebatnr; faeultatibus etiam copiosus et quoii\n",
      "omnium maximiim est, religiosiasime deum timens, et his quae de\n",
      "Christo dicebantur semper cum timore auscultans, nec quicquam omnino\n",
      "honi erat quod illi viro deesset; unde et honore plurimo ab nniversa \n",
      " eivitate colebatnr plnrimisque ipse civitatem suam freqiienter largitionibus\n",
      "remunerabatur, paiiperibus tribuens, adfticts relevans, tribulatis\n",
      "auxilium ferens, Sed ne infirmitate verborum virtutibns viri derogemus\n",
      "potius quam digna proferamus, haec diitisse sufficiat; ad opus quod\n",
      "propositum est reniam. Qiiodam in tempore cum Archelao episcopo \n",
      " captivomm multitudo fuisset oblata a militibus qui ibi castra servabant,\n",
      "Septem milia numero et aeptingenti, non mediocris eum solHcitudo constrinxerat,\n",
      "eo quod pro salute ipsorum aurura a militibus posceretiir;\n",
      "quique cum dissimulare non posset, pro religiono et timore dei vehementer\n",
      "aestuabat et, tandem ad Mareellum properana, rei geatae negotium\n",
      " exponit. Verum ut baec audivit piissimus Marcellus, nihil omnino \n",
      " CM \n",
      " 1 Dispatatio archelay et manychei (rot) vel manee scripta ab emogenio presbytero\n",
      "mn xtrei SrkreUiem des XIV. Jahrhunderts geschriben C. Indpit Altercatdo Sancti Arcbelay episeopi mesopotAmie cum maledicto Manicbeo heratico abi\n",
      "didtur et de condicione et de doctrina et de flne ipsios maledicti manichei (rot)\n",
      "M | 2 carcharis] zu carchar durch Ras. corr. C charcharis M, vgl. vgl. 4; 4; auch bei\n",
      "den Griechen ist die Form dieses Wortes unsicher; bei Epiphanius findet die\n",
      "Formen Kaσχάρων und Καλχάρων, bei Photius Kαρχάρων, bei Oyrill und Socrates\n",
      "Kασχάρων, bei dem Auctor anonymus libelli synodici (s. Einleituny) Kαχάρων |\n",
      "3 archelai eiiiscopi adveraus manen   C rielkicht mit Recht | adverans] uenns\n",
      "a Rae. M | 4 egealeo M; rgl. fiir diese Namen 23, 9–11 | cleobulo Μ | nach\n",
      "urbe + meBopotamie C | 6 abscaltana M | quicqaam] c a. Ras. w. e. sch. C |\n",
      "11 remunerabat Μ Ι 13 nach sufBdat + ut M | 14 ueniamuB Μ | 18 qni C \n",
      " 19 rei gestae] omne (aus omaem corr. M2) M | 20 ut vero M | nach\n",
      "audiuit + uir C \n",
      "\n",
      " \n",
      "moratns, iagreditur domam pnveparans pretia captiyorom qnantacnmque\n",
      "poposcissent qui dedaxerant Tinotoa, et contnuo, reseratis bonorum\n",
      "suorum thesauris, pietatis pretia militibas nee nnmero aliquo nee diacretione\n",
      "ulla diatinguit, ut magis dona qaam pretia viderentur. At Uli \n",
      " admirati et amplexi tarn inmenaam viri pietatem munificentiamque et\n",
      "facti stupore permoti esemplo miaericordiae commOTentar, ita ut plurimi\n",
      "ex ipais adducerentur ad fidem domini noatri leau Christi, derelicto\n",
      "militiae cingulo; alii rero, vix quarta pretionun portione suacepta, ad\n",
      "propria castm diacederent; ceteri autem parum omnino aliqnid quantam\n",
      " viatico sufGceret accipientes abirent.\u001b[0m\n"
     ]
    }
   ],
   "source": [
    "text = cltk.alphabet.lat.swallow_angle_brackets(text=text)\n",
    "text = cltk.alphabet.lat.swallow_square_brackets(text=text)\n",
    "cprint(text=\"-\" * 100, color=line_color)\n",
    "cprint(text=\"Swallowing all brackets and their text:\", color=text_color)\n",
    "cprint(text=\"-\" * 100, color=line_color)\n",
    "cprint(text=text, color=text_color)"
   ]
  },
  {
   "cell_type": "markdown",
   "metadata": {},
   "source": [
    "### *Swallow Editorial*"
   ]
  },
  {
   "cell_type": "markdown",
   "metadata": {},
   "source": [
    "Delete common editorial marks."
   ]
  },
  {
   "cell_type": "code",
   "execution_count": 7,
   "metadata": {},
   "outputs": [
    {
     "name": "stdout",
     "output_type": "stream",
     "text": [
      "\u001b[34m----------------------------------------------------------------------------------------------------\u001b[0m\n",
      "\u001b[35mDeleting common editorial marks:\u001b[0m\n",
      "\u001b[34m----------------------------------------------------------------------------------------------------\u001b[0m\n",
      "\u001b[35mACTA ARCHELAI. Thesaurus verus sive disputatio habita in Carcharis eiTitate Mesopotamiae\n",
      "Archelai episeopi adversus Manen, Judicantibus Manippo et\n",
      "Aegialeo et Clandio et Cleobolo. In qua urbe erat quidani vir Marcellus \n",
      " nomine qui vita et studiis et genere, prudentia quoque et honestate\n",
      "valde clanis habebatnr; faeultatibus etiam copiosus et quoii\n",
      "omnium maximiim est, religiosiasime deum timens, et his quae de\n",
      "Christo dicebantur semper cum timore auscultans, nec quicquam omnino\n",
      "honi erat quod illi viro deesset; unde et honore plurimo ab nniversa \n",
      " eivitate colebatnr plnrimisque ipse civitatem suam freqiienter largitionibus\n",
      "remunerabatur, paiiperibus tribuens, adfticts relevans, tribulatis\n",
      "auxilium ferens, Sed ne infirmitate verborum virtutibns viri derogemus\n",
      "potius quam digna proferamus, haec diitisse sufficiat; ad opus quod\n",
      "propositum est reniam. Qiiodam in tempore cum Archelao episcopo \n",
      " captivomm multitudo fuisset oblata a militibus qui ibi castra servabant,\n",
      "Septem milia numero et aeptingenti, non mediocris eum solHcitudo constrinxerat,\n",
      "eo quod pro salute ipsorum aurura a militibus posceretiir;\n",
      "quique cum dissimulare non posset, pro religiono et timore dei vehementer\n",
      "aestuabat et, tandem ad Mareellum properana, rei geatae negotium\n",
      " exponit. Verum ut baec audivit piissimus Marcellus, nihil omnino \n",
      " CM \n",
      " 1 Dispatatio archelay et manychei rot vel manee scripta ab emogenio presbytero\n",
      "mn xtrei SrkreUiem des XIV. Jahrhunderts geschriben C. Indpit Altercatdo Sancti Arcbelay episeopi mesopotAmie cum maledicto Manicbeo heratico abi\n",
      "didtur et de condicione et de doctrina et de flne ipsios maledicti manichei rot\n",
      "M | 2 carcharis] zu carchar durch Ras. corr. C charcharis M, vgl. vgl. 4; 4; auch bei\n",
      "den Griechen ist die Form dieses Wortes unsicher; bei Epiphanius findet die\n",
      "Formen Kaσχάρων und Καλχάρων, bei Photius Kαρχάρων, bei Oyrill und Socrates\n",
      "Kασχάρων, bei dem Auctor anonymus libelli synodici s. Einleituny Kαχάρων |\n",
      "3 archelai eiiiscopi adveraus manen   C rielkicht mit Recht | adverans] uenns\n",
      "a Rae. M | 4 egealeo M; rgl. fiir diese Namen 23, 9–11 | cleobulo Μ | nach\n",
      "urbe  ut M | 14 ueniamuB Μ | 18 qni C \n",
      " 19 rei gestae] omne aus omaem corr. M2 M | 20 ut vero M | nach\n",
      "audiuit + uir C \n",
      "\n",
      " \n",
      "moratns, iagreditur domam pnveparans pretia captiyorom qnantacnmque\n",
      "poposcissent qui dedaxerant Tinotoa, et contnuo, reseratis bonorum\n",
      "suorum thesauris, pietatis pretia militibas nee nnmero aliquo nee diacretione\n",
      "ulla diatinguit, ut magis dona qaam pretia viderentur. At Uli \n",
      " admirati et amplexi tarn inmenaam viri pietatem munificentiamque et\n",
      "facti stupore permoti esemplo miaericordiae commOTentar, ita ut plurimi\n",
      "ex ipais adducerentur ad fidem domini noatri leau Christi, derelicto\n",
      "militiae cingulo; alii rero, vix quarta pretionun portione suacepta, ad\n",
      "propria castm diacederent; ceteri autem parum omnino aliqnid quantam\n",
      " viatico sufGceret accipientes abirent.\u001b[0m\n"
     ]
    }
   ],
   "source": [
    "text = cltk.alphabet.lat.swallow_editorial(text=text)\n",
    "cprint(text=\"-\" * 100, color=line_color)\n",
    "cprint(text=\"Deleting common editorial marks:\", color=text_color)\n",
    "cprint(text=\"-\" * 100, color=line_color)\n",
    "cprint(text=text, color=text_color)"
   ]
  },
  {
   "cell_type": "code",
   "execution_count": null,
   "metadata": {},
   "outputs": [],
   "source": []
  },
  {
   "cell_type": "code",
   "execution_count": null,
   "metadata": {},
   "outputs": [],
   "source": []
  },
  {
   "cell_type": "markdown",
   "metadata": {},
   "source": [
    "### *Dehyphenate*"
   ]
  },
  {
   "cell_type": "markdown",
   "metadata": {},
   "source": [
    "Remove hypens, which is especially useful for overflow-wrapped text that uses hyphens."
   ]
  },
  {
   "cell_type": "code",
   "execution_count": 8,
   "metadata": {},
   "outputs": [
    {
     "name": "stdout",
     "output_type": "stream",
     "text": [
      "\u001b[34m----------------------------------------------------------------------------------------------------\u001b[0m\n",
      "\u001b[35mRemoving hyphens from text:\u001b[0m\n",
      "\u001b[34m----------------------------------------------------------------------------------------------------\u001b[0m\n",
      "\u001b[35mACTA ARCHELAI. Thesaurus verus sive disputatio habita in Carcharis eiTitate Mesopotamiae\n",
      "Archelai episeopi adversus Manen, Judicantibus Manippo et\n",
      "Aegialeo et Clandio et Cleobolo. In qua urbe erat quidani vir Marcellus \n",
      " nomine qui vita et studiis et genere, prudentia quoque et honestate\n",
      "valde clanis habebatnr; faeultatibus etiam copiosus et quoii\n",
      "omnium maximiim est, religiosiasime deum timens, et his quae de\n",
      "Christo dicebantur semper cum timore auscultans, nec quicquam omnino\n",
      "honi erat quod illi viro deesset; unde et honore plurimo ab nniversa \n",
      " eivitate colebatnr plnrimisque ipse civitatem suam freqiienter largitionibus\n",
      "remunerabatur, paiiperibus tribuens, adfticts relevans, tribulatis\n",
      "auxilium ferens, Sed ne infirmitate verborum virtutibns viri derogemus\n",
      "potius quam digna proferamus, haec diitisse sufficiat; ad opus quod\n",
      "propositum est reniam. Qiiodam in tempore cum Archelao episcopo \n",
      " captivomm multitudo fuisset oblata a militibus qui ibi castra servabant,\n",
      "Septem milia numero et aeptingenti, non mediocris eum solHcitudo constrinxerat,\n",
      "eo quod pro salute ipsorum aurura a militibus posceretiir;\n",
      "quique cum dissimulare non posset, pro religiono et timore dei vehementer\n",
      "aestuabat et, tandem ad Mareellum properana, rei geatae negotium\n",
      " exponit. Verum ut baec audivit piissimus Marcellus, nihil omnino \n",
      " CM \n",
      " 1 Dispatatio archelay et manychei rot vel manee scripta ab emogenio presbytero\n",
      "mn xtrei SrkreUiem des XIV. Jahrhunderts geschriben C. Indpit Altercatdo Sancti Arcbelay episeopi mesopotAmie cum maledicto Manicbeo heratico abi\n",
      "didtur et de condicione et de doctrina et de flne ipsios maledicti manichei rot\n",
      "M | 2 carcharis] zu carchar durch Ras. corr. C charcharis M, vgl. vgl. 4; 4; auch bei\n",
      "den Griechen ist die Form dieses Wortes unsicher; bei Epiphanius findet die\n",
      "Formen Kaσχάρων und Καλχάρων, bei Photius Kαρχάρων, bei Oyrill und Socrates\n",
      "Kασχάρων, bei dem Auctor anonymus libelli synodici s. Einleituny Kαχάρων |\n",
      "3 archelai eiiiscopi adveraus manen   C rielkicht mit Recht | adverans] uenns\n",
      "a Rae. M | 4 egealeo M; rgl. fiir diese Namen 23, 9–11 | cleobulo Μ | nach\n",
      "urbe  ut M | 14 ueniamuB Μ | 18 qni C \n",
      " 19 rei gestae] omne aus omaem corr. M2 M | 20 ut vero M | nach\n",
      "audiuit + uir C \n",
      "\n",
      " \n",
      "moratns, iagreditur domam pnveparans pretia captiyorom qnantacnmque\n",
      "poposcissent qui dedaxerant Tinotoa, et contnuo, reseratis bonorum\n",
      "suorum thesauris, pietatis pretia militibas nee nnmero aliquo nee diacretione\n",
      "ulla diatinguit, ut magis dona qaam pretia viderentur. At Uli \n",
      " admirati et amplexi tarn inmenaam viri pietatem munificentiamque et\n",
      "facti stupore permoti esemplo miaericordiae commOTentar, ita ut plurimi\n",
      "ex ipais adducerentur ad fidem domini noatri leau Christi, derelicto\n",
      "militiae cingulo; alii rero, vix quarta pretionun portione suacepta, ad\n",
      "propria castm diacederent; ceteri autem parum omnino aliqnid quantam\n",
      " viatico sufGceret accipientes abirent.\u001b[0m\n"
     ]
    }
   ],
   "source": [
    "text = cltk.alphabet.lat.dehyphenate(text=text)\n",
    "cprint(text=\"-\" * 100, color=line_color)\n",
    "cprint(text=\"Removing hyphens from text:\", color=text_color)\n",
    "cprint(text=\"-\" * 100, color=line_color)\n",
    "cprint(text=text, color=text_color)"
   ]
  },
  {
   "cell_type": "markdown",
   "metadata": {},
   "source": [
    "### *Drop Latin Punctuation*"
   ]
  },
  {
   "cell_type": "markdown",
   "metadata": {},
   "source": [
    "Drop all Latin punctuation except the hyphen and obelization markers, replacing the punctuation with a space.  Hypens (-) and obeli (†) must be removed before this step if intended for removal."
   ]
  },
  {
   "cell_type": "code",
   "execution_count": 9,
   "metadata": {},
   "outputs": [
    {
     "name": "stdout",
     "output_type": "stream",
     "text": [
      "\u001b[34m----------------------------------------------------------------------------------------------------\u001b[0m\n",
      "\u001b[35mDropping Latin punctuation:\u001b[0m\n",
      "\u001b[34m----------------------------------------------------------------------------------------------------\u001b[0m\n",
      "\u001b[35mACTA ARCHELAI  Thesaurus verus sive disputatio habita in Carcharis eiTitate Mesopotamiae\n",
      "Archelai episeopi adversus Manen  Judicantibus Manippo et\n",
      "Aegialeo et Clandio et Cleobolo  In qua urbe erat quidani vir Marcellus \n",
      " nomine qui vita et studiis et genere  prudentia quoque et honestate\n",
      "valde clanis habebatnr  faeultatibus etiam copiosus et quoii\n",
      "omnium maximiim est  religiosiasime deum timens  et his quae de\n",
      "Christo dicebantur semper cum timore auscultans  nec quicquam omnino\n",
      "honi erat quod illi viro deesset  unde et honore plurimo ab nniversa \n",
      " eivitate colebatnr plnrimisque ipse civitatem suam freqiienter largitionibus\n",
      "remunerabatur  paiiperibus tribuens  adfticts relevans  tribulatis\n",
      "auxilium ferens  Sed ne infirmitate verborum virtutibns viri derogemus\n",
      "potius quam digna proferamus  haec diitisse sufficiat  ad opus quod\n",
      "propositum est reniam  Qiiodam in tempore cum Archelao episcopo \n",
      " captivomm multitudo fuisset oblata a militibus qui ibi castra servabant \n",
      "Septem milia numero et aeptingenti  non mediocris eum solHcitudo constrinxerat \n",
      "eo quod pro salute ipsorum aurura a militibus posceretiir \n",
      "quique cum dissimulare non posset  pro religiono et timore dei vehementer\n",
      "aestuabat et  tandem ad Mareellum properana  rei geatae negotium\n",
      " exponit  Verum ut baec audivit piissimus Marcellus  nihil omnino \n",
      " CM \n",
      "   Dispatatio archelay et manychei rot vel manee scripta ab emogenio presbytero\n",
      "mn xtrei SrkreUiem des XIV  Jahrhunderts geschriben C  Indpit Altercatdo Sancti Arcbelay episeopi mesopotAmie cum maledicto Manicbeo heratico abi\n",
      "didtur et de condicione et de doctrina et de flne ipsios maledicti manichei rot\n",
      "M |   carcharis] zu carchar durch Ras  corr  C charcharis M  vgl  vgl        auch bei\n",
      "den Griechen ist die Form dieses Wortes unsicher  bei Epiphanius findet die\n",
      "Formen Kaσχάρων und Καλχάρων  bei Photius Kαρχάρων  bei Oyrill und Socrates\n",
      "Kασχάρων  bei dem Auctor anonymus libelli synodici s  Einleituny Kαχάρων |\n",
      "  archelai eiiiscopi adveraus manen   C rielkicht mit Recht | adverans] uenns\n",
      "a Rae  M |   egealeo M  rgl  fiir diese Namen     –  | cleobulo Μ | nach\n",
      "urbe  ut M |   ueniamuB Μ |   qni C \n",
      "   rei gestae] omne aus omaem corr  M  M |   ut vero M | nach\n",
      "audiuit + uir C \n",
      "\n",
      " \n",
      "moratns  iagreditur domam pnveparans pretia captiyorom qnantacnmque\n",
      "poposcissent qui dedaxerant Tinotoa  et contnuo  reseratis bonorum\n",
      "suorum thesauris  pietatis pretia militibas nee nnmero aliquo nee diacretione\n",
      "ulla diatinguit  ut magis dona qaam pretia viderentur  At Uli \n",
      " admirati et amplexi tarn inmenaam viri pietatem munificentiamque et\n",
      "facti stupore permoti esemplo miaericordiae commOTentar  ita ut plurimi\n",
      "ex ipais adducerentur ad fidem domini noatri leau Christi  derelicto\n",
      "militiae cingulo  alii rero  vix quarta pretionun portione suacepta  ad\n",
      "propria castm diacederent  ceteri autem parum omnino aliqnid quantam\n",
      " viatico sufGceret accipientes abirent \u001b[0m\n"
     ]
    }
   ],
   "source": [
    "text = cltk.alphabet.lat.drop_latin_punctuation(text=text)\n",
    "cprint(text=\"-\" * 100, color=line_color)\n",
    "cprint(text=\"Dropping Latin punctuation:\", color=text_color)\n",
    "cprint(text=\"-\" * 100, color=line_color)\n",
    "cprint(text=text, color=text_color)"
   ]
  },
  {
   "cell_type": "markdown",
   "metadata": {},
   "source": [
    "### *Ligature Replacement*"
   ]
  },
  {
   "cell_type": "markdown",
   "metadata": {},
   "source": [
    "Replace ‘œæ’ with AE, ‘Œ Æ’ with OE"
   ]
  },
  {
   "cell_type": "code",
   "execution_count": 10,
   "metadata": {
    "scrolled": true
   },
   "outputs": [
    {
     "name": "stdout",
     "output_type": "stream",
     "text": [
      "\u001b[34m----------------------------------------------------------------------------------------------------\u001b[0m\n",
      "\u001b[35mReplacing ligatures (œ, æ) from text:\u001b[0m\n",
      "\u001b[34m----------------------------------------------------------------------------------------------------\u001b[0m\n",
      "\u001b[35mACTA ARCHELAI  Thesaurus verus sive disputatio habita in Carcharis eiTitate Mesopotamiae\n",
      "Archelai episeopi adversus Manen  Judicantibus Manippo et\n",
      "Aegialeo et Clandio et Cleobolo  In qua urbe erat quidani vir Marcellus \n",
      " nomine qui vita et studiis et genere  prudentia quoque et honestate\n",
      "valde clanis habebatnr  faeultatibus etiam copiosus et quoii\n",
      "omnium maximiim est  religiosiasime deum timens  et his quae de\n",
      "Christo dicebantur semper cum timore auscultans  nec quicquam omnino\n",
      "honi erat quod illi viro deesset  unde et honore plurimo ab nniversa \n",
      " eivitate colebatnr plnrimisque ipse civitatem suam freqiienter largitionibus\n",
      "remunerabatur  paiiperibus tribuens  adfticts relevans  tribulatis\n",
      "auxilium ferens  Sed ne infirmitate verborum virtutibns viri derogemus\n",
      "potius quam digna proferamus  haec diitisse sufficiat  ad opus quod\n",
      "propositum est reniam  Qiiodam in tempore cum Archelao episcopo \n",
      " captivomm multitudo fuisset oblata a militibus qui ibi castra servabant \n",
      "Septem milia numero et aeptingenti  non mediocris eum solHcitudo constrinxerat \n",
      "eo quod pro salute ipsorum aurura a militibus posceretiir \n",
      "quique cum dissimulare non posset  pro religiono et timore dei vehementer\n",
      "aestuabat et  tandem ad Mareellum properana  rei geatae negotium\n",
      " exponit  Verum ut baec audivit piissimus Marcellus  nihil omnino \n",
      " CM \n",
      "   Dispatatio archelay et manychei rot vel manee scripta ab emogenio presbytero\n",
      "mn xtrei SrkreUiem des XIV  Jahrhunderts geschriben C  Indpit Altercatdo Sancti Arcbelay episeopi mesopotAmie cum maledicto Manicbeo heratico abi\n",
      "didtur et de condicione et de doctrina et de flne ipsios maledicti manichei rot\n",
      "M |   carcharis] zu carchar durch Ras  corr  C charcharis M  vgl  vgl        auch bei\n",
      "den Griechen ist die Form dieses Wortes unsicher  bei Epiphanius findet die\n",
      "Formen Kaσχάρων und Καλχάρων  bei Photius Kαρχάρων  bei Oyrill und Socrates\n",
      "Kασχάρων  bei dem Auctor anonymus libelli synodici s  Einleituny Kαχάρων |\n",
      "  archelai eiiiscopi adveraus manen   C rielkicht mit Recht | adverans] uenns\n",
      "a Rae  M |   egealeo M  rgl  fiir diese Namen     –  | cleobulo Μ | nach\n",
      "urbe  ut M |   ueniamuB Μ |   qni C \n",
      "   rei gestae] omne aus omaem corr  M  M |   ut vero M | nach\n",
      "audiuit + uir C \n",
      "\n",
      " \n",
      "moratns  iagreditur domam pnveparans pretia captiyorom qnantacnmque\n",
      "poposcissent qui dedaxerant Tinotoa  et contnuo  reseratis bonorum\n",
      "suorum thesauris  pietatis pretia militibas nee nnmero aliquo nee diacretione\n",
      "ulla diatinguit  ut magis dona qaam pretia viderentur  At Uli \n",
      " admirati et amplexi tarn inmenaam viri pietatem munificentiamque et\n",
      "facti stupore permoti esemplo miaericordiae commOTentar  ita ut plurimi\n",
      "ex ipais adducerentur ad fidem domini noatri leau Christi  derelicto\n",
      "militiae cingulo  alii rero  vix quarta pretionun portione suacepta  ad\n",
      "propria castm diacederent  ceteri autem parum omnino aliqnid quantam\n",
      " viatico sufGceret accipientes abirent \u001b[0m\n"
     ]
    }
   ],
   "source": [
    "ligature_replacer = cltk.alphabet.lat.LigatureReplacer()\n",
    "ligature_replacer.replace(text=\"text\")\n",
    "cprint(text=\"-\" * 100, color=line_color)\n",
    "cprint(text=\"Replacing ligatures (œ, æ) from text:\", color=text_color)\n",
    "cprint(text=\"-\" * 100, color=line_color)\n",
    "cprint(text=text, color=text_color)"
   ]
  },
  {
   "cell_type": "markdown",
   "metadata": {},
   "source": [
    "### *Drop Accents*"
   ]
  },
  {
   "cell_type": "markdown",
   "metadata": {},
   "source": [
    "Remove accents; note: AE replacement and macron replacement should happen elsewhere, if desired. "
   ]
  },
  {
   "cell_type": "code",
   "execution_count": 11,
   "metadata": {},
   "outputs": [
    {
     "name": "stdout",
     "output_type": "stream",
     "text": [
      "\u001b[34m----------------------------------------------------------------------------------------------------\u001b[0m\n",
      "\u001b[35mDropping accents:\u001b[0m\n",
      "\u001b[34m----------------------------------------------------------------------------------------------------\u001b[0m\n",
      "\u001b[35mACTA ARCHELAI  Thesaurus verus sive disputatio habita in Carcharis eiTitate Mesopotamiae\n",
      "Archelai episeopi adversus Manen  Judicantibus Manippo et\n",
      "Aegialeo et Clandio et Cleobolo  In qua urbe erat quidani vir Marcellus \n",
      " nomine qui vita et studiis et genere  prudentia quoque et honestate\n",
      "valde clanis habebatnr  faeultatibus etiam copiosus et quoii\n",
      "omnium maximiim est  religiosiasime deum timens  et his quae de\n",
      "Christo dicebantur semper cum timore auscultans  nec quicquam omnino\n",
      "honi erat quod illi viro deesset  unde et honore plurimo ab nniversa \n",
      " eivitate colebatnr plnrimisque ipse civitatem suam freqiienter largitionibus\n",
      "remunerabatur  paiiperibus tribuens  adfticts relevans  tribulatis\n",
      "auxilium ferens  Sed ne infirmitate verborum virtutibns viri derogemus\n",
      "potius quam digna proferamus  haec diitisse sufficiat  ad opus quod\n",
      "propositum est reniam  Qiiodam in tempore cum Archelao episcopo \n",
      " captivomm multitudo fuisset oblata a militibus qui ibi castra servabant \n",
      "Septem milia numero et aeptingenti  non mediocris eum solHcitudo constrinxerat \n",
      "eo quod pro salute ipsorum aurura a militibus posceretiir \n",
      "quique cum dissimulare non posset  pro religiono et timore dei vehementer\n",
      "aestuabat et  tandem ad Mareellum properana  rei geatae negotium\n",
      " exponit  Verum ut baec audivit piissimus Marcellus  nihil omnino \n",
      " CM \n",
      "   Dispatatio archelay et manychei rot vel manee scripta ab emogenio presbytero\n",
      "mn xtrei SrkreUiem des XIV  Jahrhunderts geschriben C  Indpit Altercatdo Sancti Arcbelay episeopi mesopotAmie cum maledicto Manicbeo heratico abi\n",
      "didtur et de condicione et de doctrina et de flne ipsios maledicti manichei rot\n",
      "M |   carcharis] zu carchar durch Ras  corr  C charcharis M  vgl  vgl        auch bei\n",
      "den Griechen ist die Form dieses Wortes unsicher  bei Epiphanius findet die\n",
      "Formen Kaσχάρων und Καλχάρων  bei Photius Kαρχάρων  bei Oyrill und Socrates\n",
      "Kασχάρων  bei dem Auctor anonymus libelli synodici s  Einleituny Kαχάρων |\n",
      "  archelai eiiiscopi adveraus manen   C rielkicht mit Recht | adverans] uenns\n",
      "a Rae  M |   egealeo M  rgl  fiir diese Namen     –  | cleobulo Μ | nach\n",
      "urbe  ut M |   ueniamuB Μ |   qni C \n",
      "   rei gestae] omne aus omaem corr  M  M |   ut vero M | nach\n",
      "audiuit + uir C \n",
      "\n",
      " \n",
      "moratns  iagreditur domam pnveparans pretia captiyorom qnantacnmque\n",
      "poposcissent qui dedaxerant Tinotoa  et contnuo  reseratis bonorum\n",
      "suorum thesauris  pietatis pretia militibas nee nnmero aliquo nee diacretione\n",
      "ulla diatinguit  ut magis dona qaam pretia viderentur  At Uli \n",
      " admirati et amplexi tarn inmenaam viri pietatem munificentiamque et\n",
      "facti stupore permoti esemplo miaericordiae commOTentar  ita ut plurimi\n",
      "ex ipais adducerentur ad fidem domini noatri leau Christi  derelicto\n",
      "militiae cingulo  alii rero  vix quarta pretionun portione suacepta  ad\n",
      "propria castm diacederent  ceteri autem parum omnino aliqnid quantam\n",
      " viatico sufGceret accipientes abirent \u001b[0m\n"
     ]
    }
   ],
   "source": [
    "text = cltk.alphabet.lat.remove_accents(text=text)\n",
    "cprint(text=\"-\" * 100, color=line_color)\n",
    "cprint(text=\"Dropping accents:\", color=text_color)\n",
    "cprint(text=\"-\" * 100, color=line_color)\n",
    "cprint(text=text, color=text_color)"
   ]
  },
  {
   "cell_type": "markdown",
   "metadata": {},
   "source": [
    "### *Drop Macrons*"
   ]
  },
  {
   "cell_type": "markdown",
   "metadata": {},
   "source": [
    "Remove macrons, which indicate long pronounciation, above vowels."
   ]
  },
  {
   "cell_type": "code",
   "execution_count": 12,
   "metadata": {},
   "outputs": [
    {
     "name": "stdout",
     "output_type": "stream",
     "text": [
      "\u001b[34m----------------------------------------------------------------------------------------------------\u001b[0m\n",
      "\u001b[35mDropping macrons:\u001b[0m\n",
      "\u001b[34m----------------------------------------------------------------------------------------------------\u001b[0m\n",
      "\u001b[35mACTA ARCHELAI  Thesaurus verus sive disputatio habita in Carcharis eiTitate Mesopotamiae\n",
      "Archelai episeopi adversus Manen  Judicantibus Manippo et\n",
      "Aegialeo et Clandio et Cleobolo  In qua urbe erat quidani vir Marcellus \n",
      " nomine qui vita et studiis et genere  prudentia quoque et honestate\n",
      "valde clanis habebatnr  faeultatibus etiam copiosus et quoii\n",
      "omnium maximiim est  religiosiasime deum timens  et his quae de\n",
      "Christo dicebantur semper cum timore auscultans  nec quicquam omnino\n",
      "honi erat quod illi viro deesset  unde et honore plurimo ab nniversa \n",
      " eivitate colebatnr plnrimisque ipse civitatem suam freqiienter largitionibus\n",
      "remunerabatur  paiiperibus tribuens  adfticts relevans  tribulatis\n",
      "auxilium ferens  Sed ne infirmitate verborum virtutibns viri derogemus\n",
      "potius quam digna proferamus  haec diitisse sufficiat  ad opus quod\n",
      "propositum est reniam  Qiiodam in tempore cum Archelao episcopo \n",
      " captivomm multitudo fuisset oblata a militibus qui ibi castra servabant \n",
      "Septem milia numero et aeptingenti  non mediocris eum solHcitudo constrinxerat \n",
      "eo quod pro salute ipsorum aurura a militibus posceretiir \n",
      "quique cum dissimulare non posset  pro religiono et timore dei vehementer\n",
      "aestuabat et  tandem ad Mareellum properana  rei geatae negotium\n",
      " exponit  Verum ut baec audivit piissimus Marcellus  nihil omnino \n",
      " CM \n",
      "   Dispatatio archelay et manychei rot vel manee scripta ab emogenio presbytero\n",
      "mn xtrei SrkreUiem des XIV  Jahrhunderts geschriben C  Indpit Altercatdo Sancti Arcbelay episeopi mesopotAmie cum maledicto Manicbeo heratico abi\n",
      "didtur et de condicione et de doctrina et de flne ipsios maledicti manichei rot\n",
      "M |   carcharis] zu carchar durch Ras  corr  C charcharis M  vgl  vgl        auch bei\n",
      "den Griechen ist die Form dieses Wortes unsicher  bei Epiphanius findet die\n",
      "Formen Kaσχάρων und Καλχάρων  bei Photius Kαρχάρων  bei Oyrill und Socrates\n",
      "Kασχάρων  bei dem Auctor anonymus libelli synodici s  Einleituny Kαχάρων |\n",
      "  archelai eiiiscopi adveraus manen   C rielkicht mit Recht | adverans] uenns\n",
      "a Rae  M |   egealeo M  rgl  fiir diese Namen     –  | cleobulo Μ | nach\n",
      "urbe  ut M |   ueniamuB Μ |   qni C \n",
      "   rei gestae] omne aus omaem corr  M  M |   ut vero M | nach\n",
      "audiuit + uir C \n",
      "\n",
      " \n",
      "moratns  iagreditur domam pnveparans pretia captiyorom qnantacnmque\n",
      "poposcissent qui dedaxerant Tinotoa  et contnuo  reseratis bonorum\n",
      "suorum thesauris  pietatis pretia militibas nee nnmero aliquo nee diacretione\n",
      "ulla diatinguit  ut magis dona qaam pretia viderentur  At Uli \n",
      " admirati et amplexi tarn inmenaam viri pietatem munificentiamque et\n",
      "facti stupore permoti esemplo miaericordiae commOTentar  ita ut plurimi\n",
      "ex ipais adducerentur ad fidem domini noatri leau Christi  derelicto\n",
      "militiae cingulo  alii rero  vix quarta pretionun portione suacepta  ad\n",
      "propria castm diacederent  ceteri autem parum omnino aliqnid quantam\n",
      " viatico sufGceret accipientes abirent \u001b[0m\n"
     ]
    }
   ],
   "source": [
    "text = cltk.alphabet.lat.remove_macrons(text=text)\n",
    "cprint(text=\"-\" * 100, color=line_color)\n",
    "cprint(text=\"Dropping macrons:\", color=text_color)\n",
    "cprint(text=\"-\" * 100, color=line_color)\n",
    "cprint(text=text, color=text_color)"
   ]
  },
  {
   "cell_type": "markdown",
   "metadata": {},
   "source": [
    "## Spelling and Capitalization"
   ]
  },
  {
   "cell_type": "markdown",
   "metadata": {},
   "source": [
    "### *Spell Checker*"
   ]
  },
  {
   "cell_type": "markdown",
   "metadata": {},
   "source": [
    "Correct any spelling and wrong case endings."
   ]
  },
  {
   "cell_type": "raw",
   "metadata": {},
   "source": [
    "N/A"
   ]
  },
  {
   "cell_type": "markdown",
   "metadata": {},
   "source": [
    "### Truecase"
   ]
  },
  {
   "cell_type": "markdown",
   "metadata": {},
   "source": [
    "Correct any mistakes with capitalization using Truecase dictionary, which is a frequency counter of all distinct capitalizations of the same word in a given text. Usually, the most frequent capitalization is deemed the default capitalization and applied for the word to be corrected for capitalization."
   ]
  },
  {
   "cell_type": "raw",
   "metadata": {},
   "source": [
    "Work in progress\n",
    "word_corrected = cltk.alphabet.lat.truecase(word, case_counter)"
   ]
  },
  {
   "cell_type": "code",
   "execution_count": null,
   "metadata": {},
   "outputs": [],
   "source": []
  },
  {
   "cell_type": "code",
   "execution_count": null,
   "metadata": {},
   "outputs": [],
   "source": []
  },
  {
   "cell_type": "markdown",
   "metadata": {},
   "source": [
    "# Term Extraction"
   ]
  },
  {
   "cell_type": "markdown",
   "metadata": {},
   "source": [
    "Detect and extract potentially important terms from text."
   ]
  },
  {
   "cell_type": "code",
   "execution_count": null,
   "metadata": {},
   "outputs": [],
   "source": []
  },
  {
   "cell_type": "code",
   "execution_count": null,
   "metadata": {},
   "outputs": [],
   "source": []
  },
  {
   "cell_type": "code",
   "execution_count": null,
   "metadata": {},
   "outputs": [],
   "source": []
  },
  {
   "cell_type": "code",
   "execution_count": null,
   "metadata": {},
   "outputs": [],
   "source": []
  },
  {
   "cell_type": "code",
   "execution_count": null,
   "metadata": {},
   "outputs": [],
   "source": []
  },
  {
   "cell_type": "code",
   "execution_count": null,
   "metadata": {},
   "outputs": [],
   "source": []
  },
  {
   "cell_type": "code",
   "execution_count": null,
   "metadata": {},
   "outputs": [],
   "source": []
  },
  {
   "cell_type": "code",
   "execution_count": null,
   "metadata": {},
   "outputs": [],
   "source": []
  },
  {
   "cell_type": "code",
   "execution_count": null,
   "metadata": {},
   "outputs": [],
   "source": []
  },
  {
   "cell_type": "code",
   "execution_count": null,
   "metadata": {},
   "outputs": [],
   "source": []
  },
  {
   "cell_type": "code",
   "execution_count": null,
   "metadata": {},
   "outputs": [],
   "source": []
  },
  {
   "cell_type": "code",
   "execution_count": null,
   "metadata": {},
   "outputs": [],
   "source": []
  },
  {
   "cell_type": "code",
   "execution_count": null,
   "metadata": {},
   "outputs": [],
   "source": []
  },
  {
   "cell_type": "code",
   "execution_count": null,
   "metadata": {},
   "outputs": [],
   "source": []
  },
  {
   "cell_type": "code",
   "execution_count": null,
   "metadata": {},
   "outputs": [],
   "source": []
  },
  {
   "cell_type": "code",
   "execution_count": null,
   "metadata": {},
   "outputs": [],
   "source": []
  },
  {
   "cell_type": "code",
   "execution_count": null,
   "metadata": {},
   "outputs": [],
   "source": []
  },
  {
   "cell_type": "code",
   "execution_count": null,
   "metadata": {},
   "outputs": [],
   "source": []
  },
  {
   "cell_type": "code",
   "execution_count": null,
   "metadata": {},
   "outputs": [],
   "source": []
  }
 ],
 "metadata": {
  "kernelspec": {
   "display_name": "Python 3",
   "language": "python",
   "name": "python3"
  },
  "language_info": {
   "codemirror_mode": {
    "name": "ipython",
    "version": 3
   },
   "file_extension": ".py",
   "mimetype": "text/x-python",
   "name": "python",
   "nbconvert_exporter": "python",
   "pygments_lexer": "ipython3",
   "version": "3.8.10"
  },
  "latex_envs": {
   "LaTeX_envs_menu_present": true,
   "autoclose": false,
   "autocomplete": true,
   "bibliofile": "biblio.bib",
   "cite_by": "apalike",
   "current_citInitial": 1,
   "eqLabelWithNumbers": true,
   "eqNumInitial": 1,
   "hotkeys": {
    "equation": "Ctrl-E",
    "itemize": "Ctrl-I"
   },
   "labels_anchors": false,
   "latex_user_defs": false,
   "report_style_numbering": false,
   "user_envs_cfg": false
  }
 },
 "nbformat": 4,
 "nbformat_minor": 4
}
