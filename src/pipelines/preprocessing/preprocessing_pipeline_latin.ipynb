{
 "cells": [
  {
   "cell_type": "markdown",
   "metadata": {},
   "source": [
    "# Preprocessing Pipeline for Latin"
   ]
  },
  {
   "cell_type": "markdown",
   "metadata": {},
   "source": [
    "Under each level 2 or smaller heading, choose one or more cells do run. Each cell is a single step that can be added to the whole pipeline. To skip a step, simply convert the cell to `raw` type with `esc` + `r` keys. By default, all steps are initially skipped."
   ]
  },
  {
   "cell_type": "markdown",
   "metadata": {},
   "source": [
    "## Initial Setup"
   ]
  },
  {
   "cell_type": "markdown",
   "metadata": {},
   "source": [
    "Frequently used Python modules."
   ]
  },
  {
   "cell_type": "code",
   "execution_count": 7,
   "metadata": {},
   "outputs": [
    {
     "ename": "ModuleNotFoundError",
     "evalue": "No module named 'cltk'",
     "output_type": "error",
     "traceback": [
      "\u001b[0;31m---------------------------------------------------------------------------\u001b[0m",
      "\u001b[0;31mModuleNotFoundError\u001b[0m                       Traceback (most recent call last)",
      "Cell \u001b[0;32mIn [7], line 1\u001b[0m\n\u001b[0;32m----> 1\u001b[0m \u001b[38;5;28;01mimport\u001b[39;00m \u001b[38;5;21;01mre\u001b[39;00m\u001b[38;5;241m,\u001b[39m \u001b[38;5;21;01mos\u001b[39;00m\u001b[38;5;241m,\u001b[39m \u001b[38;5;21;01mcltk\u001b[39;00m\u001b[38;5;241m,\u001b[39m \u001b[38;5;21;01mrequests\u001b[39;00m\u001b[38;5;241m,\u001b[39m \u001b[38;5;21;01mspacy\u001b[39;00m\u001b[38;5;241m,\u001b[39m \u001b[38;5;21;01mtextblob\u001b[39;00m\n\u001b[1;32m      2\u001b[0m \u001b[38;5;28;01mfrom\u001b[39;00m \u001b[38;5;21;01mpprint\u001b[39;00m \u001b[38;5;28;01mimport\u001b[39;00m pprint\n\u001b[1;32m      3\u001b[0m \u001b[38;5;28;01mfrom\u001b[39;00m \u001b[38;5;21;01mtermcolor\u001b[39;00m \u001b[38;5;28;01mimport\u001b[39;00m colored, cprint\n",
      "\u001b[0;31mModuleNotFoundError\u001b[0m: No module named 'cltk'"
     ]
    }
   ],
   "source": [
    "import re, os, cltk, requests, spacy, textblob\n",
    "from pprint import pprint\n",
    "from termcolor import colored, cprint"
   ]
  },
  {
   "cell_type": "markdown",
   "metadata": {},
   "source": [
    "Configurations."
   ]
  },
  {
   "cell_type": "code",
   "execution_count": null,
   "metadata": {},
   "outputs": [],
   "source": [
    "# print coloring options\n",
    "line_color = \"blue\"\n",
    "text_color = \"magenta\"\n",
    "reference_color = \"white\""
   ]
  },
  {
   "cell_type": "markdown",
   "metadata": {},
   "source": [
    "## Import Data"
   ]
  },
  {
   "cell_type": "markdown",
   "metadata": {},
   "source": [
    "Import Latin text."
   ]
  },
  {
   "cell_type": "markdown",
   "metadata": {},
   "source": [
    "### *From TXT File*"
   ]
  },
  {
   "cell_type": "code",
   "execution_count": 3,
   "metadata": {
    "scrolled": true
   },
   "outputs": [],
   "source": [
    "def load_txt(filename: str):\n",
    "    \"\"\"\n",
    "    Extract text from a .txt file.\n",
    "\n",
    "    Parameters:\n",
    "        filename (str): Path of file to load.\n",
    "\n",
    "    Returns:\n",
    "        str: Text loaded from file.\n",
    "    \"\"\"\n",
    "    if not os.path.exists(path=filename):\n",
    "        raise ValueError(f\"The path {filename} does not exist.\")\n",
    "\n",
    "    text = open(file=filename, mode=\"r\").read()\n",
    "    return text"
   ]
  },
  {
   "cell_type": "code",
   "execution_count": 6,
   "metadata": {},
   "outputs": [
    {
     "ename": "NameError",
     "evalue": "name 'cprint' is not defined",
     "output_type": "error",
     "traceback": [
      "\u001b[0;31m---------------------------------------------------------------------------\u001b[0m",
      "\u001b[0;31mNameError\u001b[0m                                 Traceback (most recent call last)",
      "Cell \u001b[0;32mIn [6], line 4\u001b[0m\n\u001b[1;32m      2\u001b[0m filename \u001b[38;5;241m=\u001b[39m \u001b[38;5;124m'\u001b[39m\u001b[38;5;124m/mnt/c/share/AI-in-Classics/src/sample_text/latin/urn_cts_greekLit_stoa0146d.stoa001.opp-lat11.txt\u001b[39m\u001b[38;5;124m'\u001b[39m\n\u001b[1;32m      3\u001b[0m text \u001b[38;5;241m=\u001b[39m load_txt(filename\u001b[38;5;241m=\u001b[39mfilename)\n\u001b[0;32m----> 4\u001b[0m cprint(text\u001b[38;5;241m=\u001b[39m\u001b[38;5;124m'\u001b[39m\u001b[38;5;124m-\u001b[39m\u001b[38;5;124m'\u001b[39m \u001b[38;5;241m*\u001b[39m \u001b[38;5;241m100\u001b[39m, color\u001b[38;5;241m=\u001b[39mline_color)\n\u001b[1;32m      5\u001b[0m cprint(text\u001b[38;5;241m=\u001b[39m\u001b[38;5;124m'\u001b[39m\u001b[38;5;124mLoading from TXT file:\u001b[39m\u001b[38;5;124m'\u001b[39m, color\u001b[38;5;241m=\u001b[39mtext_color)\n\u001b[1;32m      6\u001b[0m cprint(text\u001b[38;5;241m=\u001b[39mfilename, color\u001b[38;5;241m=\u001b[39mreference_color)\n",
      "\u001b[0;31mNameError\u001b[0m: name 'cprint' is not defined"
     ]
    }
   ],
   "source": [
    "# Example\n",
    "filename = \"/mnt/c/share/AI-in-Classics/src/sample_text/latin/urn_cts_greekLit_stoa0146d.stoa001.opp-lat11.txt\"\n",
    "text = load_txt(filename=filename)\n",
    "cprint(text=\"-\" * 100, color=line_color)\n",
    "cprint(text=\"Loading from TXT file:\", color=text_color)\n",
    "cprint(text=filename, color=reference_color)\n",
    "cprint(text=\"-\" * 100, color=line_color)\n",
    "cprint(text=text, color=text_color)"
   ]
  },
  {
   "cell_type": "markdown",
   "metadata": {},
   "source": [
    "### *From URI*"
   ]
  },
  {
   "cell_type": "code",
   "execution_count": null,
   "metadata": {},
   "outputs": [
    {
     "ename": "NameError",
     "evalue": "name 'requests' is not defined",
     "output_type": "error",
     "traceback": [
      "\u001b[0;31m---------------------------------------------------------------------------\u001b[0m",
      "\u001b[0;31mNameError\u001b[0m                                 Traceback (most recent call last)",
      "Cell \u001b[0;32mIn [4], line 15\u001b[0m\n\u001b[1;32m     12\u001b[0m     \u001b[38;5;28;01mreturn\u001b[39;00m req\u001b[38;5;241m.\u001b[39mtext\n\u001b[1;32m     14\u001b[0m uri \u001b[38;5;241m=\u001b[39m \u001b[38;5;124m'\u001b[39m\u001b[38;5;124mhttps://scaife.perseus.org/library/passage/urn:cts:greekLit:stoa0146d.stoa001.opp-lat1:1/text/\u001b[39m\u001b[38;5;124m'\u001b[39m\n\u001b[0;32m---> 15\u001b[0m text \u001b[38;5;241m=\u001b[39m load_uri(uri\u001b[38;5;241m=\u001b[39muri)\n\u001b[1;32m     16\u001b[0m cprint(text\u001b[38;5;241m=\u001b[39m\u001b[38;5;124m'\u001b[39m\u001b[38;5;124m-\u001b[39m\u001b[38;5;124m'\u001b[39m \u001b[38;5;241m*\u001b[39m \u001b[38;5;241m100\u001b[39m, color\u001b[38;5;241m=\u001b[39mline_color)\n\u001b[1;32m     17\u001b[0m cprint(text\u001b[38;5;241m=\u001b[39m\u001b[38;5;124m'\u001b[39m\u001b[38;5;124mLoading from URI:\u001b[39m\u001b[38;5;124m'\u001b[39m, color\u001b[38;5;241m=\u001b[39mtext_color)\n",
      "Cell \u001b[0;32mIn [4], line 11\u001b[0m, in \u001b[0;36mload_uri\u001b[0;34m(uri)\u001b[0m\n\u001b[1;32m      1\u001b[0m \u001b[38;5;28;01mdef\u001b[39;00m \u001b[38;5;21mload_uri\u001b[39m(uri: \u001b[38;5;28mstr\u001b[39m):\n\u001b[1;32m      2\u001b[0m     \u001b[38;5;124;03m\"\"\"\u001b[39;00m\n\u001b[1;32m      3\u001b[0m \u001b[38;5;124;03m    Load text from URI.\u001b[39;00m\n\u001b[1;32m      4\u001b[0m \n\u001b[0;32m   (...)\u001b[0m\n\u001b[1;32m      9\u001b[0m \u001b[38;5;124;03m        str: Text loaded from URI.\u001b[39;00m\n\u001b[1;32m     10\u001b[0m \u001b[38;5;124;03m    \"\"\"\u001b[39;00m\n\u001b[0;32m---> 11\u001b[0m     req \u001b[38;5;241m=\u001b[39m \u001b[43mrequests\u001b[49m\u001b[38;5;241m.\u001b[39mget(url\u001b[38;5;241m=\u001b[39muri)\n\u001b[1;32m     12\u001b[0m     \u001b[38;5;28;01mreturn\u001b[39;00m req\u001b[38;5;241m.\u001b[39mtext\n",
      "\u001b[0;31mNameError\u001b[0m: name 'requests' is not defined"
     ]
    }
   ],
   "source": [
    "def load_uri(uri: str):\n",
    "    \"\"\"\n",
    "    Load text from URI.\n",
    "\n",
    "    Parameters:\n",
    "        uri (str): URI link to text online.\n",
    "\n",
    "    Returns:\n",
    "        str: Text loaded from URI.\n",
    "    \"\"\"\n",
    "    req = requests.get(url=uri)\n",
    "    return req.text"
   ]
  },
  {
   "cell_type": "code",
   "execution_count": null,
   "metadata": {},
   "outputs": [],
   "source": [
    "# Example\n",
    "uri = \"https://scaife.perseus.org/library/passage/urn:cts:greekLit:stoa0146d.stoa001.opp-lat1:1/text/\"\n",
    "text = load_uri(uri=uri)\n",
    "cprint(text=\"-\" * 100, color=line_color)\n",
    "cprint(text=\"Loading from URI:\", color=text_color)\n",
    "cprint(text=uri, color=reference_color)\n",
    "cprint(text=\"-\" * 100, color=line_color)\n",
    "cprint(text=text, color=text_color)"
   ]
  },
  {
   "cell_type": "markdown",
   "metadata": {},
   "source": [
    "## Paragraph Edit"
   ]
  },
  {
   "cell_type": "markdown",
   "metadata": {},
   "source": [
    "Alter text on a paragraph level of abstraction."
   ]
  },
  {
   "cell_type": "markdown",
   "metadata": {},
   "source": [
    "### *Delete Footnotes*"
   ]
  },
  {
   "cell_type": "markdown",
   "metadata": {},
   "source": [
    "Delete all footnotes that were extracted with the main text."
   ]
  },
  {
   "cell_type": "code",
   "execution_count": null,
   "metadata": {},
   "outputs": [],
   "source": [
    "def remove_footnotes(text: str):\n",
    "    \"\"\"\n",
    "    Remove footnotes, where each footnote starts with an integer.\n",
    "\n",
    "    Parameters:\n",
    "        text (str): Text to remove footnotes from.\n",
    "\n",
    "    Returns:\n",
    "        str: Text after removing footnotes.\n",
    "    \"\"\"\n",
    "    pattern = \"[0-9](.+\\n?)+\"\n",
    "    return re.sub(pattern=pattern, repl=\"\", string=text)\n",
    "\n",
    "\n",
    "text = remove_footnotes(text=text)\n",
    "cprint(text=\"-\" * 100, color=line_color)\n",
    "cprint(text=\"Removing footnotes:\", color=text_color)\n",
    "cprint(text=\"-\" * 100, color=line_color)\n",
    "cprint(text=text, color=text_color)"
   ]
  },
  {
   "cell_type": "markdown",
   "metadata": {},
   "source": [
    "## Punctuation"
   ]
  },
  {
   "cell_type": "markdown",
   "metadata": {},
   "source": [
    "Remove, replace, or alter punctuation marks from text."
   ]
  },
  {
   "cell_type": "markdown",
   "metadata": {},
   "source": [
    "### *Swallow All Brackets*"
   ]
  },
  {
   "cell_type": "markdown",
   "metadata": {},
   "source": [
    "Delete both angle <> and square [] brackets, including the text within them. "
   ]
  },
  {
   "cell_type": "code",
   "execution_count": null,
   "metadata": {},
   "outputs": [],
   "source": [
    "text = cltk.alphabet.lat.swallow_angle_brackets(text=text)\n",
    "text = cltk.alphabet.lat.swallow_square_brackets(text=text)\n",
    "cprint(text=\"-\" * 100, color=line_color)\n",
    "cprint(text=\"Swallowing all brackets and their text:\", color=text_color)\n",
    "cprint(text=\"-\" * 100, color=line_color)\n",
    "cprint(text=text, color=text_color)"
   ]
  },
  {
   "cell_type": "markdown",
   "metadata": {},
   "source": [
    "### *Swallow Editorial*"
   ]
  },
  {
   "cell_type": "markdown",
   "metadata": {},
   "source": [
    "Delete common editorial marks."
   ]
  },
  {
   "cell_type": "code",
   "execution_count": null,
   "metadata": {},
   "outputs": [],
   "source": [
    "text = cltk.alphabet.lat.swallow_editorial(text=text)\n",
    "cprint(text=\"-\" * 100, color=line_color)\n",
    "cprint(text=\"Deleting common editorial marks:\", color=text_color)\n",
    "cprint(text=\"-\" * 100, color=line_color)\n",
    "cprint(text=text, color=text_color)"
   ]
  },
  {
   "cell_type": "markdown",
   "metadata": {},
   "source": [
    "### *Dehyphenate*"
   ]
  },
  {
   "cell_type": "markdown",
   "metadata": {},
   "source": [
    "Remove hypens, which is especially useful for overflow-wrapped text that uses hyphens."
   ]
  },
  {
   "cell_type": "code",
   "execution_count": null,
   "metadata": {},
   "outputs": [],
   "source": [
    "text = cltk.alphabet.lat.dehyphenate(text=text)\n",
    "cprint(text=\"-\" * 100, color=line_color)\n",
    "cprint(text=\"Removing hyphens from text:\", color=text_color)\n",
    "cprint(text=\"-\" * 100, color=line_color)\n",
    "cprint(text=text, color=text_color)"
   ]
  },
  {
   "cell_type": "markdown",
   "metadata": {},
   "source": [
    "### *Drop Latin Punctuation*"
   ]
  },
  {
   "cell_type": "markdown",
   "metadata": {},
   "source": [
    "Drop all Latin punctuation except the hyphen and obelization markers, replacing the punctuation with a space.  Hypens (-) and obeli (†) must be removed before this step if intended for removal."
   ]
  },
  {
   "cell_type": "code",
   "execution_count": null,
   "metadata": {},
   "outputs": [],
   "source": [
    "text = cltk.alphabet.lat.drop_latin_punctuation(text=text)\n",
    "cprint(text=\"-\" * 100, color=line_color)\n",
    "cprint(text=\"Dropping Latin punctuation:\", color=text_color)\n",
    "cprint(text=\"-\" * 100, color=line_color)\n",
    "cprint(text=text, color=text_color)"
   ]
  },
  {
   "cell_type": "markdown",
   "metadata": {},
   "source": [
    "### *Ligature Replacement*"
   ]
  },
  {
   "cell_type": "markdown",
   "metadata": {},
   "source": [
    "Replace ‘œæ’ with AE, ‘Œ Æ’ with OE"
   ]
  },
  {
   "cell_type": "code",
   "execution_count": null,
   "metadata": {
    "scrolled": true
   },
   "outputs": [],
   "source": [
    "ligature_replacer = cltk.alphabet.lat.LigatureReplacer()\n",
    "ligature_replacer.replace(text=\"text\")\n",
    "cprint(text=\"-\" * 100, color=line_color)\n",
    "cprint(text=\"Replacing ligatures (œ, æ) from text:\", color=text_color)\n",
    "cprint(text=\"-\" * 100, color=line_color)\n",
    "cprint(text=text, color=text_color)"
   ]
  },
  {
   "cell_type": "markdown",
   "metadata": {},
   "source": [
    "### *Drop Accents*"
   ]
  },
  {
   "cell_type": "markdown",
   "metadata": {},
   "source": [
    "Remove accents; note: AE replacement and macron replacement should happen elsewhere, if desired. "
   ]
  },
  {
   "cell_type": "code",
   "execution_count": null,
   "metadata": {},
   "outputs": [],
   "source": [
    "text = cltk.alphabet.lat.remove_accents(text=text)\n",
    "cprint(text=\"-\" * 100, color=line_color)\n",
    "cprint(text=\"Dropping accents:\", color=text_color)\n",
    "cprint(text=\"-\" * 100, color=line_color)\n",
    "cprint(text=text, color=text_color)"
   ]
  },
  {
   "cell_type": "markdown",
   "metadata": {},
   "source": [
    "### *Drop Macrons*"
   ]
  },
  {
   "cell_type": "markdown",
   "metadata": {},
   "source": [
    "Remove macrons, which indicate long pronounciation, above vowels."
   ]
  },
  {
   "cell_type": "code",
   "execution_count": null,
   "metadata": {},
   "outputs": [],
   "source": [
    "text = cltk.alphabet.lat.remove_macrons(text=text)\n",
    "cprint(text=\"-\" * 100, color=line_color)\n",
    "cprint(text=\"Dropping macrons:\", color=text_color)\n",
    "cprint(text=\"-\" * 100, color=line_color)\n",
    "cprint(text=text, color=text_color)"
   ]
  },
  {
   "cell_type": "markdown",
   "metadata": {},
   "source": [
    "## Spelling and Capitalization"
   ]
  },
  {
   "cell_type": "markdown",
   "metadata": {},
   "source": [
    "### *Spell Checker*"
   ]
  },
  {
   "cell_type": "markdown",
   "metadata": {},
   "source": [
    "Correct any spelling and wrong case endings."
   ]
  },
  {
   "cell_type": "raw",
   "metadata": {},
   "source": [
    "N/A"
   ]
  },
  {
   "cell_type": "markdown",
   "metadata": {},
   "source": [
    "### Truecase"
   ]
  },
  {
   "cell_type": "markdown",
   "metadata": {},
   "source": [
    "Correct any mistakes with capitalization using Truecase dictionary, which is a frequency counter of all distinct capitalizations of the same word in a given text. Usually, the most frequent capitalization is deemed the default capitalization and applied for the word to be corrected for capitalization."
   ]
  },
  {
   "cell_type": "raw",
   "metadata": {},
   "source": [
    "Work in progress\n",
    "word_corrected = cltk.alphabet.lat.truecase(word, case_counter)"
   ]
  },
  {
   "cell_type": "markdown",
   "metadata": {},
   "source": [
    "## Translation"
   ]
  },
  {
   "cell_type": "markdown",
   "metadata": {},
   "source": [
    "Translate to English using Google Translate."
   ]
  },
  {
   "cell_type": "code",
   "execution_count": null,
   "metadata": {},
   "outputs": [],
   "source": [
    "from googletrans import Translator, constants\n",
    "\n",
    "translator = Translator()\n",
    "translation = translator.translate(text=text)\n",
    "\n",
    "# text\n",
    "cprint(text=\"-\" * 100, color=line_color)\n",
    "cprint(text=\"text\", color=text_color)\n",
    "cprint(text=\"-\" * 100, color=line_color)\n",
    "cprint(text=translation.text, color=text_color)\n",
    "\n",
    "# origin\n",
    "cprint(text=\"-\" * 100, color=line_color)\n",
    "cprint(text=\"origin\", color=text_color)\n",
    "cprint(text=\"-\" * 100, color=line_color)\n",
    "cprint(text=translation.origin, color=text_color)\n",
    "\n",
    "# source\n",
    "cprint(text=\"-\" * 100, color=line_color)\n",
    "cprint(text=\"source\", color=text_color)\n",
    "cprint(text=\"-\" * 100, color=line_color)\n",
    "cprint(text=translation.src, color=text_color)\n",
    "\n",
    "# destination\n",
    "cprint(text=\"-\" * 100, color=line_color)\n",
    "cprint(text=\"destination\", color=text_color)\n",
    "cprint(text=\"-\" * 100, color=line_color)\n",
    "cprint(text=translation.dest, color=text_color)\n",
    "\n",
    "# pronounciation\n",
    "cprint(text=\"-\" * 100, color=line_color)\n",
    "cprint(text=\"pronunciation\", color=text_color)\n",
    "cprint(text=\"-\" * 100, color=line_color)\n",
    "cprint(text=translation.pronunciation, color=text_color)"
   ]
  },
  {
   "cell_type": "markdown",
   "metadata": {},
   "source": [
    "## SSH"
   ]
  },
  {
   "cell_type": "markdown",
   "metadata": {},
   "source": [
    "ssh directly into a remote server e.g. HiperGator"
   ]
  },
  {
   "cell_type": "code",
   "execution_count": null,
   "metadata": {},
   "outputs": [],
   "source": [
    "from dotenv import load_dotenv\n",
    "from paramiko import SSHClient\n",
    "\n",
    "load_dotenv()\n",
    "\n",
    "username = os.getenv(key=\"username\")\n",
    "password = os.getenv(key=\"password\")\n",
    "\n",
    "client = SSHClient()\n",
    "client.load_system_host_keys()\n",
    "client.connect(f\"{username}@hpg.rc.ufl.edu\")\n",
    "stdin, stdout, stderr = client.exec_command(\"ls -l\")"
   ]
  }
 ],
 "metadata": {
  "kernelspec": {
   "display_name": "Python 3.10.7 ('venv': venv)",
   "language": "python",
   "name": "python3"
  },
  "language_info": {
   "codemirror_mode": {
    "name": "ipython",
    "version": 3
   },
   "file_extension": ".py",
   "mimetype": "text/x-python",
   "name": "python",
   "nbconvert_exporter": "python",
   "pygments_lexer": "ipython3",
   "version": "3.10.7"
  },
  "latex_envs": {
   "LaTeX_envs_menu_present": true,
   "autoclose": false,
   "autocomplete": true,
   "bibliofile": "biblio.bib",
   "cite_by": "apalike",
   "current_citInitial": 1,
   "eqLabelWithNumbers": true,
   "eqNumInitial": 1,
   "hotkeys": {
    "equation": "Ctrl-E",
    "itemize": "Ctrl-I"
   },
   "labels_anchors": false,
   "latex_user_defs": false,
   "report_style_numbering": false,
   "user_envs_cfg": false
  },
  "vscode": {
   "interpreter": {
    "hash": "6bcf5770a21595fd11c5126840e7414e683b202125b8fd04061e6a94e5c8fee9"
   }
  }
 },
 "nbformat": 4,
 "nbformat_minor": 4
}
