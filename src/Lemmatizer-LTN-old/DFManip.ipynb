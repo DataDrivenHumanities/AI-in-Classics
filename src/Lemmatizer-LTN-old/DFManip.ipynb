{
 "cells": [
  {
   "cell_type": "code",
   "execution_count": null,
   "metadata": {},
   "outputs": [],
   "source": [
    "parsesStr = \"Dictionary_Dataframes/parses1_1.csv\"\n",
    "lemmasStr = \"Dictionary_Dataframes/lemmas.csv\""
   ]
  },
  {
   "cell_type": "code",
   "execution_count": null,
   "metadata": {},
   "outputs": [],
   "source": [
    "import pandas as pd\n",
    "#new CSV where we remove the rows whose bare_text is just another row's bare_text + enclitic\n",
    "def get_enclitic(word):\n",
    "    if(word.endswith('st')): return \"st\"\n",
    "    if(word.endswith(\"ve\")): return \"ve\"\n",
    "    if (word.endswith(\"ne\")): return \"ne\"\n",
    "    if (word.endswith(\"que\")): return \"que\"\n",
    "    if (word.endswith(\"ue\")): return \"ue\"\n",
    "    if word.endswith(\"ce\"): return \"ce\"\n",
    "def check_enclitic(word):\n",
    "    if(type(word) != str):\n",
    "        return False\n",
    "    if(word.endswith('st')):\n",
    "        return True\n",
    "    if((word.endswith(\"ve\"))\n",
    "    or (word.endswith(\"ne\"))\n",
    "    or (word.endswith(\"que\"))\n",
    "    or (word.endswith(\"ue\")) \n",
    "    or word.endswith(\"ce\")):\n",
    "        return True\n",
    "    else:\n",
    "        return False\n",
    "df = pd.read_csv(parsesStr, sep = \"{\")\n",
    "del df[\"Unnamed: 0\"]\n",
    "\n",
    "toDrop = []\n",
    "for index, row in df.iterrows():\n",
    "    if(check_enclitic(row[\"bare_text\"])):\n",
    "        #now check if it is an enclitic or not -> if it is, add index to \"toDrop\"\n",
    "        #to check, see if df has another row with the same morph_code and same word without the enclitic\n",
    "        text = row[\"bare_text\"]\n",
    "        morph = row[\"morph_code\"]\n",
    "        enclitic_text = get_enclitic(text)\n",
    "        check_against = text[0:(len(text)-(len(enclitic_text)))]\n",
    "        remove = False\n",
    "            #words with the same morph code and bare_text without enclitic\n",
    "        df2 = df.loc[df[\"morph_code\"] == morph]\n",
    "        df2 = df2.loc[df2[\"bare_text\"] == check_against]\n",
    "        for i, r in df2.iterrows():\n",
    "            remove = True\n",
    "        if(remove == True):\n",
    "            toDrop.append(index)\n",
    "df.drop(toDrop, axis=0)\n",
    "df.to_csv(\"Dictionary_Dataframes/parses_no_enclitics.csv\", sep = \"{\")"
   ]
  },
  {
   "cell_type": "code",
   "execution_count": 1,
   "metadata": {},
   "outputs": [],
   "source": [
    "#remove the parts of parses that are only in greek\n",
    "import pandas as pd\n",
    "#load old dataframes \n",
    "lemmaDF = pd.read_csv(\"Dictionary_Dataframes/lemmas.csv\", sep = \"{\")\n",
    "del lemmaDF['Unnamed: 0']\n",
    "parsesDF = pd.read_csv(\"Dictionary_Dataframes/parses.csv\", sep = \"{\")\n",
    "del parsesDF[\"Unnamed: 0\"]\n",
    "\n",
    "toDrop = []\n",
    "#now make a list of which IDs have latin words associated\n",
    "for index, row in parsesDF.iterrows():\n",
    "    df = lemmaDF.loc[lemmaDF[\"id\"] == row[\"id\"]]\n",
    "    if df.empty:\n",
    "        toDrop.append(index)\n",
    "parsesDF.drop(toDrop, axis = 0)\n",
    "parsesDF.to_csv(\"Dictionary_Dataframes/parses1_1.csv\", sep =  \"{\")"
   ]
  }
 ],
 "metadata": {
  "kernelspec": {
   "display_name": ".venv",
   "language": "python",
   "name": "python3"
  },
  "language_info": {
   "codemirror_mode": {
    "name": "ipython",
    "version": 3
   },
   "file_extension": ".py",
   "mimetype": "text/x-python",
   "name": "python",
   "nbconvert_exporter": "python",
   "pygments_lexer": "ipython3",
   "version": "3.10.8"
  },
  "orig_nbformat": 4
 },
 "nbformat": 4,
 "nbformat_minor": 2
}
