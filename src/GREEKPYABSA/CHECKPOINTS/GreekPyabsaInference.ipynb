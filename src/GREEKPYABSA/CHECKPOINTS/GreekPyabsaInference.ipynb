{
 "cells": [
  {
   "cell_type": "code",
   "execution_count": 1,
   "metadata": {},
   "outputs": [
    {
     "name": "stderr",
     "output_type": "stream",
     "text": [
      "d:\\ANACONDA\\envs\\pyabsa2.3\\lib\\site-packages\\tqdm\\auto.py:21: TqdmWarning: IProgress not found. Please update jupyter and ipywidgets. See https://ipywidgets.readthedocs.io/en/stable/user_install.html\n",
      "  from .autonotebook import tqdm as notebook_tqdm\n"
     ]
    },
    {
     "name": "stdout",
     "output_type": "stream",
     "text": [
      "[2023-09-30 21:09:18] (2.3.3) \u001b[31mPyABSA(2.3.3): If your code crashes on Colab, please use the GPU runtime. Then run \"pip install pyabsa[dev] -U\" and restart the kernel.\n",
      "Or if it does not work, you can use v1.x versions, e.g., pip install pyabsa<2.0 -U\n",
      "\n",
      "\n",
      "\n",
      "\n",
      "WARNING: When you fails to load a checkpoint, e.g., Unexpected key(s),\n",
      "Try to downgrade transformers<=4.29.0.\n",
      "\n",
      "\n",
      "\n",
      "\u001b[0m\n"
     ]
    },
    {
     "name": "stderr",
     "output_type": "stream",
     "text": [
      "d:\\ANACONDA\\envs\\pyabsa2.3\\lib\\multiprocessing\\pool.py:265: ResourceWarning: unclosed running multiprocessing pool <multiprocessing.pool.Pool state=RUN pool_size=1>\n",
      "  _warn(f\"unclosed running multiprocessing pool {self!r}\",\n",
      "ResourceWarning: Enable tracemalloc to get the object allocation traceback\n"
     ]
    },
    {
     "name": "stdout",
     "output_type": "stream",
     "text": [
      "[2023-09-30 21:09:30] (2.3.3) \u001b[31mCheckpoint:fast_lcf_atepc_Greek_cdw_apcacc_92.65_apcf1_92.61_atef1_100.0 is not found, you can raise an issue for requesting shares of checkpoints\u001b[0m\n",
      "[2023-09-30 21:09:30] (2.3.3) No checkpoint found in Model Hub for task: fast_lcf_atepc_Greek_cdw_apcacc_92.65_apcf1_92.61_atef1_100.0\n",
      "[2023-09-30 21:09:30] (2.3.3) Load aspect extractor from checkpoints\\fast_lcf_atepc_Greek_cdw_apcacc_92.65_apcf1_92.61_atef1_100.0\n",
      "[2023-09-30 21:09:30] (2.3.3) config: checkpoints\\fast_lcf_atepc_Greek_cdw_apcacc_92.65_apcf1_92.61_atef1_100.0\\fast_lcf_atepc.config\n",
      "[2023-09-30 21:09:30] (2.3.3) state_dict: checkpoints\\fast_lcf_atepc_Greek_cdw_apcacc_92.65_apcf1_92.61_atef1_100.0\\fast_lcf_atepc.state_dict\n",
      "[2023-09-30 21:09:30] (2.3.3) model: None\n",
      "[2023-09-30 21:09:30] (2.3.3) tokenizer: checkpoints\\fast_lcf_atepc_Greek_cdw_apcacc_92.65_apcf1_92.61_atef1_100.0\\fast_lcf_atepc.tokenizer\n",
      "[2023-09-30 21:09:30] (2.3.3) Set Model Device: cuda:0\n",
      "[2023-09-30 21:09:30] (2.3.3) Device Name: NVIDIA GeForce RTX 3080 Ti\n"
     ]
    },
    {
     "name": "stderr",
     "output_type": "stream",
     "text": [
      "Using bos_token, but it is not set yet.\n",
      "Using eos_token, but it is not set yet.\n"
     ]
    },
    {
     "name": "stdout",
     "output_type": "stream",
     "text": [
      "[2023-09-30 21:09:53] (2.3.3) Example 0: [ σωζω \u001b[32m<τους ελληνες:Positive Confidence:0.9443>\u001b[0m ]\n",
      "[2023-09-30 21:09:53] (2.3.3) Example 1: [ μου αρεσουν \u001b[32m<οι σπαρτιατες:Positive Confidence:0.9467>\u001b[0m ]\n",
      "[2023-09-30 21:09:53] (2.3.3) Example 2: [ λατρευω \u001b[32m<τους μυκηναιους:Positive Confidence:0.8769>\u001b[0m ]\n",
      "[2023-09-30 21:09:53] (2.3.3) Example 3: [ υπερασπιζομουν \u001b[32m<τους τρωες:Positive Confidence:0.8693>\u001b[0m ]\n",
      "[2023-09-30 21:09:53] (2.3.3) Example 4: [ μισω \u001b[32m<τους ρωμαιους:Positive Confidence:0.8149>\u001b[0m ]\n",
      "[2023-09-30 21:09:53] (2.3.3) Example 5: [ αντιπαθω \u001b[32m<τους ρωμαιους:Positive Confidence:0.7702>\u001b[0m ]\n",
      "[2023-09-30 21:09:53] (2.3.3) Example 6: [ αντιπαθω \u001b[31m<τους σκλαβους:Negative Confidence:0.7712>\u001b[0m ]\n",
      "[2023-09-30 21:09:53] (2.3.3) Example 7: [ σκοτωνω \u001b[31m<αντρες:Negative Confidence:0.8679>\u001b[0m ]\n",
      "[2023-09-30 21:09:53] (2.3.3) Example 8: [ \u001b[32m<οι ρωμαιοι:Positive Confidence:0.9174>\u001b[0m ειναι καλοι ]\n",
      "[2023-09-30 21:09:53] (2.3.3) Example 9: [ \u001b[32m<οι ελληνες:Positive Confidence:0.9332>\u001b[0m εναι ωραιοι ]\n",
      "[2023-09-30 21:09:53] (2.3.3) Example 10: [ \u001b[32m<οι σπαρτιατες:Positive Confidence:0.9426>\u001b[0m ειναι δυνατοι ]\n",
      "[2023-09-30 21:09:53] (2.3.3) Example 11: [ \u001b[32m<οι μυκηναιοι:Positive Confidence:0.8888>\u001b[0m ειναι καλοι ]\n",
      "[2023-09-30 21:09:53] (2.3.3) Example 12: [ \u001b[32m<οι trojan:Positive Confidence:0.6707>\u001b[0m ειναι γρηγοροι ]\n",
      "[2023-09-30 21:09:53] (2.3.3) Example 13: [ \u001b[31m<οι ελληνες:Negative Confidence:0.9583>\u001b[0m ηταν κακοι ]\n",
      "[2023-09-30 21:09:53] (2.3.3) Example 14: [ \u001b[31m<οι ρωμαιος:Negative Confidence:0.9594>\u001b[0m ειναι κακοι ]\n",
      "[2023-09-30 21:09:53] (2.3.3) Example 15: [ \u001b[31m<οι ρωμαιοι:Negative Confidence:0.9427>\u001b[0m ειναι αγενεις ]\n",
      "[2023-09-30 21:09:53] (2.3.3) Example 16: [ \u001b[31m<οι σκλαβοι:Negative Confidence:0.9598>\u001b[0m ειναι κακοι ]\n",
      "[2023-09-30 21:09:53] (2.3.3) Example 17: [ \u001b[31m<οι αντρες:Negative Confidence:0.9626>\u001b[0m ειναι σκληροι ]\n",
      "[{'sentence': '[ σωζω τους ελληνες ]', 'IOB': ['O', 'O', 'B-ASP', 'I-ASP', 'O'], 'tokens': ['[', 'σωζω', 'τους', 'ελληνες', ']'], 'aspect': ['τους ελληνες'], 'position': [[2, 3]], 'sentiment': ['Positive'], 'probs': [[0.05567331612110138, 0.9443266987800598]], 'confidence': [0.9443]}, {'sentence': '[ μου αρεσουν οι σπαρτιατες ]', 'IOB': ['O', 'O', 'O', 'B-ASP', 'I-ASP', 'O'], 'tokens': ['[', 'μου', 'αρεσουν', 'οι', 'σπαρτιατες', ']'], 'aspect': ['οι σπαρτιατες'], 'position': [[3, 4]], 'sentiment': ['Positive'], 'probs': [[0.05332896485924721, 0.9466710090637207]], 'confidence': [0.9467]}, {'sentence': '[ λατρευω τους μυκηναιους ]', 'IOB': ['O', 'O', 'B-ASP', 'I-ASP', 'O'], 'tokens': ['[', 'λατρευω', 'τους', 'μυκηναιους', ']'], 'aspect': ['τους μυκηναιους'], 'position': [[2, 3]], 'sentiment': ['Positive'], 'probs': [[0.12310051918029785, 0.8768994808197021]], 'confidence': [0.8769]}, {'sentence': '[ υπερασπιζομουν τους τρωες ]', 'IOB': ['O', 'O', 'B-ASP', 'I-ASP', 'O'], 'tokens': ['[', 'υπερασπιζομουν', 'τους', 'τρωες', ']'], 'aspect': ['τους τρωες'], 'position': [[2, 3]], 'sentiment': ['Positive'], 'probs': [[0.13073928654193878, 0.8692607879638672]], 'confidence': [0.8693]}, {'sentence': '[ μισω τους ρωμαιους ]', 'IOB': ['O', 'O', 'B-ASP', 'I-ASP', 'O'], 'tokens': ['[', 'μισω', 'τους', 'ρωμαιους', ']'], 'aspect': ['τους ρωμαιους'], 'position': [[2, 3]], 'sentiment': ['Positive'], 'probs': [[0.1851482391357422, 0.8148517608642578]], 'confidence': [0.8149]}, {'sentence': '[ αντιπαθω τους ρωμαιους ]', 'IOB': ['O', 'O', 'B-ASP', 'I-ASP', 'O'], 'tokens': ['[', 'αντιπαθω', 'τους', 'ρωμαιους', ']'], 'aspect': ['τους ρωμαιους'], 'position': [[2, 3]], 'sentiment': ['Positive'], 'probs': [[0.22982297837734222, 0.7701770067214966]], 'confidence': [0.7702]}, {'sentence': '[ αντιπαθω τους σκλαβους ]', 'IOB': ['O', 'O', 'B-ASP', 'I-ASP', 'O'], 'tokens': ['[', 'αντιπαθω', 'τους', 'σκλαβους', ']'], 'aspect': ['τους σκλαβους'], 'position': [[2, 3]], 'sentiment': ['Negative'], 'probs': [[0.771217405796051, 0.22878262400627136]], 'confidence': [0.7712]}, {'sentence': '[ σκοτωνω αντρες ]', 'IOB': ['O', 'O', 'B-ASP', 'O'], 'tokens': ['[', 'σκοτωνω', 'αντρες', ']'], 'aspect': ['αντρες'], 'position': [[2]], 'sentiment': ['Negative'], 'probs': [[0.8679404258728027, 0.13205954432487488]], 'confidence': [0.8679]}, {'sentence': '[ οι ρωμαιοι ειναι καλοι ]', 'IOB': ['O', 'B-ASP', 'I-ASP', 'O', 'O', 'O'], 'tokens': ['[', 'οι', 'ρωμαιοι', 'ειναι', 'καλοι', ']'], 'aspect': ['οι ρωμαιοι'], 'position': [[1, 2]], 'sentiment': ['Positive'], 'probs': [[0.08263865858316422, 0.917361319065094]], 'confidence': [0.9174]}, {'sentence': '[ οι ελληνες εναι ωραιοι ]', 'IOB': ['O', 'B-ASP', 'I-ASP', 'O', 'O', 'O'], 'tokens': ['[', 'οι', 'ελληνες', 'εναι', 'ωραιοι', ']'], 'aspect': ['οι ελληνες'], 'position': [[1, 2]], 'sentiment': ['Positive'], 'probs': [[0.06680400669574738, 0.9331960082054138]], 'confidence': [0.9332]}, {'sentence': '[ οι σπαρτιατες ειναι δυνατοι ]', 'IOB': ['O', 'B-ASP', 'I-ASP', 'O', 'O', 'O'], 'tokens': ['[', 'οι', 'σπαρτιατες', 'ειναι', 'δυνατοι', ']'], 'aspect': ['οι σπαρτιατες'], 'position': [[1, 2]], 'sentiment': ['Positive'], 'probs': [[0.05739470198750496, 0.9426052570343018]], 'confidence': [0.9426]}, {'sentence': '[ οι μυκηναιοι ειναι καλοι ]', 'IOB': ['O', 'B-ASP', 'I-ASP', 'O', 'O', 'O'], 'tokens': ['[', 'οι', 'μυκηναιοι', 'ειναι', 'καλοι', ']'], 'aspect': ['οι μυκηναιοι'], 'position': [[1, 2]], 'sentiment': ['Positive'], 'probs': [[0.11120950430631638, 0.888790488243103]], 'confidence': [0.8888]}, {'sentence': '[ οι trojan ειναι γρηγοροι ]', 'IOB': ['O', 'B-ASP', 'I-ASP', 'O', 'O', 'O'], 'tokens': ['[', 'οι', 'trojan', 'ειναι', 'γρηγοροι', ']'], 'aspect': ['οι trojan'], 'position': [[1, 2]], 'sentiment': ['Positive'], 'probs': [[0.3292655050754547, 0.6707344651222229]], 'confidence': [0.6707]}, {'sentence': '[ οι ελληνες ηταν κακοι ]', 'IOB': ['O', 'B-ASP', 'I-ASP', 'O', 'O', 'O'], 'tokens': ['[', 'οι', 'ελληνες', 'ηταν', 'κακοι', ']'], 'aspect': ['οι ελληνες'], 'position': [[1, 2]], 'sentiment': ['Negative'], 'probs': [[0.9582710266113281, 0.041728973388671875]], 'confidence': [0.9583]}, {'sentence': '[ οι ρωμαιος ειναι κακοι ]', 'IOB': ['O', 'B-ASP', 'I-ASP', 'O', 'O', 'O'], 'tokens': ['[', 'οι', 'ρωμαιος', 'ειναι', 'κακοι', ']'], 'aspect': ['οι ρωμαιος'], 'position': [[1, 2]], 'sentiment': ['Negative'], 'probs': [[0.9593707323074341, 0.04062925651669502]], 'confidence': [0.9594]}, {'sentence': '[ οι ρωμαιοι ειναι αγενεις ]', 'IOB': ['O', 'B-ASP', 'I-ASP', 'O', 'O', 'O'], 'tokens': ['[', 'οι', 'ρωμαιοι', 'ειναι', 'αγενεις', ']'], 'aspect': ['οι ρωμαιοι'], 'position': [[1, 2]], 'sentiment': ['Negative'], 'probs': [[0.9427276849746704, 0.05727231875061989]], 'confidence': [0.9427]}, {'sentence': '[ οι σκλαβοι ειναι κακοι ]', 'IOB': ['O', 'B-ASP', 'I-ASP', 'O', 'O', 'O'], 'tokens': ['[', 'οι', 'σκλαβοι', 'ειναι', 'κακοι', ']'], 'aspect': ['οι σκλαβοι'], 'position': [[1, 2]], 'sentiment': ['Negative'], 'probs': [[0.9597868323326111, 0.0402132049202919]], 'confidence': [0.9598]}, {'sentence': '[ οι αντρες ειναι σκληροι ]', 'IOB': ['O', 'B-ASP', 'I-ASP', 'O', 'O', 'O'], 'tokens': ['[', 'οι', 'αντρες', 'ειναι', 'σκληροι', ']'], 'aspect': ['οι αντρες'], 'position': [[1, 2]], 'sentiment': ['Negative'], 'probs': [[0.962583601474762, 0.03741636127233505]], 'confidence': [0.9626]}]\n"
     ]
    },
    {
     "name": "stderr",
     "output_type": "stream",
     "text": [
      "d:\\ANACONDA\\envs\\pyabsa2.3\\lib\\site-packages\\pyabsa\\tasks\\AspectTermExtraction\\prediction\\aspect_extractor.py:568: UserWarning: Creating a tensor from a list of numpy.ndarrays is extremely slow. Please consider converting the list to a single numpy.ndarray with numpy.array() before converting to a tensor. (Triggered internally at C:\\actions-runner\\_work\\pytorch\\pytorch\\builder\\windows\\pytorch\\torch\\csrc\\utils\\tensor_new.cpp:233.)\n",
      "  lcf_cdm_vec = torch.tensor(\n",
      "d:\\ANACONDA\\envs\\pyabsa2.3\\lib\\site-packages\\pyabsa\\tasks\\AspectTermExtraction\\prediction\\aspect_extractor.py:649: UserWarning: Implicit dimension choice for softmax has been deprecated. Change the call to include dim=X as an argument.\n",
      "  float(x) for x in F.softmax(i_apc_logits).cpu().numpy().tolist()\n"
     ]
    },
    {
     "data": {
      "text/plain": [
       "'\\ninference_source = ATEPC.ATEPCDatasetList.Restaurant16\\natepc_result = aspect_extractor.batch_predict(target_file=inference_source,  #\\n                                              save_result=True,\\n                                              print_result=True,  # print the result\\n                                              pred_sentiment=True,  # Predict the sentiment of extracted aspect terms\\n                                              )\\n\\nprint(atepc_result)\\n'"
      ]
     },
     "execution_count": 1,
     "metadata": {},
     "output_type": "execute_result"
    }
   ],
   "source": [
    "from pyabsa import AspectTermExtraction as ATEPC, available_checkpoints\n",
    "import unicodedata\n",
    "#οι Ρωμαίοι είναι κακοί\n",
    "\n",
    "def strip_accents_and_lowercase(s):\n",
    "   return ''.join(c for c in unicodedata.normalize('NFD', s)\n",
    "                  if unicodedata.category(c) != 'Mn').lower()\n",
    "\n",
    "\n",
    "def normalize(array):\n",
    "   for i,item in enumerate(array):\n",
    "      array[i]=strip_accents_and_lowercase(item)\n",
    "   pass\n",
    "\n",
    "\n",
    "\n",
    "# You can inference from a list of setences or a DatasetItem from PyABSA \n",
    "greek = [\n",
    "#ACCUSATIVE POSITVE\n",
    "'[σώζω τους Έλληνες]', # i save greeks 0\n",
    "'[μου αρέσουν οι Σπαρτιάτες]', # i like spartans 1\n",
    "'[Λατρεύω τους Μυκηναίους]', # i love mycenaens 2\n",
    "'[υπερασπιζόμουν τους Τρώες]', # i defended the trojans 3\n",
    "\n",
    "#ACCUSATIVE NEGATIVE\n",
    "'[μισώ τους Ρωμαίους]', #i hate romans 4\n",
    "'[αντιπαθώ τους Ρωμαίους]', # i dislike romans 5\n",
    "'[αντιπαθώ τους σκλάβους]', # i dislike slaves 6\n",
    "'[σκοτώνω άντρες]', # i kill men 7\n",
    "\n",
    "#positve nominitive\n",
    "'[οι Ρωμαίοι είναι καλοί]', #romans are good 8\n",
    "'[οι Έλληνες εναι ωραίοι]', # greeks are nice 9\n",
    "'[οι Σπαρτιάτες είναι δυνατοί]', # spartans are strong 10\n",
    "'[οι μυκηναιοι ειναι καλοι]', # mycenaens are good 11\n",
    "'[οι trojan είναι γρήγοροι]', # trojans are fast 12\n",
    "\n",
    "#Negative nominitive\n",
    "'[οι Έλληνες ήταν κακοί]', # greeks were bad 13\n",
    "'[οι ρωμαιος ειναι κακοι]', # Romans are bad 14\n",
    "'[οι Ρωμαίοι είναι αγενείς]', # Romans are rude 15\n",
    "'[οι σκλάβοι είναι κακοί]', # Slaves are evil 16\n",
    "'[οι άντρες είναι σκληροί]', # men are cruel 17\n",
    "]\n",
    "normalize(greek)\n",
    "# you can view all available checkpoints by calling available_checkpoints()\n",
    "#checkpoint_map = available_checkpoints()\n",
    "\n",
    "aspect_extractor = ATEPC.AspectExtractor(checkpoint='fast_lcf_atepc_Greek_cdw_apcacc_92.65_apcf1_92.61_atef1_100.0',\n",
    "                                         auto_device=True,  # False means load model on CPU\n",
    "                                         cal_perplexity=True,\n",
    "                                         )\n",
    "\n",
    "#inference_source = ATEPC.ATEPCDatasetList.Restaurant16\n",
    "atepc_result = aspect_extractor.batch_predict(target_file=greek,  #\n",
    "                                              save_result=False,\n",
    "                                              print_result=True,  # print the result\n",
    "                                              pred_sentiment=True,  # Predict the sentiment of extracted aspect terms\n",
    "                                              )\n",
    "print(atepc_result)\n",
    "'''\n",
    "# instance inference\n",
    "aspect_extractor.predict(['I hate this movie, it is so awful!'],\n",
    "                         save_result=True,\n",
    "                         print_result=True,  # print the result\n",
    "                         ignore_error=True,  # ignore the error when the model cannot predict the input\n",
    "                         )\n",
    "'''\n",
    "'''\n",
    "inference_source = ATEPC.ATEPCDatasetList.Restaurant16\n",
    "atepc_result = aspect_extractor.batch_predict(target_file=inference_source,  #\n",
    "                                              save_result=True,\n",
    "                                              print_result=True,  # print the result\n",
    "                                              pred_sentiment=True,  # Predict the sentiment of extracted aspect terms\n",
    "                                              )\n",
    "\n",
    "print(atepc_result)\n",
    "'''"
   ]
  }
 ],
 "metadata": {
  "kernelspec": {
   "display_name": "pyabsa2.3",
   "language": "python",
   "name": "python3"
  },
  "language_info": {
   "codemirror_mode": {
    "name": "ipython",
    "version": 3
   },
   "file_extension": ".py",
   "mimetype": "text/x-python",
   "name": "python",
   "nbconvert_exporter": "python",
   "pygments_lexer": "ipython3",
   "version": "3.8.18"
  },
  "orig_nbformat": 4
 },
 "nbformat": 4,
 "nbformat_minor": 2
}
