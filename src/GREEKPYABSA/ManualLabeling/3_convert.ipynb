{
 "cells": [
  {
   "cell_type": "code",
   "execution_count": 4,
   "metadata": {},
   "outputs": [
    {
     "name": "stdout",
     "output_type": "stream",
     "text": [
      "[2023-11-13 14:36:10] (2.3.3) To ensure your conversion is successful, make sure the dataset name contain \"apc\" and \"dataset\" string \n",
      "[2023-11-13 14:36:10] (2.3.3) Find datasets files at output/custom.apc.train.txt:\n",
      "[2023-11-13 14:36:10] (2.3.3) coverting output/custom.apc.train.txt to output/custom.apc.train.txt.atepc\n",
      "[2023-11-13 14:36:10] (2.3.3) finished\n"
     ]
    }
   ],
   "source": [
    "#Before convertin you have to have all data labled or it fails,\n",
    "# this function will try and strip file of all unlabled data\n"
   ]
  },
  {
   "cell_type": "code",
   "execution_count": null,
   "metadata": {},
   "outputs": [],
   "source": []
  },
  {
   "cell_type": "code",
   "execution_count": 1,
   "metadata": {},
   "outputs": [
    {
     "name": "stderr",
     "output_type": "stream",
     "text": [
      "d:\\ANACONDA\\envs\\pyabsa2.3\\lib\\site-packages\\tqdm\\auto.py:21: TqdmWarning: IProgress not found. Please update jupyter and ipywidgets. See https://ipywidgets.readthedocs.io/en/stable/user_install.html\n",
      "  from .autonotebook import tqdm as notebook_tqdm\n"
     ]
    },
    {
     "name": "stdout",
     "output_type": "stream",
     "text": [
      "[2023-11-13 14:39:07] (2.3.3) \u001b[31mPyABSA(2.3.3): If your code crashes on Colab, please use the GPU runtime. Then run \"pip install pyabsa[dev] -U\" and restart the kernel.\n",
      "Or if it does not work, you can use v1.x versions, e.g., pip install pyabsa<2.0 -U\n",
      "\n",
      "\n",
      "\n",
      "\n",
      "WARNING: When you fails to load a checkpoint, e.g., Unexpected key(s),\n",
      "Try to downgrade transformers<=4.29.0.\n",
      "\n",
      "\n",
      "\n",
      "\u001b[0m\n",
      "[2023-11-13 14:39:17] (2.3.3) To ensure your conversion is successful, make sure the dataset name contain \"apc\" and \"dataset\" string \n",
      "[2023-11-13 14:39:17] (2.3.3) Find datasets files at output/custom.apc.train(6).txt:\n",
      "[2023-11-13 14:39:17] (2.3.3) coverting output/custom.apc.train(6).txt to output/custom.apc.train(6).txt.atepc\n",
      "[2023-11-13 14:39:17] (2.3.3) Ignore Error: iPhone13 是 我 使 用 过 最 好 的 手 机 之 一 ， 唯 一 的 缺 点 是 电 池 不 够 耐 用\n",
      "[2023-11-13 14:39:17] (2.3.3) Ignore Error: Positive\n",
      "[2023-11-13 14:39:17] (2.3.3) Ignore Error: Positive\n",
      "[2023-11-13 14:39:17] (2.3.3) finished\n"
     ]
    },
    {
     "name": "stderr",
     "output_type": "stream",
     "text": [
      "d:\\ANACONDA\\envs\\pyabsa2.3\\lib\\multiprocessing\\pool.py:265: ResourceWarning: unclosed running multiprocessing pool <multiprocessing.pool.Pool state=RUN pool_size=1>\n",
      "  _warn(f\"unclosed running multiprocessing pool {self!r}\",\n",
      "ResourceWarning: Enable tracemalloc to get the object allocation traceback\n"
     ]
    }
   ],
   "source": [
    "# -*- coding: utf-8 -*-\n",
    "# file: convert_apc_dataset_to_atepc_dataset.py\n",
    "# time: 04/08/2022 11:12\n",
    "# author: yangheng <hy345@exeter.ac.uk>\n",
    "# github: https://github.com/yangheng95\n",
    "# GScholar: https://scholar.google.com/citations?user=NPq5a_0AAAAJ&hl=en\n",
    "# ResearchGate: https://www.researchgate.net/profile/Heng-Yang-17/research\n",
    "# Copyright (C) 2021. All Rights Reserved.\n",
    "from pyabsa import convert_apc_set_to_atepc_set\n",
    "\n",
    "convert_apc_set_to_atepc_set('output/custom.apc.train(6).txt')  # for custom datasets, absolute path recommended for this function\n"
   ]
  }
 ],
 "metadata": {
  "kernelspec": {
   "display_name": "pyabsa2.3",
   "language": "python",
   "name": "python3"
  },
  "language_info": {
   "codemirror_mode": {
    "name": "ipython",
    "version": 3
   },
   "file_extension": ".py",
   "mimetype": "text/x-python",
   "name": "python",
   "nbconvert_exporter": "python",
   "pygments_lexer": "ipython3",
   "version": "3.8.18"
  },
  "orig_nbformat": 4
 },
 "nbformat": 4,
 "nbformat_minor": 2
}
