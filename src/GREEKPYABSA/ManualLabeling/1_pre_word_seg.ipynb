{
 "cells": [
  {
   "cell_type": "code",
   "execution_count": 3,
   "metadata": {},
   "outputs": [
    {
     "ename": "FileNotFoundError",
     "evalue": "[Errno 2] No such file or directory: 'input/GeekSample.csv'",
     "output_type": "error",
     "traceback": [
      "\u001b[1;31m---------------------------------------------------------------------------\u001b[0m",
      "\u001b[1;31mFileNotFoundError\u001b[0m                         Traceback (most recent call last)",
      "Cell \u001b[1;32mIn[3], line 45\u001b[0m\n\u001b[0;32m     30\u001b[0m seg_fn \u001b[39m=\u001b[39m jieba\u001b[39m.\u001b[39mcut\n\u001b[0;32m     32\u001b[0m \u001b[39m# # 2. pkuseg segmentation\u001b[39;00m\n\u001b[0;32m     33\u001b[0m \u001b[39m# import pkuseg\u001b[39;00m\n\u001b[0;32m     34\u001b[0m \u001b[39m# seg_fn = pkuseg.pkuseg.cut\u001b[39;00m\n\u001b[1;32m   (...)\u001b[0m\n\u001b[0;32m     42\u001b[0m \u001b[39m# from wordsegment import load, segment\u001b[39;00m\n\u001b[0;32m     43\u001b[0m \u001b[39m# seg_fn = segment\u001b[39;00m\n\u001b[1;32m---> 45\u001b[0m pre_word_segment(file\u001b[39m=\u001b[39;49m\u001b[39m'\u001b[39;49m\u001b[39minput/GeekSample.csv\u001b[39;49m\u001b[39m'\u001b[39;49m, seg_fn\u001b[39m=\u001b[39;49mseg_fn)\n",
      "Cell \u001b[1;32mIn[3], line 12\u001b[0m, in \u001b[0;36mpre_word_segment\u001b[1;34m(file, seg_fn)\u001b[0m\n\u001b[0;32m     10\u001b[0m \u001b[39mdef\u001b[39;00m \u001b[39mpre_word_segment\u001b[39m(file\u001b[39m=\u001b[39m\u001b[39mNone\u001b[39;00m, seg_fn\u001b[39m=\u001b[39m\u001b[39mNone\u001b[39;00m):\n\u001b[1;32m---> 12\u001b[0m     \u001b[39mwith\u001b[39;00m \u001b[39mopen\u001b[39;49m(file, mode\u001b[39m=\u001b[39;49m\u001b[39m'\u001b[39;49m\u001b[39mr\u001b[39;49m\u001b[39m'\u001b[39;49m, encoding\u001b[39m=\u001b[39;49m\u001b[39m'\u001b[39;49m\u001b[39mutf8\u001b[39;49m\u001b[39m'\u001b[39;49m) \u001b[39mas\u001b[39;00m fin:\n\u001b[0;32m     13\u001b[0m         \u001b[39mwith\u001b[39;00m \u001b[39mopen\u001b[39m(file\u001b[39m+\u001b[39m\u001b[39m'\u001b[39m\u001b[39m.seg\u001b[39m\u001b[39m'\u001b[39m, mode\u001b[39m=\u001b[39m\u001b[39m'\u001b[39m\u001b[39mw\u001b[39m\u001b[39m'\u001b[39m, encoding\u001b[39m=\u001b[39m\u001b[39m'\u001b[39m\u001b[39mutf8\u001b[39m\u001b[39m'\u001b[39m) \u001b[39mas\u001b[39;00m fout:\n\u001b[0;32m     14\u001b[0m             \u001b[39mfor\u001b[39;00m line \u001b[39min\u001b[39;00m fin:\n",
      "File \u001b[1;32md:\\ANACONDA\\envs\\pyabsa2.3\\lib\\site-packages\\IPython\\core\\interactiveshell.py:284\u001b[0m, in \u001b[0;36m_modified_open\u001b[1;34m(file, *args, **kwargs)\u001b[0m\n\u001b[0;32m    277\u001b[0m \u001b[39mif\u001b[39;00m file \u001b[39min\u001b[39;00m {\u001b[39m0\u001b[39m, \u001b[39m1\u001b[39m, \u001b[39m2\u001b[39m}:\n\u001b[0;32m    278\u001b[0m     \u001b[39mraise\u001b[39;00m \u001b[39mValueError\u001b[39;00m(\n\u001b[0;32m    279\u001b[0m         \u001b[39mf\u001b[39m\u001b[39m\"\u001b[39m\u001b[39mIPython won\u001b[39m\u001b[39m'\u001b[39m\u001b[39mt let you open fd=\u001b[39m\u001b[39m{\u001b[39;00mfile\u001b[39m}\u001b[39;00m\u001b[39m by default \u001b[39m\u001b[39m\"\u001b[39m\n\u001b[0;32m    280\u001b[0m         \u001b[39m\"\u001b[39m\u001b[39mas it is likely to crash IPython. If you know what you are doing, \u001b[39m\u001b[39m\"\u001b[39m\n\u001b[0;32m    281\u001b[0m         \u001b[39m\"\u001b[39m\u001b[39myou can use builtins\u001b[39m\u001b[39m'\u001b[39m\u001b[39m open.\u001b[39m\u001b[39m\"\u001b[39m\n\u001b[0;32m    282\u001b[0m     )\n\u001b[1;32m--> 284\u001b[0m \u001b[39mreturn\u001b[39;00m io_open(file, \u001b[39m*\u001b[39;49margs, \u001b[39m*\u001b[39;49m\u001b[39m*\u001b[39;49mkwargs)\n",
      "\u001b[1;31mFileNotFoundError\u001b[0m: [Errno 2] No such file or directory: 'input/GeekSample.csv'"
     ]
    }
   ],
   "source": [
    "# -*- coding: utf-8 -*-\n",
    "# file: pre_segment_non_enlish_data.py\n",
    "# time: 2022/8/4\n",
    "# author: yangheng <hy345@exeter.ac.uk>\n",
    "# github: https://github.com/yangheng95\n",
    "# huggingface: https://huggingface.co/yangheng\n",
    "# google scholar: https://scholar.google.com/citations?user=NPq5a_0AAAAJ&hl=en\n",
    "# Copyright (C) 2021. All Rights Reserved.\n",
    "\n",
    "def pre_word_segment(file=None, seg_fn=None):\n",
    "\n",
    "    with open(file, mode='r', encoding='utf8') as fin:\n",
    "        with open(file+'.seg', mode='w', encoding='utf8') as fout:\n",
    "            for line in fin:\n",
    "                line = line.strip()\n",
    "                if line:\n",
    "                    fout.write(' '.join(seg_fn(line)) + '\\n')\n",
    "                else:\n",
    "                    fout.write('\\n')\n",
    "\n",
    "    print('segmentation done!')\n",
    "\n",
    "\n",
    "if __name__ == '__main__':\n",
    "    # Before annotating non-blank segmented text, you need to segment the data.\n",
    "    # You can try other word segmentation tools here and PR to this repo.\n",
    "\n",
    "    # 1. jieba segmentation\n",
    "    import jieba\n",
    "    seg_fn = jieba.cut\n",
    "\n",
    "    # # 2. pkuseg segmentation\n",
    "    # import pkuseg\n",
    "    # seg_fn = pkuseg.pkuseg.cut\n",
    "\n",
    "    # # 3. THULAC segmentation\n",
    "    # import thulac\n",
    "    # seg_fn = thulac.thulac(seg_only=True).cut\n",
    "\n",
    "    # # 4. wordsegment segmentation\n",
    "    # import wordsegment\n",
    "    # from wordsegment import load, segment\n",
    "    # seg_fn = segment\n",
    "\n",
    "    pre_word_segment(file='input/EnglishSample.csv', seg_fn=seg_fn)\n",
    "\n"
   ]
  }
 ],
 "metadata": {
  "kernelspec": {
   "display_name": "pyabsa2.3",
   "language": "python",
   "name": "python3"
  },
  "language_info": {
   "codemirror_mode": {
    "name": "ipython",
    "version": 3
   },
   "file_extension": ".py",
   "mimetype": "text/x-python",
   "name": "python",
   "nbconvert_exporter": "python",
   "pygments_lexer": "ipython3",
   "version": "3.8.18"
  },
  "orig_nbformat": 4
 },
 "nbformat": 4,
 "nbformat_minor": 2
}
