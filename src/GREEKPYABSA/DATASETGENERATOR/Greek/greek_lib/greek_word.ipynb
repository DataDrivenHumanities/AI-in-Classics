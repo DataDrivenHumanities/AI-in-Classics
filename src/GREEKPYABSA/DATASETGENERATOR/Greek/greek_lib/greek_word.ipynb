{
 "cells": [
  {
   "cell_type": "code",
   "execution_count": 1,
   "metadata": {},
   "outputs": [],
   "source": [
    "class GreekWord:\n",
    "    base_word = \"none\"\n",
    "    sentiment=\"none\"\n",
    "    url=\"none\"\n",
    "    filepath= \"none\"\n",
    "    gender = \"none\"\n",
    "    variations= \"none\" #pandas dataframe conjugation or declension\n"
   ]
  }
 ],
 "metadata": {
  "kernelspec": {
   "display_name": "pyabsa2.3",
   "language": "python",
   "name": "python3"
  },
  "language_info": {
   "codemirror_mode": {
    "name": "ipython",
    "version": 3
   },
   "file_extension": ".py",
   "mimetype": "text/x-python",
   "name": "python",
   "nbconvert_exporter": "python",
   "pygments_lexer": "ipython3",
   "version": "3.8.18"
  }
 },
 "nbformat": 4,
 "nbformat_minor": 2
}
