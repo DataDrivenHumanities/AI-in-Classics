{
 "cells": [
  {
   "cell_type": "code",
   "execution_count": null,
   "metadata": {},
   "outputs": [],
   "source": [
    "class GreekWord:\n",
    "    base_word = \"none\"\n",
    "    sentiment=\"none\"\n",
    "    url=\"none\"\n",
    "    filepath= \"none\"\n",
    "    gender = \"none\"\n",
    "    variations= \"none\" #pandas dataframe conjugation or declension\n"
   ]
  }
 ],
 "metadata": {
  "language_info": {
   "name": "python"
  }
 },
 "nbformat": 4,
 "nbformat_minor": 2
}
