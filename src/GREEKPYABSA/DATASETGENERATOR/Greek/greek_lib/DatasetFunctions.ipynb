{
 "cells": [
  {
   "cell_type": "code",
   "execution_count": null,
   "metadata": {},
   "outputs": [],
   "source": [
    "def random_sample(path,num):\n",
    "#READS A RANDOM SAMPLE FROM A FILE AND APPENDS IT TO AN ARRAY\n",
    "    sample = []\n",
    "    with open(path,\"r\",encoding=\"utf-8\") as f:\n",
    "\n",
    "        data = f.read().split('\\n\\n')\n",
    "        for i in range (num):\n",
    "            sample.append(random.choice(data))\n",
    "\n",
    "        # read untill double new line\n",
    "        # append string to array\n",
    "    return sample\n",
    "\n",
    "def sample_to_dataset(sample,name):\n",
    "# ideally every entry inside of the array should be a complete dataset entry ready to be outputted directly into a file one after another\n",
    "    with open(name,\"+w\",encoding=\"utf-8\") as f:\n",
    "        for s in(sample):\n",
    "            f.write(f\"{s}\\n\\n\")\n",
    "\n",
    "def shuffle_datasets(paths,type='test',num=2000):\n",
    "#shuffle all datasets in the paths given to it and then outputs it into a new file\n",
    "    combined = []\n",
    "    for p in paths:\n",
    "        #pos =random_sample(f\"{p[0]}\",int(num/(2*len(paths))))\n",
    "        #neg =random_sample(f\"{p[1]}\",int(num/(2*len(paths))))\n",
    "        randomSample=random_sample(f\"{p}\",int(num/(len(paths))))\n",
    "        combined += randomSample\n",
    "    random.shuffle(combined)\n",
    "    sample_to_dataset(combined,f\"greek_output/Final/greek.{type}.txt.atepc\")"
   ]
  }
 ],
 "metadata": {
  "language_info": {
   "name": "python"
  },
  "orig_nbformat": 4
 },
 "nbformat": 4,
 "nbformat_minor": 2
}
